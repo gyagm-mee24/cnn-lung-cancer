{
 "cells": [
  {
   "cell_type": "markdown",
   "metadata": {},
   "source": [
    "# Download do dataset"
   ]
  },
  {
   "cell_type": "code",
   "execution_count": null,
   "metadata": {},
   "outputs": [],
   "source": [
    "import kagglehub\n",
    "\n",
    "# Download latest version\n",
    "# Direct link: https://www.kaggle.com/datasets/subhajeetdas/iq-othnccd-lung-cancer-dataset-augmented/data\n",
    "path = kagglehub.dataset_download(\"subhajeetdas/iq-othnccd-lung-cancer-dataset-augmented\")\n",
    "\n",
    "print(\"Path to dataset files:\", path)"
   ]
  },
  {
   "cell_type": "markdown",
   "metadata": {},
   "source": [
    "# Importando as Bibliotecas"
   ]
  },
  {
   "cell_type": "code",
   "execution_count": 95,
   "metadata": {
    "execution": {
     "iopub.execute_input": "2025-02-19T19:20:10.774956Z",
     "iopub.status.busy": "2025-02-19T19:20:10.774358Z",
     "iopub.status.idle": "2025-02-19T19:20:12.174850Z",
     "shell.execute_reply": "2025-02-19T19:20:12.173973Z",
     "shell.execute_reply.started": "2025-02-19T19:20:10.774925Z"
    },
    "trusted": true
   },
   "outputs": [],
   "source": [
    "import numpy as np\n",
    "import pandas as pd\n",
    "import plotly.express as px\n",
    "import matplotlib.pyplot as plt\n",
    "import plotly.graph_objects as go\n",
    "\n",
    "import os\n",
    "import cv2"
   ]
  },
  {
   "cell_type": "markdown",
   "metadata": {},
   "source": [
    "# Organizando o dataset"
   ]
  },
  {
   "cell_type": "code",
   "execution_count": null,
   "metadata": {
    "execution": {
     "iopub.execute_input": "2025-02-19T19:20:15.104209Z",
     "iopub.status.busy": "2025-02-19T19:20:15.103407Z",
     "iopub.status.idle": "2025-02-19T19:20:15.204978Z",
     "shell.execute_reply": "2025-02-19T19:20:15.204320Z",
     "shell.execute_reply.started": "2025-02-19T19:20:15.104179Z"
    },
    "trusted": true
   },
   "outputs": [
    {
     "data": {
      "text/html": [
       "<div>\n",
       "<style scoped>\n",
       "    .dataframe tbody tr th:only-of-type {\n",
       "        vertical-align: middle;\n",
       "    }\n",
       "\n",
       "    .dataframe tbody tr th {\n",
       "        vertical-align: top;\n",
       "    }\n",
       "\n",
       "    .dataframe thead th {\n",
       "        text-align: right;\n",
       "    }\n",
       "</style>\n",
       "<table border=\"1\" class=\"dataframe\">\n",
       "  <thead>\n",
       "    <tr style=\"text-align: right;\">\n",
       "      <th></th>\n",
       "      <th>img_path</th>\n",
       "      <th>label</th>\n",
       "    </tr>\n",
       "  </thead>\n",
       "  <tbody>\n",
       "    <tr>\n",
       "      <th>0</th>\n",
       "      <td>C:\\Users\\gmitoso\\.cache\\kagglehub\\datasets\\sub...</td>\n",
       "      <td>Benign cases</td>\n",
       "    </tr>\n",
       "    <tr>\n",
       "      <th>1</th>\n",
       "      <td>C:\\Users\\gmitoso\\.cache\\kagglehub\\datasets\\sub...</td>\n",
       "      <td>Benign cases</td>\n",
       "    </tr>\n",
       "    <tr>\n",
       "      <th>2</th>\n",
       "      <td>C:\\Users\\gmitoso\\.cache\\kagglehub\\datasets\\sub...</td>\n",
       "      <td>Benign cases</td>\n",
       "    </tr>\n",
       "    <tr>\n",
       "      <th>3</th>\n",
       "      <td>C:\\Users\\gmitoso\\.cache\\kagglehub\\datasets\\sub...</td>\n",
       "      <td>Benign cases</td>\n",
       "    </tr>\n",
       "    <tr>\n",
       "      <th>4</th>\n",
       "      <td>C:\\Users\\gmitoso\\.cache\\kagglehub\\datasets\\sub...</td>\n",
       "      <td>Benign cases</td>\n",
       "    </tr>\n",
       "  </tbody>\n",
       "</table>\n",
       "</div>"
      ],
      "text/plain": [
       "                                            img_path         label\n",
       "0  C:\\Users\\gmitoso\\.cache\\kagglehub\\datasets\\sub...  Benign cases\n",
       "1  C:\\Users\\gmitoso\\.cache\\kagglehub\\datasets\\sub...  Benign cases\n",
       "2  C:\\Users\\gmitoso\\.cache\\kagglehub\\datasets\\sub...  Benign cases\n",
       "3  C:\\Users\\gmitoso\\.cache\\kagglehub\\datasets\\sub...  Benign cases\n",
       "4  C:\\Users\\gmitoso\\.cache\\kagglehub\\datasets\\sub...  Benign cases"
      ]
     },
     "execution_count": 97,
     "metadata": {},
     "output_type": "execute_result"
    }
   ],
   "source": [
    "# path = \"para download manual configure o path do dataset\"\n",
    "bengin_path = path + r\"/Augmented IQ-OTHNCCD lung cancer dataset/Benign cases\"\n",
    "malignant_path = path + r\"/Augmented IQ-OTHNCCD lung cancer dataset/Malignant cases\"\n",
    "normal_path = path + r\"/Augmented IQ-OTHNCCD lung cancer dataset/Normal cases\"\n",
    "\n",
    "img_classes = [\"Benign cases\", \"Malignant cases\", \"Normal cases\"]\n",
    "path_list = [bengin_path, malignant_path, normal_path]\n",
    "\n",
    "img_path = []\n",
    "class_labels = []\n",
    "counts = {\"Benign cases\": 0, \"Malignant cases\": 0, \"Normal cases\": 0}\n",
    "for i, dir_list in enumerate(path_list):\n",
    "    name_img = os.listdir(dir_list)\n",
    "    for name_file in name_img:\n",
    "        img = os.path.join(dir_list,name_file)\n",
    "        img_path.append(img)\n",
    "        class_labels.append(img_classes[i])\n",
    "        counts[img_classes[i]] = counts[img_classes[i]] + 1\n",
    "\n",
    "df = pd.DataFrame({\"img_path\" : img_path,\n",
    "                  \"label\" : class_labels})\n",
    "\n",
    "df.head()"
   ]
  },
  {
   "cell_type": "markdown",
   "metadata": {},
   "source": [
    "# Visualizando as imagens"
   ]
  },
  {
   "cell_type": "code",
   "execution_count": 98,
   "metadata": {
    "execution": {
     "iopub.execute_input": "2025-02-19T19:20:18.686158Z",
     "iopub.status.busy": "2025-02-19T19:20:18.685731Z",
     "iopub.status.idle": "2025-02-19T19:20:19.985831Z",
     "shell.execute_reply": "2025-02-19T19:20:19.985008Z",
     "shell.execute_reply.started": "2025-02-19T19:20:18.686131Z"
    },
    "trusted": true
   },
   "outputs": [
    {
     "data": {
      "image/png": "[encoded data removed]",
      "text/plain": [
       "<Figure size 800x800 with 3 Axes>"
      ]
     },
     "metadata": {},
     "output_type": "display_data"
    },
    {
     "data": {
      "image/png": "[encoded data removed]",
      "text/plain": [
       "<Figure size 800x800 with 3 Axes>"
      ]
     },
     "metadata": {},
     "output_type": "display_data"
    },
    {
     "data": {
      "image/png": "[encoded data removed]",
      "text/plain": [
       "<Figure size 800x800 with 3 Axes>"
      ]
     },
     "metadata": {},
     "output_type": "display_data"
    }
   ],
   "source": [
    "for category, group in df.groupby(\"label\"):\n",
    "    fig, ax = plt.subplots(1,3, figsize = (8,8))\n",
    "    ax = ax.ravel()\n",
    "    for i, (_,r) in enumerate(group.sample(3).iterrows()):\n",
    "        img = cv2.imread(r.img_path)\n",
    "        ax[i].imshow(img)\n",
    "        ax[i].axis(\"off\")\n",
    "        ax[i].set_title(r.label)\n",
    "    plt.show()"
   ]
  },
  {
   "cell_type": "markdown",
   "metadata": {},
   "source": [
    "# Explorando os dados"
   ]
  },
  {
   "cell_type": "markdown",
   "metadata": {},
   "source": [
    "## Histograma"
   ]
  },
  {
   "cell_type": "code",
   "execution_count": 100,
   "metadata": {
    "execution": {
     "iopub.execute_input": "2025-02-19T19:31:12.202041Z",
     "iopub.status.busy": "2025-02-19T19:31:12.201641Z",
     "iopub.status.idle": "2025-02-19T19:31:12.253386Z",
     "shell.execute_reply": "2025-02-19T19:31:12.252549Z",
     "shell.execute_reply.started": "2025-02-19T19:31:12.202011Z"
    },
    "trusted": true
   },
   "outputs": [
    {
     "data": {
      "application/vnd.plotly.v1+json": {
       "config": {
        "plotlyServerURL": "https://plot.ly"
       },
       "data": [
        {
         "bingroup": "x",
         "histfunc": "sum",
         "hovertemplate": "label=%{x}<br>sum of count=%{y}<extra></extra>",
         "legendgroup": "Benign",
         "marker": {
          "color": "#636efa",
          "pattern": {
           "shape": ""
          }
         },
         "name": "Benign",
         "orientation": "v",
         "showlegend": true,
         "type": "histogram",
         "x": [
          "Benign"
         ],
         "xaxis": "x",
         "y": {
          "bdata": "sAQ=",
          "dtype": "i2"
         },
         "yaxis": "y"
        },
        {
         "bingroup": "x",
         "histfunc": "sum",
         "hovertemplate": "label=%{x}<br>sum of count=%{y}<extra></extra>",
         "legendgroup": "Malignant",
         "marker": {
          "color": "#EF553B",
          "pattern": {
           "shape": ""
          }
         },
         "name": "Malignant",
         "orientation": "v",
         "showlegend": true,
         "type": "histogram",
         "x": [
          "Malignant"
         ],
         "xaxis": "x",
         "y": {
          "bdata": "sQQ=",
          "dtype": "i2"
         },
         "yaxis": "y"
        },
        {
         "bingroup": "x",
         "histfunc": "sum",
         "hovertemplate": "label=%{x}<br>sum of count=%{y}<extra></extra>",
         "legendgroup": "Normal",
         "marker": {
          "color": "#00cc96",
          "pattern": {
           "shape": ""
          }
         },
         "name": "Normal",
         "orientation": "v",
         "showlegend": true,
         "type": "histogram",
         "x": [
          "Normal"
         ],
         "xaxis": "x",
         "y": {
          "bdata": "uAQ=",
          "dtype": "i2"
         },
         "yaxis": "y"
        }
       ],
       "layout": {
        "barmode": "relative",
        "legend": {
         "title": {
          "text": "label"
         },
         "tracegroupgap": 0
        },
        "margin": {
         "t": 60
        },
        "template": {
         "data": {
          "bar": [
           {
            "error_x": {
             "color": "#2a3f5f"
            },
            "error_y": {
             "color": "#2a3f5f"
            },
            "marker": {
             "line": {
              "color": "#E5ECF6",
              "width": 0.5
             },
             "pattern": {
              "fillmode": "overlay",
              "size": 10,
              "solidity": 0.2
             }
            },
            "type": "bar"
           }
          ],
          "barpolar": [
           {
            "marker": {
             "line": {
              "color": "#E5ECF6",
              "width": 0.5
             },
             "pattern": {
              "fillmode": "overlay",
              "size": 10,
              "solidity": 0.2
             }
            },
            "type": "barpolar"
           }
          ],
          "carpet": [
           {
            "aaxis": {
             "endlinecolor": "#2a3f5f",
             "gridcolor": "white",
             "linecolor": "white",
             "minorgridcolor": "white",
             "startlinecolor": "#2a3f5f"
            },
            "baxis": {
             "endlinecolor": "#2a3f5f",
             "gridcolor": "white",
             "linecolor": "white",
             "minorgridcolor": "white",
             "startlinecolor": "#2a3f5f"
            },
            "type": "carpet"
           }
          ],
          "choropleth": [
           {
            "colorbar": {
             "outlinewidth": 0,
             "ticks": ""
            },
            "type": "choropleth"
           }
          ],
          "contour": [
           {
            "colorbar": {
             "outlinewidth": 0,
             "ticks": ""
            },
            "colorscale": [
             [
              0,
              "#0d0887"
             ],
             [
              0.1111111111111111,
              "#46039f"
             ],
             [
              0.2222222222222222,
              "#7201a8"
             ],
             [
              0.3333333333333333,
              "#9c179e"
             ],
             [
              0.4444444444444444,
              "#bd3786"
             ],
             [
              0.5555555555555556,
              "#d8576b"
             ],
             [
              0.6666666666666666,
              "#ed7953"
             ],
             [
              0.7777777777777778,
              "#fb9f3a"
             ],
             [
              0.8888888888888888,
              "#fdca26"
             ],
             [
              1,
              "#f0f921"
             ]
            ],
            "type": "contour"
           }
          ],
          "contourcarpet": [
           {
            "colorbar": {
             "outlinewidth": 0,
             "ticks": ""
            },
            "type": "contourcarpet"
           }
          ],
          "heatmap": [
           {
            "colorbar": {
             "outlinewidth": 0,
             "ticks": ""
            },
            "colorscale": [
             [
              0,
              "#0d0887"
             ],
             [
              0.1111111111111111,
              "#46039f"
             ],
             [
              0.2222222222222222,
              "#7201a8"
             ],
             [
              0.3333333333333333,
              "#9c179e"
             ],
             [
              0.4444444444444444,
              "#bd3786"
             ],
             [
              0.5555555555555556,
              "#d8576b"
             ],
             [
              0.6666666666666666,
              "#ed7953"
             ],
             [
              0.7777777777777778,
              "#fb9f3a"
             ],
             [
              0.8888888888888888,
              "#fdca26"
             ],
             [
              1,
              "#f0f921"
             ]
            ],
            "type": "heatmap"
           }
          ],
          "histogram": [
           {
            "marker": {
             "pattern": {
              "fillmode": "overlay",
              "size": 10,
              "solidity": 0.2
             }
            },
            "type": "histogram"
           }
          ],
          "histogram2d": [
           {
            "colorbar": {
             "outlinewidth": 0,
             "ticks": ""
            },
            "colorscale": [
             [
              0,
              "#0d0887"
             ],
             [
              0.1111111111111111,
              "#46039f"
             ],
             [
              0.2222222222222222,
              "#7201a8"
             ],
             [
              0.3333333333333333,
              "#9c179e"
             ],
             [
              0.4444444444444444,
              "#bd3786"
             ],
             [
              0.5555555555555556,
              "#d8576b"
             ],
             [
              0.6666666666666666,
              "#ed7953"
             ],
             [
              0.7777777777777778,
              "#fb9f3a"
             ],
             [
              0.8888888888888888,
              "#fdca26"
             ],
             [
              1,
              "#f0f921"
             ]
            ],
            "type": "histogram2d"
           }
          ],
          "histogram2dcontour": [
           {
            "colorbar": {
             "outlinewidth": 0,
             "ticks": ""
            },
            "colorscale": [
             [
              0,
              "#0d0887"
             ],
             [
              0.1111111111111111,
              "#46039f"
             ],
             [
              0.2222222222222222,
              "#7201a8"
             ],
             [
              0.3333333333333333,
              "#9c179e"
             ],
             [
              0.4444444444444444,
              "#bd3786"
             ],
             [
              0.5555555555555556,
              "#d8576b"
             ],
             [
              0.6666666666666666,
              "#ed7953"
             ],
             [
              0.7777777777777778,
              "#fb9f3a"
             ],
             [
              0.8888888888888888,
              "#fdca26"
             ],
             [
              1,
              "#f0f921"
             ]
            ],
            "type": "histogram2dcontour"
           }
          ],
          "mesh3d": [
           {
            "colorbar": {
             "outlinewidth": 0,
             "ticks": ""
            },
            "type": "mesh3d"
           }
          ],
          "parcoords": [
           {
            "line": {
             "colorbar": {
              "outlinewidth": 0,
              "ticks": ""
             }
            },
            "type": "parcoords"
           }
          ],
          "pie": [
           {
            "automargin": true,
            "type": "pie"
           }
          ],
          "scatter": [
           {
            "fillpattern": {
             "fillmode": "overlay",
             "size": 10,
             "solidity": 0.2
            },
            "type": "scatter"
           }
          ],
          "scatter3d": [
           {
            "line": {
             "colorbar": {
              "outlinewidth": 0,
              "ticks": ""
             }
            },
            "marker": {
             "colorbar": {
              "outlinewidth": 0,
              "ticks": ""
             }
            },
            "type": "scatter3d"
           }
          ],
          "scattercarpet": [
           {
            "marker": {
             "colorbar": {
              "outlinewidth": 0,
              "ticks": ""
             }
            },
            "type": "scattercarpet"
           }
          ],
          "scattergeo": [
           {
            "marker": {
             "colorbar": {
              "outlinewidth": 0,
              "ticks": ""
             }
            },
            "type": "scattergeo"
           }
          ],
          "scattergl": [
           {
            "marker": {
             "colorbar": {
              "outlinewidth": 0,
              "ticks": ""
             }
            },
            "type": "scattergl"
           }
          ],
          "scattermap": [
           {
            "marker": {
             "colorbar": {
              "outlinewidth": 0,
              "ticks": ""
             }
            },
            "type": "scattermap"
           }
          ],
          "scattermapbox": [
           {
            "marker": {
             "colorbar": {
              "outlinewidth": 0,
              "ticks": ""
             }
            },
            "type": "scattermapbox"
           }
          ],
          "scatterpolar": [
           {
            "marker": {
             "colorbar": {
              "outlinewidth": 0,
              "ticks": ""
             }
            },
            "type": "scatterpolar"
           }
          ],
          "scatterpolargl": [
           {
            "marker": {
             "colorbar": {
              "outlinewidth": 0,
              "ticks": ""
             }
            },
            "type": "scatterpolargl"
           }
          ],
          "scatterternary": [
           {
            "marker": {
             "colorbar": {
              "outlinewidth": 0,
              "ticks": ""
             }
            },
            "type": "scatterternary"
           }
          ],
          "surface": [
           {
            "colorbar": {
             "outlinewidth": 0,
             "ticks": ""
            },
            "colorscale": [
             [
              0,
              "#0d0887"
             ],
             [
              0.1111111111111111,
              "#46039f"
             ],
             [
              0.2222222222222222,
              "#7201a8"
             ],
             [
              0.3333333333333333,
              "#9c179e"
             ],
             [
              0.4444444444444444,
              "#bd3786"
             ],
             [
              0.5555555555555556,
              "#d8576b"
             ],
             [
              0.6666666666666666,
              "#ed7953"
             ],
             [
              0.7777777777777778,
              "#fb9f3a"
             ],
             [
              0.8888888888888888,
              "#fdca26"
             ],
             [
              1,
              "#f0f921"
             ]
            ],
            "type": "surface"
           }
          ],
          "table": [
           {
            "cells": {
             "fill": {
              "color": "#EBF0F8"
             },
             "line": {
              "color": "white"
             }
            },
            "header": {
             "fill": {
              "color": "#C8D4E3"
             },
             "line": {
              "color": "white"
             }
            },
            "type": "table"
           }
          ]
         },
         "layout": {
          "annotationdefaults": {
           "arrowcolor": "#2a3f5f",
           "arrowhead": 0,
           "arrowwidth": 1
          },
          "autotypenumbers": "strict",
          "coloraxis": {
           "colorbar": {
            "outlinewidth": 0,
            "ticks": ""
           }
          },
          "colorscale": {
           "diverging": [
            [
             0,
             "#8e0152"
            ],
            [
             0.1,
             "#c51b7d"
            ],
            [
             0.2,
             "#de77ae"
            ],
            [
             0.3,
             "#f1b6da"
            ],
            [
             0.4,
             "#fde0ef"
            ],
            [
             0.5,
             "#f7f7f7"
            ],
            [
             0.6,
             "#e6f5d0"
            ],
            [
             0.7,
             "#b8e186"
            ],
            [
             0.8,
             "#7fbc41"
            ],
            [
             0.9,
             "#4d9221"
            ],
            [
             1,
             "#276419"
            ]
           ],
           "sequential": [
            [
             0,
             "#0d0887"
            ],
            [
             0.1111111111111111,
             "#46039f"
            ],
            [
             0.2222222222222222,
             "#7201a8"
            ],
            [
             0.3333333333333333,
             "#9c179e"
            ],
            [
             0.4444444444444444,
             "#bd3786"
            ],
            [
             0.5555555555555556,
             "#d8576b"
            ],
            [
             0.6666666666666666,
             "#ed7953"
            ],
            [
             0.7777777777777778,
             "#fb9f3a"
            ],
            [
             0.8888888888888888,
             "#fdca26"
            ],
            [
             1,
             "#f0f921"
            ]
           ],
           "sequentialminus": [
            [
             0,
             "#0d0887"
            ],
            [
             0.1111111111111111,
             "#46039f"
            ],
            [
             0.2222222222222222,
             "#7201a8"
            ],
            [
             0.3333333333333333,
             "#9c179e"
            ],
            [
             0.4444444444444444,
             "#bd3786"
            ],
            [
             0.5555555555555556,
             "#d8576b"
            ],
            [
             0.6666666666666666,
             "#ed7953"
            ],
            [
             0.7777777777777778,
             "#fb9f3a"
            ],
            [
             0.8888888888888888,
             "#fdca26"
            ],
            [
             1,
             "#f0f921"
            ]
           ]
          },
          "colorway": [
           "#636efa",
           "#EF553B",
           "#00cc96",
           "#ab63fa",
           "#FFA15A",
           "#19d3f3",
           "#FF6692",
           "#B6E880",
           "#FF97FF",
           "#FECB52"
          ],
          "font": {
           "color": "#2a3f5f"
          },
          "geo": {
           "bgcolor": "white",
           "lakecolor": "white",
           "landcolor": "#E5ECF6",
           "showlakes": true,
           "showland": true,
           "subunitcolor": "white"
          },
          "hoverlabel": {
           "align": "left"
          },
          "hovermode": "closest",
          "mapbox": {
           "style": "light"
          },
          "paper_bgcolor": "white",
          "plot_bgcolor": "#E5ECF6",
          "polar": {
           "angularaxis": {
            "gridcolor": "white",
            "linecolor": "white",
            "ticks": ""
           },
           "bgcolor": "#E5ECF6",
           "radialaxis": {
            "gridcolor": "white",
            "linecolor": "white",
            "ticks": ""
           }
          },
          "scene": {
           "xaxis": {
            "backgroundcolor": "#E5ECF6",
            "gridcolor": "white",
            "gridwidth": 2,
            "linecolor": "white",
            "showbackground": true,
            "ticks": "",
            "zerolinecolor": "white"
           },
           "yaxis": {
            "backgroundcolor": "#E5ECF6",
            "gridcolor": "white",
            "gridwidth": 2,
            "linecolor": "white",
            "showbackground": true,
            "ticks": "",
            "zerolinecolor": "white"
           },
           "zaxis": {
            "backgroundcolor": "#E5ECF6",
            "gridcolor": "white",
            "gridwidth": 2,
            "linecolor": "white",
            "showbackground": true,
            "ticks": "",
            "zerolinecolor": "white"
           }
          },
          "shapedefaults": {
           "line": {
            "color": "#2a3f5f"
           }
          },
          "ternary": {
           "aaxis": {
            "gridcolor": "white",
            "linecolor": "white",
            "ticks": ""
           },
           "baxis": {
            "gridcolor": "white",
            "linecolor": "white",
            "ticks": ""
           },
           "bgcolor": "#E5ECF6",
           "caxis": {
            "gridcolor": "white",
            "linecolor": "white",
            "ticks": ""
           }
          },
          "title": {
           "x": 0.05
          },
          "xaxis": {
           "automargin": true,
           "gridcolor": "white",
           "linecolor": "white",
           "ticks": "",
           "title": {
            "standoff": 15
           },
           "zerolinecolor": "white",
           "zerolinewidth": 2
          },
          "yaxis": {
           "automargin": true,
           "gridcolor": "white",
           "linecolor": "white",
           "ticks": "",
           "title": {
            "standoff": 15
           },
           "zerolinecolor": "white",
           "zerolinewidth": 2
          }
         }
        },
        "xaxis": {
         "anchor": "y",
         "categoryarray": [
          "Benign",
          "Malignant",
          "Normal"
         ],
         "categoryorder": "array",
         "domain": [
          0,
          1
         ],
         "title": {
          "text": "label"
         }
        },
        "yaxis": {
         "anchor": "x",
         "domain": [
          0,
          1
         ],
         "title": {
          "text": "sum of count"
         }
        }
       }
      }
     },
     "metadata": {},
     "output_type": "display_data"
    }
   ],
   "source": [
    "count_data = pd.DataFrame({\n",
    "    \"label\": [\"Benign\", \"Malignant\", \"Normal\"],\n",
    "    \"count\": [counts[\"Benign cases\"], counts[\"Malignant cases\"], counts[\"Normal cases\"]]\n",
    "})\n",
    "# Histograma\n",
    "fig = px.histogram(data_frame=count_data, x=\"label\", y=\"count\", color=\"label\")\n",
    "fig.show()"
   ]
  },
  {
   "cell_type": "markdown",
   "metadata": {},
   "source": [
    "## Propriedade das imagens"
   ]
  },
  {
   "cell_type": "code",
   "execution_count": 101,
   "metadata": {
    "execution": {
     "iopub.execute_input": "2025-02-19T19:20:34.610862Z",
     "iopub.status.busy": "2025-02-19T19:20:34.610520Z",
     "iopub.status.idle": "2025-02-19T19:20:55.005656Z",
     "shell.execute_reply": "2025-02-19T19:20:55.004691Z",
     "shell.execute_reply.started": "2025-02-19T19:20:34.610833Z"
    },
    "trusted": true
   },
   "outputs": [],
   "source": [
    "sizes = []\n",
    "resolutions = []\n",
    "color_distributions = []\n",
    "\n",
    "for img_path in df[\"img_path\"]:\n",
    "    #load image\n",
    "    img = cv2.imread(img_path)\n",
    "    img = cv2.cvtColor(img, cv2.COLOR_BGR2RGB)\n",
    "    #Get image size\n",
    "    size = os.path.getsize(img_path)\n",
    "    sizes.append(size)\n",
    "    #Extract the resolution of images\n",
    "    resolution = img.shape[:2]\n",
    "    resolutions.append(resolution)\n",
    "    #Extract color distribution\n",
    "    mean_color_distributions = np.bincount(img.flatten(), minlength = 256)\n",
    "    color_distributions.append(mean_color_distributions)\n",
    "sizes = np.array(sizes)\n",
    "resolutions = np.array(resolutions)\n",
    "color_distributions = np.array(color_distributions)"
   ]
  },
  {
   "cell_type": "code",
   "execution_count": 102,
   "metadata": {
    "execution": {
     "iopub.execute_input": "2025-02-19T19:21:05.422949Z",
     "iopub.status.busy": "2025-02-19T19:21:05.422089Z",
     "iopub.status.idle": "2025-02-19T19:21:11.029725Z",
     "shell.execute_reply": "2025-02-19T19:21:11.028958Z",
     "shell.execute_reply.started": "2025-02-19T19:21:05.422923Z"
    },
    "trusted": true
   },
   "outputs": [
    {
     "data": {
      "application/vnd.plotly.v1+json": {
       "config": {
        "plotlyServerURL": "https://plot.ly"
       },
       "data": [
        {
         "bingroup": "x",
         "hovertemplate": "x=%{x}<br>count=%{y}<extra></extra>",
         "legendgroup": "",
         "marker": {
          "color": "green",
          "pattern": {
           "shape": ""
          }
         },
         "name": "",
         "nbinsx": 50,
         "orientation": "v",
         "showlegend": false,
         "type": "histogram",
         "x": {
          "bdata": "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",
          "dtype": "f8"
         },
         "xaxis": "x",
         "yaxis": "y"
        }
       ],
       "layout": {
        "bargap": 0.1,
        "bargroupgap": 0.1,
        "barmode": "relative",
        "legend": {
         "tracegroupgap": 0
        },
        "showlegend": false,
        "template": {
         "data": {
          "bar": [
           {
            "error_x": {
             "color": "#2a3f5f"
            },
            "error_y": {
             "color": "#2a3f5f"
            },
            "marker": {
             "line": {
              "color": "#E5ECF6",
              "width": 0.5
             },
             "pattern": {
              "fillmode": "overlay",
              "size": 10,
              "solidity": 0.2
             }
            },
            "type": "bar"
           }
          ],
          "barpolar": [
           {
            "marker": {
             "line": {
              "color": "#E5ECF6",
              "width": 0.5
             },
             "pattern": {
              "fillmode": "overlay",
              "size": 10,
              "solidity": 0.2
             }
            },
            "type": "barpolar"
           }
          ],
          "carpet": [
           {
            "aaxis": {
             "endlinecolor": "#2a3f5f",
             "gridcolor": "white",
             "linecolor": "white",
             "minorgridcolor": "white",
             "startlinecolor": "#2a3f5f"
            },
            "baxis": {
             "endlinecolor": "#2a3f5f",
             "gridcolor": "white",
             "linecolor": "white",
             "minorgridcolor": "white",
             "startlinecolor": "#2a3f5f"
            },
            "type": "carpet"
           }
          ],
          "choropleth": [
           {
            "colorbar": {
             "outlinewidth": 0,
             "ticks": ""
            },
            "type": "choropleth"
           }
          ],
          "contour": [
           {
            "colorbar": {
             "outlinewidth": 0,
             "ticks": ""
            },
            "colorscale": [
             [
              0,
              "#0d0887"
             ],
             [
              0.1111111111111111,
              "#46039f"
             ],
             [
              0.2222222222222222,
              "#7201a8"
             ],
             [
              0.3333333333333333,
              "#9c179e"
             ],
             [
              0.4444444444444444,
              "#bd3786"
             ],
             [
              0.5555555555555556,
              "#d8576b"
             ],
             [
              0.6666666666666666,
              "#ed7953"
             ],
             [
              0.7777777777777778,
              "#fb9f3a"
             ],
             [
              0.8888888888888888,
              "#fdca26"
             ],
             [
              1,
              "#f0f921"
             ]
            ],
            "type": "contour"
           }
          ],
          "contourcarpet": [
           {
            "colorbar": {
             "outlinewidth": 0,
             "ticks": ""
            },
            "type": "contourcarpet"
           }
          ],
          "heatmap": [
           {
            "colorbar": {
             "outlinewidth": 0,
             "ticks": ""
            },
            "colorscale": [
             [
              0,
              "#0d0887"
             ],
             [
              0.1111111111111111,
              "#46039f"
             ],
             [
              0.2222222222222222,
              "#7201a8"
             ],
             [
              0.3333333333333333,
              "#9c179e"
             ],
             [
              0.4444444444444444,
              "#bd3786"
             ],
             [
              0.5555555555555556,
              "#d8576b"
             ],
             [
              0.6666666666666666,
              "#ed7953"
             ],
             [
              0.7777777777777778,
              "#fb9f3a"
             ],
             [
              0.8888888888888888,
              "#fdca26"
             ],
             [
              1,
              "#f0f921"
             ]
            ],
            "type": "heatmap"
           }
          ],
          "histogram": [
           {
            "marker": {
             "pattern": {
              "fillmode": "overlay",
              "size": 10,
              "solidity": 0.2
             }
            },
            "type": "histogram"
           }
          ],
          "histogram2d": [
           {
            "colorbar": {
             "outlinewidth": 0,
             "ticks": ""
            },
            "colorscale": [
             [
              0,
              "#0d0887"
             ],
             [
              0.1111111111111111,
              "#46039f"
             ],
             [
              0.2222222222222222,
              "#7201a8"
             ],
             [
              0.3333333333333333,
              "#9c179e"
             ],
             [
              0.4444444444444444,
              "#bd3786"
             ],
             [
              0.5555555555555556,
              "#d8576b"
             ],
             [
              0.6666666666666666,
              "#ed7953"
             ],
             [
              0.7777777777777778,
              "#fb9f3a"
             ],
             [
              0.8888888888888888,
              "#fdca26"
             ],
             [
              1,
              "#f0f921"
             ]
            ],
            "type": "histogram2d"
           }
          ],
          "histogram2dcontour": [
           {
            "colorbar": {
             "outlinewidth": 0,
             "ticks": ""
            },
            "colorscale": [
             [
              0,
              "#0d0887"
             ],
             [
              0.1111111111111111,
              "#46039f"
             ],
             [
              0.2222222222222222,
              "#7201a8"
             ],
             [
              0.3333333333333333,
              "#9c179e"
             ],
             [
              0.4444444444444444,
              "#bd3786"
             ],
             [
              0.5555555555555556,
              "#d8576b"
             ],
             [
              0.6666666666666666,
              "#ed7953"
             ],
             [
              0.7777777777777778,
              "#fb9f3a"
             ],
             [
              0.8888888888888888,
              "#fdca26"
             ],
             [
              1,
              "#f0f921"
             ]
            ],
            "type": "histogram2dcontour"
           }
          ],
          "mesh3d": [
           {
            "colorbar": {
             "outlinewidth": 0,
             "ticks": ""
            },
            "type": "mesh3d"
           }
          ],
          "parcoords": [
           {
            "line": {
             "colorbar": {
              "outlinewidth": 0,
              "ticks": ""
             }
            },
            "type": "parcoords"
           }
          ],
          "pie": [
           {
            "automargin": true,
            "type": "pie"
           }
          ],
          "scatter": [
           {
            "fillpattern": {
             "fillmode": "overlay",
             "size": 10,
             "solidity": 0.2
            },
            "type": "scatter"
           }
          ],
          "scatter3d": [
           {
            "line": {
             "colorbar": {
              "outlinewidth": 0,
              "ticks": ""
             }
            },
            "marker": {
             "colorbar": {
              "outlinewidth": 0,
              "ticks": ""
             }
            },
            "type": "scatter3d"
           }
          ],
          "scattercarpet": [
           {
            "marker": {
             "colorbar": {
              "outlinewidth": 0,
              "ticks": ""
             }
            },
            "type": "scattercarpet"
           }
          ],
          "scattergeo": [
           {
            "marker": {
             "colorbar": {
              "outlinewidth": 0,
              "ticks": ""
             }
            },
            "type": "scattergeo"
           }
          ],
          "scattergl": [
           {
            "marker": {
             "colorbar": {
              "outlinewidth": 0,
              "ticks": ""
             }
            },
            "type": "scattergl"
           }
          ],
          "scattermap": [
           {
            "marker": {
             "colorbar": {
              "outlinewidth": 0,
              "ticks": ""
             }
            },
            "type": "scattermap"
           }
          ],
          "scattermapbox": [
           {
            "marker": {
             "colorbar": {
              "outlinewidth": 0,
              "ticks": ""
             }
            },
            "type": "scattermapbox"
           }
          ],
          "scatterpolar": [
           {
            "marker": {
             "colorbar": {
              "outlinewidth": 0,
              "ticks": ""
             }
            },
            "type": "scatterpolar"
           }
          ],
          "scatterpolargl": [
           {
            "marker": {
             "colorbar": {
              "outlinewidth": 0,
              "ticks": ""
             }
            },
            "type": "scatterpolargl"
           }
          ],
          "scatterternary": [
           {
            "marker": {
             "colorbar": {
              "outlinewidth": 0,
              "ticks": ""
             }
            },
            "type": "scatterternary"
           }
          ],
          "surface": [
           {
            "colorbar": {
             "outlinewidth": 0,
             "ticks": ""
            },
            "colorscale": [
             [
              0,
              "#0d0887"
             ],
             [
              0.1111111111111111,
              "#46039f"
             ],
             [
              0.2222222222222222,
              "#7201a8"
             ],
             [
              0.3333333333333333,
              "#9c179e"
             ],
             [
              0.4444444444444444,
              "#bd3786"
             ],
             [
              0.5555555555555556,
              "#d8576b"
             ],
             [
              0.6666666666666666,
              "#ed7953"
             ],
             [
              0.7777777777777778,
              "#fb9f3a"
             ],
             [
              0.8888888888888888,
              "#fdca26"
             ],
             [
              1,
              "#f0f921"
             ]
            ],
            "type": "surface"
           }
          ],
          "table": [
           {
            "cells": {
             "fill": {
              "color": "#EBF0F8"
             },
             "line": {
              "color": "white"
             }
            },
            "header": {
             "fill": {
              "color": "#C8D4E3"
             },
             "line": {
              "color": "white"
             }
            },
            "type": "table"
           }
          ]
         },
         "layout": {
          "annotationdefaults": {
           "arrowcolor": "#2a3f5f",
           "arrowhead": 0,
           "arrowwidth": 1
          },
          "autotypenumbers": "strict",
          "coloraxis": {
           "colorbar": {
            "outlinewidth": 0,
            "ticks": ""
           }
          },
          "colorscale": {
           "diverging": [
            [
             0,
             "#8e0152"
            ],
            [
             0.1,
             "#c51b7d"
            ],
            [
             0.2,
             "#de77ae"
            ],
            [
             0.3,
             "#f1b6da"
            ],
            [
             0.4,
             "#fde0ef"
            ],
            [
             0.5,
             "#f7f7f7"
            ],
            [
             0.6,
             "#e6f5d0"
            ],
            [
             0.7,
             "#b8e186"
            ],
            [
             0.8,
             "#7fbc41"
            ],
            [
             0.9,
             "#4d9221"
            ],
            [
             1,
             "#276419"
            ]
           ],
           "sequential": [
            [
             0,
             "#0d0887"
            ],
            [
             0.1111111111111111,
             "#46039f"
            ],
            [
             0.2222222222222222,
             "#7201a8"
            ],
            [
             0.3333333333333333,
             "#9c179e"
            ],
            [
             0.4444444444444444,
             "#bd3786"
            ],
            [
             0.5555555555555556,
             "#d8576b"
            ],
            [
             0.6666666666666666,
             "#ed7953"
            ],
            [
             0.7777777777777778,
             "#fb9f3a"
            ],
            [
             0.8888888888888888,
             "#fdca26"
            ],
            [
             1,
             "#f0f921"
            ]
           ],
           "sequentialminus": [
            [
             0,
             "#0d0887"
            ],
            [
             0.1111111111111111,
             "#46039f"
            ],
            [
             0.2222222222222222,
             "#7201a8"
            ],
            [
             0.3333333333333333,
             "#9c179e"
            ],
            [
             0.4444444444444444,
             "#bd3786"
            ],
            [
             0.5555555555555556,
             "#d8576b"
            ],
            [
             0.6666666666666666,
             "#ed7953"
            ],
            [
             0.7777777777777778,
             "#fb9f3a"
            ],
            [
             0.8888888888888888,
             "#fdca26"
            ],
            [
             1,
             "#f0f921"
            ]
           ]
          },
          "colorway": [
           "#636efa",
           "#EF553B",
           "#00cc96",
           "#ab63fa",
           "#FFA15A",
           "#19d3f3",
           "#FF6692",
           "#B6E880",
           "#FF97FF",
           "#FECB52"
          ],
          "font": {
           "color": "#2a3f5f"
          },
          "geo": {
           "bgcolor": "white",
           "lakecolor": "white",
           "landcolor": "#E5ECF6",
           "showlakes": true,
           "showland": true,
           "subunitcolor": "white"
          },
          "hoverlabel": {
           "align": "left"
          },
          "hovermode": "closest",
          "mapbox": {
           "style": "light"
          },
          "paper_bgcolor": "white",
          "plot_bgcolor": "#E5ECF6",
          "polar": {
           "angularaxis": {
            "gridcolor": "white",
            "linecolor": "white",
            "ticks": ""
           },
           "bgcolor": "#E5ECF6",
           "radialaxis": {
            "gridcolor": "white",
            "linecolor": "white",
            "ticks": ""
           }
          },
          "scene": {
           "xaxis": {
            "backgroundcolor": "#E5ECF6",
            "gridcolor": "white",
            "gridwidth": 2,
            "linecolor": "white",
            "showbackground": true,
            "ticks": "",
            "zerolinecolor": "white"
           },
           "yaxis": {
            "backgroundcolor": "#E5ECF6",
            "gridcolor": "white",
            "gridwidth": 2,
            "linecolor": "white",
            "showbackground": true,
            "ticks": "",
            "zerolinecolor": "white"
           },
           "zaxis": {
            "backgroundcolor": "#E5ECF6",
            "gridcolor": "white",
            "gridwidth": 2,
            "linecolor": "white",
            "showbackground": true,
            "ticks": "",
            "zerolinecolor": "white"
           }
          },
          "shapedefaults": {
           "line": {
            "color": "#2a3f5f"
           }
          },
          "ternary": {
           "aaxis": {
            "gridcolor": "white",
            "linecolor": "white",
            "ticks": ""
           },
           "baxis": {
            "gridcolor": "white",
            "linecolor": "white",
            "ticks": ""
           },
           "bgcolor": "#E5ECF6",
           "caxis": {
            "gridcolor": "white",
            "linecolor": "white",
            "ticks": ""
           }
          },
          "title": {
           "x": 0.05
          },
          "xaxis": {
           "automargin": true,
           "gridcolor": "white",
           "linecolor": "white",
           "ticks": "",
           "title": {
            "standoff": 15
           },
           "zerolinecolor": "white",
           "zerolinewidth": 2
          },
          "yaxis": {
           "automargin": true,
           "gridcolor": "white",
           "linecolor": "white",
           "ticks": "",
           "title": {
            "standoff": 15
           },
           "zerolinecolor": "white",
           "zerolinewidth": 2
          }
         }
        },
        "title": {
         "text": "Tamanho das Imagens"
        },
        "xaxis": {
         "anchor": "y",
         "domain": [
          0,
          1
         ],
         "title": {
          "text": "Tamanho (MB)"
         }
        },
        "yaxis": {
         "anchor": "x",
         "domain": [
          0,
          1
         ],
         "title": {
          "text": "Número de imagens"
         }
        }
       }
      }
     },
     "metadata": {},
     "output_type": "display_data"
    }
   ],
   "source": [
    "# Sizes in MB\n",
    "sizes_MB = []\n",
    "for img_path in df[\"img_path\"]:\n",
    "    img = cv2.imread(img_path)\n",
    "    size = os.path.getsize(img_path)\n",
    "    sizes_MB.append(size/1_000_000)\n",
    "\n",
    "fig = px.histogram(x=sizes_MB, nbins = 50, title = \"Tamanho das Imagens\")\n",
    "fig.update_layout(xaxis_title = \"Tamanho (MB)\",\n",
    "                 yaxis_title = \"Número de imagens\",\n",
    "                 showlegend = False,\n",
    "                 bargap = 0.1,\n",
    "                 bargroupgap = 0.1)\n",
    "fig.update_traces(marker = dict(color = \"green\"))\n",
    "fig.show()"
   ]
  },
  {
   "cell_type": "code",
   "execution_count": 103,
   "metadata": {
    "execution": {
     "iopub.execute_input": "2025-02-19T19:21:17.601138Z",
     "iopub.status.busy": "2025-02-19T19:21:17.600768Z",
     "iopub.status.idle": "2025-02-19T19:21:17.675038Z",
     "shell.execute_reply": "2025-02-19T19:21:17.674199Z",
     "shell.execute_reply.started": "2025-02-19T19:21:17.601107Z"
    },
    "trusted": true
   },
   "outputs": [
    {
     "data": {
      "application/vnd.plotly.v1+json": {
       "config": {
        "plotlyServerURL": "https://plot.ly"
       },
       "data": [
        {
         "hovertemplate": "x=%{x}<br>y=%{y}<extra></extra>",
         "legendgroup": "",
         "marker": {
          "color": "red",
          "symbol": "circle"
         },
         "mode": "markers",
         "name": "",
         "showlegend": false,
         "type": "scattergl",
         "x": {
          "bdata": "4AAAAOAAAADgAAAA4AAAAOAAAADgAAAA4AAAAOAAAADgAAAA4AAAAOAAAADgAAAA4AAAAOAAAADgAAAA4AAAAOAAAADgAAAA4AAAAOAAAADgAAAA4AAAAOAAAADgAAAA4AAAAOAAAADgAAAA4AAAAOAAAADgAAAA4AAAAOAAAADgAAAA4AAAAOAAAADgAAAA4AAAAOAAAADgAAAA4AAAAOAAAADgAAAA4AAAAOAAAADgAAAA4AAAAOAAAADgAAAA4AAAAOAAAADgAAAA4AAAAOAAAADgAAAA4AAAAOAAAADgAAAA4AAAAOAAAADgAAAA4AAAAOAAAADgAAAA4AAAAOAAAADgAAAA4AAAAOAAAADgAAAA4AAAAOAAAADgAAAA4AAAAOAAAADgAAAA4AAAAOAAAADgAAAA4AAAAOAAAADgAAAA4AAAAOAAAADgAAAA4AAAAOAAAADgAAAA4AAAAOAAAADgAAAA4AAAAOAAAADgAAAA4AAAAOAAAADgAAAA4AAAAOAAAADgAAAA4AAAAOAAAADgAAAA4AAAAOAAAADgAAAA4AAAAOAAAADgAAAA4AAAAOAAAADgAAAA4AAAAOAAAADgAAAA4AAAAOAAAADgAAAA4AAAAOAAAADgAAAAAAIAAAACAAAAAgAAAAIAAAACAAAAAgAAAAIAAAACAAAAAgAAAAIAAAACAAAAAgAAAAIAAAACAAAAAgAAAAIAAAACAAAAAgAAAAIAAAACAAAAAgAAAAIAAAACAAAAAgAAAAIAAAACAAAAAgAAAAIAAAACAAAAAgAAAAIAAAACAAAAAgAAAAIAAAACAAAAAgAAAAIAAAACAAAAAgAAAAIAAAACAAAAAgAAAAIAAAACAAAAAgAAAAIAAAACAAAAAgAAAAIAAAACAAAAAgAAAAIAAAACAAAAAgAAAAIAAAACAAAAAgAAAAIAAAACAAAAAgAAAAIAAAACAAAAAgAAAAIAAAACAAAAAgAAAAIAAAACAAAAAgAAAAIAAAACAAAAAgAAAAIAAAACAAAAAgAAAAIAAAACAAAAAgAAAAIAAAACAAAAAgAAAAIAAAACAAAAAgAAAAIAAAACAAAAAgAAAAIAAAACAAAAAgAAAAIAAAACAAAAAgAAAAIAAAACAAAAAgAAAAIAAAACAAAAAgAAAAIAAAACAAAAAgAAAAIAAAACAAAAAgAAAAIAAAACAAAAAgAAAAIAAAACAAAAAgAAAAIAAAACAAAAAgAAAAIAAAACAAAAAgAAAAIAAAACAAAAAgAA4AAAAOAAAADgAAAA4AAAAOAAAADgAAAA4AAAAOAAAADgAAAA4AAAAOAAAADgAAAA4AAAAOAAAADgAAAA4AAAAOAAAADgAAAA4AAAAOAAAADgAAAA4AAAAOAAAADgAAAA4AAAAOAAAADgAAAA4AAAAOAAAADgAAAA4AAAAOAAAADgAAAA4AAAAOAAAADgAAAA4AAAAOAAAADgAAAA4AAAAOAAAADgAAAA4AAAAOAAAADgAAAA4AAAAOAAAADgAAAA4AAAAOAAAADgAAAA4AAAAOAAAADgAAAA4AAAAOAAAADgAAAA4AAAAOAAAADgAAAA4AAAAOAAAADgAAAA4AAAAOAAAADgAAAA4AAAAOAAAADgAAAA4AAAAOAAAADgAAAA4AAAAOAAAADgAAAA4AAAAOAAAADgAAAA4AAAAOAAAADgAAAA4AAAAOAAAADgAAAA4AAAAOAAAADgAAAA4AAAAOAAAADgAAAA4AAAAOAAAADgAAAA4AAAAOAAAADgAAAA4AAAAOAAAADgAAAA4AAAAOAAAADgAAAA4AAAAOAAAADgAAAA4AAAAOAAAADgAAAA4AAAAOAAAADgAAAA4AAAAOAAAADgAAAA4AAAAOAAAADgAAAA4AAAAOAAAADgAAAA4AAAAOAAAADgAAAA4AAAAOAAAADgAAAA4AAAAOAAAADgAAAA4AAAAOAAAADgAAAA4AAAAOAAAADgAAAA4AAAAOAAAADgAAAA4AAAAOAAAADgAAAA4AAAAOAAAADgAAAA4AAAAOAAAADgAAAA4AAAAOAAAADgAAAA4AAAAOAAAADgAAAA4AAAAOAAAADgAAAA4AAAAOAAAADgAAAA4AAAAOAAAADgAAAA4AAAAOAAAADgAAAA4AAAAOAAAADgAAAA4AAAAOAAAADgAAAA4AAAAOAAAADgAAAA4AAAAOAAAADgAAAA4AAAAOAAAADgAAAA4AAAAOAAAADgAAAA4AAAAOAAAADgAAAA4AAAAOAAAADgAAAA4AAAAOAAAADgAAAA4AAAAOAAAADgAAAA4AAAAOAAAADgAAAA4AAAAOAAAADgAAAA4AAAAOAAAADgAAAA4AAAAOAAAADgAAAA4AAAAOAAAADgAAAA4AAAAOAAAADgAAAA4AAAAOAAAADgAAAA4AAAAOAAAADgAAAA4AAAAOAAAADgAAAA4AAAAOAAAADgAAAA4AAAAOAAAADgAAAA4AAAAOAAAADgAAAA4AAAAOAAAADgAAAA4AAAAOAAAADgAAAA4AAAAOAAAADgAAAA4AAAAOAAAADgAAAA4AAAAOAAAADgAAAA4AAAAOAAAADgAAAA4AAAAOAAAADgAAAA4AAAAOAAAADgAAAA4AAAAOAAAADgAAAA4AAAAOAAAADgAAAA4AAAAOAAAADgAAAA4AAAAOAAAADgAAAA4AAAAOAAAADgAAAA4AAAAOAAAADgAAAA4AAAAOAAAADgAAAA4AAAAOAAAADgAAAA4AAAAOAAAADgAAAA4AAAAOAAAADgAAAA4AAAAOAAAADgAAAA4AAAAOAAAADgAAAA4AAAAOAAAADgAAAA4AAAAOAAAADgAAAA4AAAAOAAAADgAAAA4AAAAOAAAADgAAAA4AAAAOAAAADgAAAA4AAAAOAAAADgAAAA4AAAAOAAAADgAAAA4AAAAOAAAADgAAAA4AAAAOAAAADgAAAA4AAAAOAAAADgAAAA4AAAAOAAAADgAAAA4AAAAOAAAADgAAAA4AAAAOAAAADgAAAA4AAAAOAAAADgAAAA4AAAAOAAAADgAAAA4AAAAOAAAADgAAAA4AAAAOAAAADgAAAA4AAAAOAAAADgAAAA4AAAAOAAAADgAAAA4AAAAOAAAADgAAAA4AAAAOAAAADgAAAA4AAAAOAAAADgAAAA4AAAAOAAAADgAAAA4AAAAOAAAADgAAAA4AAAAOAAAADgAAAA4AAAAOAAAADgAAAA4AAAAOAAAADgAAAA4AAAAOAAAADgAAAA4AAAAOAAAADgAAAA4AAAAOAAAADgAAAA4AAAAOAAAADgAAAA4AAAAOAAAADgAAAA4AAAAOAAAADgAAAA4AAAAOAAAADgAAAA4AAAAOAAAADgAAAA4AAAAOAAAADgAAAA4AAAAOAAAADgAAAA4AAAAOAAAADgAAAA4AAAAOAAAADgAAAA4AAAAOAAAADgAAAA4AAAAOAAAADgAAAA4AAAAOAAAADgAAAA4AAAAOAAAADgAAAA4AAAAOAAAADgAAAA4AAAAOAAAADgAAAA4AAAAOAAAADgAAAA4AAAAOAAAADgAAAA4AAAAOAAAADgAAAA4AAAAOAAAADgAAAA4AAAAOAAAADgAAAA4AAAAOAAAADgAAAA4AAAAOAAAADgAAAA4AAAAOAAAADgAAAA4AAAAOAAAADgAAAA4AAAAOAAAADgAAAA4AAAAOAAAADgAAAA4AAAAOAAAADgAAAA4AAAAOAAAADgAAAA4AAAAOAAAADgAAAA4AAAAOAAAADgAAAA4AAAAOAAAADgAAAA4AAAAOAAAADgAAAA4AAAAOAAAADgAAAA4AAAAOAAAADgAAAA4AAAAOAAAADgAAAA4AAAAOAAAADgAAAA4AAAAOAAAADgAAAA4AAAAOAAAADgAAAA4AAAAOAAAADgAAAA4AAAAOAAAADgAAAA4AAAAOAAAADgAAAA4AAAAOAAAADgAAAA4AAAAOAAAADgAAAA4AAAAOAAAADgAAAA4AAAAOAAAADgAAAA4AAAAOAAAADgAAAA4AAAAOAAAADgAAAA4AAAAOAAAADgAAAA4AAAAOAAAADgAAAA4AAAAOAAAADgAAAA4AAAAOAAAADgAAAA4AAAAOAAAADgAAAA4AAAAOAAAADgAAAA4AAAAOAAAADgAAAA4AAAAOAAAADgAAAA4AAAAOAAAADgAAAA4AAAAOAAAADgAAAA4AAAAOAAAADgAAAA4AAAAOAAAADgAAAA4AAAAOAAAADgAAAA4AAAAOAAAADgAAAA4AAAAOAAAADgAAAA4AAAAOAAAADgAAAA4AAAAOAAAADgAAAA4AAAAOAAAADgAAAA4AAAAOAAAADgAAAA4AAAAOAAAADgAAAA4AAAAOAAAADgAAAA4AAAAOAAAADgAAAA4AAAAOAAAADgAAAA4AAAAOAAAADgAAAA4AAAAOAAAADgAAAA4AAAAOAAAADgAAAA4AAAAOAAAADgAAAA4AAAAOAAAADgAAAA4AAAAOAAAADgAAAA4AAAAOAAAADgAAAA4AAAAOAAAADgAAAA4AAAAOAAAADgAAAA4AAAAOAAAADgAAAA4AAAAOAAAADgAAAA4AAAAOAAAADgAAAA4AAAAOAAAADgAAAA4AAAAOAAAADgAAAA4AAAAOAAAADgAAAA4AAAAOAAAADgAAAA4AAAAOAAAADgAAAA4AAAAOAAAADgAAAA4AAAAOAAAADgAAAA4AAAAOAAAADgAAAA4AAAAOAAAADgAAAA4AAAAOAAAADgAAAA4AAAAOAAAADgAAAA4AAAAOAAAADgAAAA4AAAAOAAAADgAAAA4AAAAOAAAADgAAAA4AAAAOAAAADgAAAA4AAAAOAAAADgAAAA4AAAAOAAAADgAAAA4AAAAOAAAADgAAAA4AAAAOAAAADgAAAA4AAAAOAAAADgAAAA4AAAAOAAAADgAAAA4AAAAOAAAADgAAAA4AAAAOAAAADgAAAA4AAAAOAAAADgAAAA4AAAAOAAAADgAAAA4AAAAOAAAADgAAAA4AAAAOAAAADgAAAA4AAAAOAAAADgAAAA4AAAAOAAAADgAAAA4AAAAOAAAADgAAAA4AAAAOAAAADgAAAA4AAAAOAAAADgAAAA4AAAAOAAAADgAAAA4AAAAOAAAADgAAAA4AAAAOAAAADgAAAA4AAAAOAAAADgAAAA4AAAAOAAAADgAAAA4AAAAOAAAADgAAAA4AAAAOAAAADgAAAA4AAAAOAAAADgAAAA4AAAAOAAAADgAAAA4AAAAOAAAADgAAAA4AAAAOAAAADgAAAA4AAAAOAAAADgAAAA4AAAAOAAAADgAAAA4AAAAOAAAADgAAAA4AAAAOAAAADgAAAA4AAAAOAAAADgAAAA4AAAAOAAAADgAAAA4AAAAOAAAADgAAAA4AAAAOAAAADgAAAA4AAAAOAAAADgAAAA4AAAAOAAAADgAAAA4AAAAOAAAADgAAAA4AAAAOAAAADgAAAA4AAAAOAAAADgAAAA4AAAAOAAAADgAAAA4AAAAOAAAADgAAAA4AAAAOAAAADgAAAA4AAAAOAAAADgAAAA4AAAAOAAAADgAAAA4AAAAOAAAADgAAAA4AAAAOAAAADgAAAA4AAAAOAAAADgAAAA4AAAAOAAAADgAAAA4AAAAOAAAADgAAAA4AAAAOAAAADgAAAA4AAAAOAAAADgAAAA4AAAAOAAAADgAAAA4AAAAOAAAADgAAAA4AAAAOAAAADgAAAA4AAAAOAAAADgAAAA4AAAAOAAAADgAAAA4AAAAOAAAADgAAAA4AAAAOAAAADgAAAA4AAAAOAAAADgAAAA4AAAAOAAAADgAAAA4AAAAOAAAADgAAAA4AAAAOAAAADgAAAA4AAAAOAAAADgAAAA4AAAAOAAAADgAAAA4AAAAOAAAADgAAAA4AAAAOAAAADgAAAA4AAAAOAAAADgAAAA4AAAAOAAAADgAAAA4AAAAOAAAADgAAAA4AAAAOAAAADgAAAA4AAAAOAAAADgAAAA4AAAAOAAAADgAAAA4AAAAOAAAADgAAAA4AAAAOAAAADgAAAA4AAAAOAAAADgAAAA4AAAAOAAAADgAAAA4AAAAOAAAADgAAAA4AAAAOAAAADgAAAA4AAAAOAAAADgAAAA4AAAAOAAAADgAAAA4AAAAOAAAADgAAAA4AAAAOAAAADgAAAA4AAAAOAAAADgAAAA4AAAAOAAAADgAAAA4AAAAOAAAADgAAAA4AAAAOAAAADgAAAA4AAAAOAAAADgAAAA4AAAAOAAAADgAAAA4AAAAOAAAADgAAAA4AAAAOAAAADgAAAA4AAAAOAAAADgAAAA4AAAAOAAAADgAAAA4AAAAOAAAADgAAAA4AAAAOAAAADgAAAA4AAAAOAAAADgAAAA4AAAAOAAAADgAAAA4AAAAOAAAADgAAAA4AAAAOAAAADgAAAA4AAAAOAAAADgAAAA4AAAAOAAAADgAAAA4AAAAOAAAADgAAAA4AAAAOAAAADgAAAA4AAAAOAAAADgAAAA4AAAAOAAAADgAAAA4AAAAOAAAADgAAAA4AAAAOAAAADgAAAA4AAAAOAAAADgAAAA4AAAAOAAAADgAAAA4AAAAOAAAADgAAAA4AAAAOAAAADgAAAA4AAAAOAAAADgAAAA4AAAAOAAAADgAAAA4AAAAOAAAADgAAAA4AAAAOAAAADgAAAA4AAAAOAAAADgAAAA4AAAAOAAAADgAAAA4AAAAOAAAADgAAAA4AAAAOAAAADgAAAA4AAAAOAAAADgAAAA4AAAAOAAAADgAAAA4AAAAOAAAADgAAAA4AAAAOAAAADgAAAA4AAAAOAAAADgAAAA4AAAAOAAAADgAAAA4AAAAOAAAADgAAAA4AAAAOAAAADgAAAA4AAAAOAAAADgAAAA4AAAAOAAAADgAAAA4AAAAOAAAADgAAAA4AAAAOAAAADgAAAA4AAAAOAAAADgAAAA4AAAAOAAAADgAAAA4AAAAOAAAADgAAAA4AAAAOAAAADgAAAA4AAAAOAAAADgAAAA4AAAAOAAAADgAAAA4AAAAOAAAADgAAAA4AAAAOAAAADgAAAA4AAAAOAAAADgAAAA4AAAAOAAAADgAAAA4AAAAOAAAADgAAAA4AAAAOAAAADgAAAA4AAAAOAAAADgAAAA4AAAAOAAAADgAAAA4AAAAOAAAADgAAAA4AAAAOAAAADgAAAA4AAAAOAAAADgAAAA4AAAAOAAAADgAAAA4AAAAOAAAADgAAAA4AAAAOAAAADgAAAA4AAAAOAAAADgAAAA4AAAAOAAAADgAAAA4AAAAOAAAADgAAAA4AAAAOAAAADgAAAA4AAAAOAAAADgAAAA4AAAAOAAAADgAAAA4AAAAOAAAADgAAAA4AAAAOAAAADgAAAA4AAAAOAAAADgAAAA4AAAAOAAAADgAAAA4AAAAOAAAADgAAAA4AAAAOAAAADgAAAA4AAAAOAAAADgAAAA4AAAAOAAAADgAAAA4AAAAOAAAADgAAAA4AAAAOAAAADgAAAA4AAAAOAAAADgAAAA4AAAAOAAAADgAAAA4AAAAOAAAADgAAAA4AAAAOAAAADgAAAA4AAAAOAAAADgAAAA4AAAAOAAAADgAAAA4AAAAOAAAADgAAAA4AAAAOAAAADgAAAA4AAAAOAAAADgAAAA4AAAAOAAAADgAAAA4AAAAOAAAADgAAAA4AAAAOAAAADgAAAA4AAAAOAAAADgAAAA4AAAAOAAAADgAAAA4AAAAOAAAADgAAAA4AAAAOAAAADgAAAA4AAAAOAAAADgAAAA4AAAAOAAAADgAAAA4AAAAOAAAADgAAAA4AAAAOAAAADgAAAA4AAAAOAAAADgAAAA4AAAAOAAAADgAAAA4AAAAOAAAADgAAAA4AAAAOAAAADgAAAA4AAAAOAAAADgAAAA4AAAAOAAAADgAAAA4AAAAOAAAADgAAAA4AAAAOAAAADgAAAA4AAAAOAAAADgAAAA4AAAAOAAAADgAAAA4AAAAOAAAADgAAAA4AAAAOAAAADgAAAA4AAAAOAAAADgAAAA4AAAAOAAAADgAAAA4AAAAOAAAADgAAAA4AAAAOAAAADgAAAA4AAAAOAAAADgAAAA4AAAAOAAAADgAAAA4AAAAOAAAADgAAAA4AAAAOAAAADgAAAA4AAAAOAAAADgAAAA4AAAAOAAAADgAAAA4AAAAOAAAADgAAAA4AAAAOAAAADgAAAA4AAAAOAAAADgAAAA4AAAAOAAAADgAAAA4AAAAOAAAADgAAAA4AAAAOAAAADgAAAA4AAAAOAAAADgAAAA4AAAAOAAAADgAAAA4AAAAOAAAADgAAAA4AAAAOAAAADgAAAA4AAAAOAAAADgAAAA4AAAAOAAAADgAAAA4AAAAOAAAADgAAAA4AAAAOAAAADgAAAA4AAAAOAAAADgAAAA4AAAAOAAAADgAAAA4AAAAOAAAADgAAAA4AAAAOAAAADgAAAA4AAAAOAAAADgAAAA4AAAAAACAAAAAgAAAAIAAAACAAAAAgAAAAIAAAACAAAAAgAAAAIAAAACAAAAAgAAAAIAAAACAAAAAgAAAAIAAAACAAAAAgAAAAIAAAACAAAAAgAAAAIAAAACAAAAAgAAAAIAAAACAAAAAgAAAAIAAAACAAAAAgAAAAIAAAACAAAAAgAAAAIAAAACAAAAAgAAAAIAAAACAAAAAgAAAAIAAAACAAAAAgAAAAIAAAACAAAAAgAAAAIAAAACAAAAAgAAAAIAAAACAAAAAgAAAAIAAAACAAAAAgAAAAIAAAACAAAAAgAAAAIAAAACAAAAAgAAAAIAAAACAAAAAgAAAAIAAAACAAAAAgAAAAIAAAACAAAAAgAAAAIAAAACAAAAAgAAAAIAAAACAAAAAgAAAAIAAAACAAAAAgAAAAIAAAACAAAAAgAAAAIAAAACAAAAAgAAAAIAAAACAAAAAgAAAAIAAAACAAAAAgAAAAIAAJQBAAAAAgAAAAIAAAACAAAAAgAAAAIAAAACAAAAAgAAAAIAAAACAAAAAgAAAAIAAAACAAAAAgAAAAIAAAACAAAAAgAAAAIAAAACAAAAAgAAAAIAAAACAAAAAgAAAAIAAAACAAAAAgAAAAIAAAACAAAAAgAAAAIAAAACAAAAAgAAAAIAAAACAAAAAgAAAAIAAAACAAAAAgAAAAIAAAACAAAAAgAAAAIAAAACAAAAAgAAAAIAAAACAAAAAgAAAAIAAAACAAAAAgAAAAIAAAACAAAAAgAAAAIAAAACAAAAAgAAAAIAAAACAAAAAgAAAAIAAAACAAAAAgAAAAIAAAACAAAAAgAAAAIAAAACAAAAAgAAAAIAAAACAAAAAgAAAAIAAAACAAAAAgAAAAIAAAACAAAAAgAAAAIAAAACAAAAAgAAAAIAAAACAAAAAgAAAAIAAAACAAAAAgAAAAIAAAACAAAAAgAAAAIAAAACAAAAAgAAAAIAAAACAAAAAgAAAAIAAAACAAAAAgAAAAIAAAACAAAAAgAAAAIAAAACAAAAAgAAAAIAAAACAAAAAgAAAAIAAAACAAAAAgAAAAIAAAACAAAAAgAAAAIAAAACAAAAAgAAAAIAAAACAAAAAgAAAAIAAAACAAAAAgAAAAIAAAACAAAAAgAAAAIAAAACAAAAAgAAAAIAAAACAAAAAgAAAAIAAAACAAAAAgAAAAIAAAACAAAAAgAAAAIAAAACAAAAAgAAAAIAAAACAAAAAgAAAAIAAAACAAAAAgAAAAIAAAACAAAAAgAAAAIAAAACAAAAAgAAAAIAAAACAAAAAgAAAAIAAAACAAAAAgAAAAIAAAACAAAAAgAAAAIAAAACAAAAAgAAAAIAAAACAAAAAgAAAAIAAAACAAAAAgAAAAIAAAACAAAAAgAAAAIAAAACAAAAAgAAAAIAAAACAAAAAgAAAAIAAAACAAAAAgAAAAIAAAACAAAAAgAAAAIAAAACAAAAAgAAAAIAAAACAAAAAgAAAAIAAAACAAAAAgAAAAIAAAACAAAAAgAAAAIAAAACAAAAAgAAAAIAAAACAAAAAgAAAAIAAAACAAAAAgAAAAIAAAACAAAAAgAAAAIAAAACAAAAAgAAAAIAAAACAAAAAgAAAAIAAAACAAAAAgAAAAIAAAACAAAAAgAAAAIAAAACAAAAAgAAAAIAAAACAAAAAgAAAAIAAAACAAAAAgAAAAIAAAACAAAAAgAAAAIAAAACAAAAAgAAAAIAAAACAAAAAgAAAAIAAAACAAAAAgAAAAIAAAACAAAAAgAAAAIAAAACAAAAAgAAAAIAAAACAAAAAgAAAAIAAAACAAAAAgAAAAIAAAACAAAAAgAAAAIAAAACAAAAAgAAAAIAAAACAAAAAgAAAAIAAAACAAAAAgAAAAIAAAACAAAAAgAAAAIAAAACAAAAAgAAAAIAAAACAAAAAgAAAAIAAAACAAAAAgAAAAIAAAACAAAAAgAAAAIAAAACAAAAAgAAAAIAAAACAAAAAgAAAAIAAAACAAAAAgAAAAIAAAACAAAAAgAAAAIAAAACAAAAAgAAAAIAAAACAAAAAgAAAAIAAAACAAAAAgAAAAIAAAACAAAAAgAAAAIAAAACAAAAAgAAAAIAAAACAAAAAgAAAAIAAAACAAAAAgAAAAIAAAACAAAAAgAAAAIAAAACAAAAAgAAAAIAAAACAAAAAgAAAAIAAAACAAAAAgAAAAIAAAACAAAAAgAAAAIAAAACAAAAAgAAAAIAAAACAAAAAgAAAAIAAAACAAAAAgAAAAIAAAACAAAAAgAAAAIAAAACAAAAAgAAAAIAAAACAAAAAgAAAAIAAAACAAAAAgAAAAIAAAACAAAAAgAAAAIAAAACAAAAAgAAAAIAAAACAAAAAgAAAAIAAAACAAAAAgAAAAIAAAACAAAAAgAAAAIAAAACAAAAAgAAAAIAAAACAAAAAgAAAAIAAAACAAAAAgAAAAIAAAACAAAAAgAAAAIAAAACAAAAAgAAAAIAAAACAAAAAgAAAAIAAAACAAAAAgAAAAIAAAACAAAAAgAAAAIAAAACAAAAAgAAAAIAAAACAAAAAgAAAAIAAAACAAAAAgAAAAIAAAACAAAAAgAAAAIAAAACAAAAAgAAAAIAAAACAAAAAgAAAAIAAAACAAAAAgAAAAIAAAACAAAAAgAAAAIAAAACAAAAAgAAAAIAAAACAAAAAgAAAAIAAAACAAAAAgAAAAIAAAACAAAAAgAAAAIAAAACAAAAAgAAAAIAAAACAAAAAgAAAAIAAAACAAAAAgAAAAIAAAACAAAAAgAAAAIAAAACAAAAAgAAAAIAAAACAAAAAgAAAAIAAAACAAAAAgAAAAIAAAACAAAAAgAAAAIAAAACAAAAAgAAAAIAAAACAAAAAgAAAAIAAAACAAAAAgAAAAIAAAACAAAAAgAAAAIAAAACAAAAAgAAAAIAAAACAAAAAgAAAAIAAAACAAAAAgAAAAIAAOAAAADgAAAA4AAAAOAAAADgAAAA4AAAAOAAAADgAAAA4AAAAOAAAADgAAAA4AAAAOAAAADgAAAA4AAAAOAAAADgAAAA4AAAAOAAAADgAAAA4AAAAOAAAADgAAAA4AAAAOAAAADgAAAA4AAAAOAAAADgAAAA4AAAAOAAAADgAAAA4AAAAOAAAADgAAAA4AAAAOAAAADgAAAA4AAAAOAAAADgAAAA4AAAAOAAAADgAAAA4AAAAOAAAADgAAAA4AAAAOAAAADgAAAA4AAAAOAAAADgAAAA4AAAAOAAAADgAAAA4AAAAOAAAADgAAAA4AAAAOAAAADgAAAA4AAAAOAAAADgAAAA4AAAAOAAAADgAAAA4AAAAOAAAADgAAAA4AAAAOAAAADgAAAA4AAAAOAAAADgAAAA4AAAAOAAAADgAAAA4AAAAOAAAADgAAAA4AAAAOAAAADgAAAA4AAAAOAAAADgAAAA4AAAAOAAAADgAAAA4AAAAOAAAADgAAAA4AAAAOAAAADgAAAA4AAAAOAAAADgAAAA4AAAAOAAAADgAAAA4AAAAOAAAADgAAAA4AAAAOAAAADgAAAA4AAAAOAAAADgAAAA4AAAAOAAAADgAAAA4AAAAOAAAADgAAAA4AAAAOAAAADgAAAA4AAAAOAAAADgAAAA4AAAAOAAAADgAAAA4AAAAOAAAADgAAAA4AAAAOAAAADgAAAA4AAAAOAAAADgAAAA4AAAAOAAAADgAAAA4AAAAOAAAADgAAAA4AAAAOAAAADgAAAA4AAAAOAAAADgAAAA4AAAAOAAAADgAAAA4AAAAOAAAADgAAAA4AAAAOAAAADgAAAA4AAAAOAAAADgAAAA4AAAAOAAAADgAAAA4AAAAOAAAADgAAAA4AAAAOAAAADgAAAA4AAAAOAAAADgAAAA4AAAAOAAAADgAAAA4AAAAOAAAADgAAAA4AAAAOAAAADgAAAA4AAAAOAAAADgAAAA4AAAAOAAAADgAAAA4AAAAOAAAADgAAAA4AAAAOAAAADgAAAA4AAAAOAAAADgAAAA4AAAAOAAAADgAAAA4AAAAOAAAADgAAAA4AAAAOAAAADgAAAA4AAAAOAAAADgAAAA4AAAAOAAAADgAAAA4AAAAOAAAADgAAAA4AAAAOAAAADgAAAA4AAAAOAAAADgAAAA4AAAAOAAAADgAAAA4AAAAOAAAADgAAAA4AAAAOAAAADgAAAA4AAAAOAAAADgAAAA4AAAAOAAAADgAAAA4AAAAOAAAADgAAAA4AAAAOAAAADgAAAA4AAAAOAAAADgAAAA4AAAAOAAAADgAAAA4AAAAOAAAADgAAAA4AAAAOAAAADgAAAA4AAAAOAAAADgAAAA4AAAAOAAAADgAAAA4AAAAOAAAADgAAAA4AAAAOAAAADgAAAA4AAAAOAAAADgAAAA4AAAAOAAAADgAAAA4AAAAOAAAADgAAAA4AAAAOAAAADgAAAA4AAAAOAAAADgAAAA4AAAAOAAAADgAAAA4AAAAOAAAADgAAAA4AAAAOAAAADgAAAA4AAAAOAAAADgAAAA4AAAAOAAAADgAAAA4AAAAOAAAADgAAAA4AAAAOAAAADgAAAA4AAAAOAAAADgAAAA4AAAAOAAAADgAAAA4AAAAOAAAADgAAAA4AAAAOAAAADgAAAA4AAAAOAAAADgAAAA4AAAAOAAAADgAAAA4AAAAOAAAADgAAAA4AAAAOAAAADgAAAA4AAAAOAAAADgAAAA4AAAAOAAAADgAAAA4AAAAOAAAADgAAAA4AAAAOAAAADgAAAA4AAAAOAAAADgAAAA4AAAAOAAAADgAAAA4AAAAOAAAADgAAAA4AAAAOAAAADgAAAA4AAAAOAAAADgAAAA4AAAAOAAAADgAAAA4AAAAOAAAADgAAAA4AAAAOAAAADgAAAA4AAAAOAAAADgAAAA4AAAAOAAAADgAAAA4AAAAOAAAADgAAAA4AAAAOAAAADgAAAA4AAAAOAAAADgAAAA4AAAAOAAAADgAAAA4AAAAOAAAADgAAAA4AAAAOAAAADgAAAA4AAAAOAAAADgAAAA4AAAAOAAAADgAAAA4AAAAOAAAADgAAAA4AAAAOAAAADgAAAA4AAAAOAAAADgAAAA4AAAAOAAAADgAAAA4AAAAOAAAADgAAAA4AAAAOAAAADgAAAA4AAAAOAAAADgAAAA4AAAAOAAAADgAAAA4AAAAOAAAADgAAAA4AAAAOAAAADgAAAA4AAAAOAAAADgAAAA4AAAAOAAAADgAAAA4AAAAOAAAADgAAAA4AAAAOAAAADgAAAA4AAAAOAAAADgAAAA4AAAAOAAAADgAAAA4AAAAOAAAADgAAAA4AAAAOAAAADgAAAA4AAAAOAAAADgAAAA4AAAAOAAAADgAAAA4AAAAOAAAADgAAAA4AAAAOAAAADgAAAA4AAAAOAAAADgAAAA4AAAAOAAAADgAAAA4AAAAOAAAADgAAAA4AAAAOAAAADgAAAA4AAAAOAAAADgAAAA4AAAAOAAAADgAAAA4AAAAOAAAADgAAAA4AAAAOAAAADgAAAA4AAAAOAAAADgAAAA4AAAAOAAAADgAAAA4AAAAOAAAADgAAAA4AAAAOAAAADgAAAA4AAAAOAAAADgAAAA4AAAAOAAAADgAAAA4AAAAOAAAADgAAAA4AAAAOAAAADgAAAA4AAAAOAAAADgAAAA4AAAAOAAAADgAAAA4AAAAOAAAADgAAAA4AAAAOAAAADgAAAA4AAAAOAAAADgAAAA4AAAAOAAAADgAAAA4AAAAOAAAADgAAAA4AAAAOAAAADgAAAA4AAAAOAAAADgAAAA4AAAAOAAAADgAAAA4AAAAOAAAADgAAAA4AAAAOAAAADgAAAA4AAAAOAAAADgAAAA4AAAAOAAAADgAAAA4AAAAOAAAADgAAAA4AAAAOAAAADgAAAA4AAAAOAAAADgAAAA4AAAAOAAAADgAAAA4AAAAOAAAADgAAAA4AAAAOAAAADgAAAA4AAAAOAAAADgAAAA4AAAAOAAAADgAAAA4AAAAOAAAADgAAAA4AAAAOAAAADgAAAA4AAAAOAAAADgAAAA4AAAAOAAAADgAAAA4AAAAOAAAADgAAAA4AAAAOAAAADgAAAA4AAAAOAAAADgAAAA4AAAAOAAAADgAAAA4AAAAOAAAADgAAAA4AAAAOAAAADgAAAA4AAAAOAAAADgAAAA4AAAAOAAAADgAAAA4AAAAOAAAADgAAAA4AAAAOAAAADgAAAA4AAAAOAAAADgAAAA4AAAAOAAAADgAAAA4AAAAOAAAADgAAAA4AAAAOAAAADgAAAA4AAAAOAAAADgAAAA4AAAAOAAAADgAAAA4AAAAOAAAADgAAAA4AAAAOAAAADgAAAA4AAAAOAAAADgAAAA4AAAAOAAAADgAAAA4AAAAOAAAADgAAAA4AAAAOAAAADgAAAA4AAAAOAAAADgAAAA4AAAAOAAAADgAAAA4AAAAOAAAADgAAAA4AAAAOAAAADgAAAA4AAAAOAAAADgAAAA4AAAAOAAAADgAAAA4AAAAOAAAADgAAAA4AAAAOAAAADgAAAA4AAAAOAAAADgAAAA4AAAAOAAAADgAAAA4AAAAOAAAADgAAAA4AAAAOAAAADgAAAA4AAAAOAAAADgAAAA4AAAAOAAAADgAAAA4AAAAOAAAADgAAAA4AAAAOAAAADgAAAA4AAAAOAAAADgAAAA4AAAAOAAAADgAAAA4AAAAOAAAADgAAAA4AAAAOAAAADgAAAA4AAAAOAAAADgAAAA4AAAAOAAAADgAAAA4AAAAOAAAADgAAAA4AAAAOAAAADgAAAA4AAAAOAAAADgAAAA4AAAAOAAAADgAAAA4AAAAOAAAADgAAAA4AAAAOAAAADgAAAA4AAAAAACAAAAAgAAAAIAAAACAAAAAgAAAAIAAAACAAAAAgAAAAIAAAACAAAAAgAAAAIAAAACAAAAAgAAAAIAAAACAAAAAgAAAAIAAAACAAAAAgAAAAIAAAACAAAAAgAAAAIAAAACAAAAAgAAAAIAAAACAAAAAgAAAAIAAAACAAAAAgAAAAIAAAACAAAAAgAAAAIAAAACAAAAAgAAAAIAAAACAAAAAgAAAAIAAAACAAAAAgAAAAIAAAACAAAAAgAAAAIAAAACAAAAAgAAAAIAAAACAAAAAgAAAAIAAAACAAAAAgAAAAIAAAACAAAAAgAAAAIAAAACAAAAAgAAAAIAAAACAAAAAgAAAAIAAAACAAAAAgAAAAIAAAACAAAAAgAAAAIAAAACAAAAAgAAAAIAAAACAAAAAgAAAAIAAAACAAAAAgAAAAIAAAACAAAAAgAAAAIAAAACAAAAAgAAAAIAAAACAAAAAgAAAAIAAAACAAAAAgAAAAIAAAACAAAAAgAAAAIAAAACAAAAAgAAAAIAAAACAAAAAgAAAAIAAAACAAAAAgAAAAIAAAACAAAAAgAAAAIAAAACAAAAAgAAAAIAAAACAAAAAgAAAAIAAAACAAAAAgAAAAIAAAACAAAAAgAAAAIAAAACAAAAAgAAAAIAAAACAAAAAgAAAAIAAAACAAAAAgAAAAIAAAACAAAAAgAAAAIAAAACAAAAAgAAAAIAAAACAAAAAgAAAAIAAAACAAAAAgAAAAIAAAACAAAAAgAAAAIAAAACAAAAAgAAAAIAAAACAAAAAgAAAAIAAAACAAAAAgAAAAIAAAACAAAAAgAAAAIAAAACAAAAAgAAAAIAAAACAAAAAgAAAAIAAAACAAAAAgAAAAIAAAACAAAAAgAAAAIAAAACAAAAAgAAAAIAAAACAAAAAgAAAAIAAAACAAAAAgAAAAIAAAACAAAAAgAAAAIAAAACAAAAAgAAAAIAAAACAAAAAgAAAAIAAAACAAAAAgAAAAIAAAACAAAAAgAAAAIAAAACAAAAAgAAAAIAAAACAAAAAgAAAAIAAAACAAAAAgAAAAIAAAACAAAAAgAAAAIAAAACAAAAAgAAAAIAAAACAAAAAgAAAAIAAAACAAAAAgAAAAIAAAACAAAAAgAAAAIAAAACAAAAAgAAAAIAAAACAAAAAgAAAAIAAAACAAAAAgAAAAIAAAACAAAAAgAAAAIAAAACAAAAAgAAAAIAAAACAAAAAgAAAAIAAAACAAAAAgAAAAIAAAACAAAAAgAAAAIAAAACAAAAAgAAAAIAAAACAAAAAgAAAAIAAAACAAAAAgAAAAIAAAACAAAAAgAAAAIAAAACAAAAAgAAAAIAAAACAAAAAgAAAAIAAAACAAAAAgAAAAIAAAACAAAAAgAAAAIAAAACAAAAAgAAAAIAAAACAAAAAgAAAAIAAAACAAAAAgAASwEAAAACAAAAAgAAAAIAAAACAAAAAgAAAAIAAAACAAAAAgAAAAIAAAACAAAAAgAAAAIAAAACAAAAAgAAAAIAAAACAAAAAgAAAAIAAAACAAAAAgAAAAIAAAACAAAAAgAAAAIAAAACAAAAAgAAAAIAAAACAAAAAgAAAAIAAAACAAAAAgAAAAIAAAACAAAAAgAAAAIAAAACAAAAAgAAAAIAAAACAAAAAgAAAAIAAAACAAAAAgAAAAIAAAACAAAAAgAAAAIAAAACAAAAAgAAAAIAAAACAAAAAgAAAAIAAAACAAAAAgAAAAIAAAACAAAAAgAAAAIAAAACAAAAAgAAAAIAAAACAAAAAgAAAAIAAAACAAAAAgAAAAIAAAACAAAAAgAAAAIAAAACAAAAAgAAAAIAAAACAAAAAgAAAAIAAAACAAAAAgAAAAIAAAACAAAAAgAAAAIAAAACAAAAAgAAAAIAAAACAAAAAgAAAAIAAAACAAAAAgAAAAIAAAACAAAAAgAAAAIAAAACAAAAAgAAAAIAAAACAAAAAgAAAAIAAAACAAAAAgAAAAIAAAACAAAAAgAAAAIAAAACAAAAAgAAAAIAAAACAAAAAgAAAAIAAAACAAAAAgAAAAIAAAACAAAAAgAAAAIAAAACAAAAAgAAAAIAAAACAAAAAgAAAAIAAAACAAAAAgAAAAIAAAACAAAAAgAAAAIAAAACAAAAAgAAAAIAAAACAAAAAgAAAAIAAAACAAAAAgAAAAIAAAACAAAAAgAA4AAAAOAAAADgAAAA4AAAAOAAAADgAAAA4AAAAOAAAADgAAAA4AAAAOAAAADgAAAA4AAAAOAAAADgAAAA4AAAAOAAAADgAAAA4AAAAOAAAADgAAAA4AAAAOAAAADgAAAA4AAAAOAAAADgAAAA4AAAAOAAAADgAAAA4AAAAOAAAADgAAAA4AAAAOAAAADgAAAA4AAAAOAAAADgAAAA4AAAAOAAAADgAAAA4AAAAOAAAADgAAAA4AAAAOAAAADgAAAA4AAAAOAAAADgAAAA4AAAAOAAAADgAAAA4AAAAOAAAADgAAAA4AAAAOAAAADgAAAA4AAAAOAAAADgAAAA4AAAAOAAAADgAAAA4AAAAOAAAADgAAAA4AAAAOAAAADgAAAA4AAAAOAAAADgAAAA4AAAAOAAAADgAAAA4AAAAOAAAADgAAAA4AAAAOAAAADgAAAA4AAAAOAAAADgAAAA4AAAAOAAAADgAAAA4AAAAOAAAADgAAAA4AAAAOAAAADgAAAA4AAAAOAAAADgAAAA4AAAAOAAAADgAAAA4AAAAOAAAADgAAAA4AAAAOAAAADgAAAA4AAAAOAAAADgAAAA4AAAAOAAAADgAAAA4AAAAOAAAADgAAAA4AAAAOAAAADgAAAA4AAAAOAAAADgAAAA4AAAAOAAAADgAAAA4AAAAOAAAADgAAAA4AAAAOAAAADgAAAA4AAAAOAAAADgAAAA4AAAAOAAAADgAAAA4AAAAOAAAADgAAAA4AAAAOAAAADgAAAA4AAAAOAAAADgAAAA4AAAAOAAAADgAAAA4AAAAOAAAADgAAAA4AAAAOAAAADgAAAA4AAAAOAAAADgAAAA4AAAAOAAAADgAAAA4AAAAOAAAADgAAAA4AAAAOAAAADgAAAA4AAAAOAAAADgAAAA4AAAAOAAAADgAAAA4AAAAOAAAADgAAAA4AAAAOAAAADgAAAA4AAAAOAAAADgAAAA4AAAAOAAAADgAAAA4AAAAOAAAADgAAAA4AAAAOAAAADgAAAA4AAAAOAAAADgAAAA4AAAAOAAAADgAAAA4AAAAOAAAADgAAAA4AAAAOAAAADgAAAA4AAAAOAAAADgAAAA4AAAAOAAAADgAAAA4AAAAOAAAADgAAAA4AAAAOAAAADgAAAA4AAAAOAAAADgAAAA4AAAAOAAAADgAAAA4AAAAOAAAADgAAAA4AAAAOAAAADgAAAA4AAAAOAAAADgAAAA4AAAAOAAAADgAAAA4AAAAOAAAADgAAAA4AAAAOAAAADgAAAA4AAAAOAAAADgAAAA4AAAAOAAAADgAAAA4AAAAOAAAADgAAAA4AAAAOAAAADgAAAA4AAAAOAAAADgAAAA4AAAAOAAAADgAAAA4AAAAOAAAADgAAAA4AAAAOAAAADgAAAA4AAAAOAAAADgAAAA4AAAAOAAAADgAAAA4AAAAOAAAADgAAAA4AAAAOAAAADgAAAA4AAAAOAAAADgAAAA4AAAAOAAAADgAAAA4AAAAOAAAADgAAAA4AAAAOAAAADgAAAA4AAAAOAAAADgAAAA4AAAAOAAAADgAAAA4AAAAOAAAADgAAAA",
          "dtype": "i4"
         },
         "xaxis": "x",
         "y": {
          "bdata": "4AAAAOAAAADgAAAA4AAAAOAAAADgAAAA4AAAAOAAAADgAAAA4AAAAOAAAADgAAAA4AAAAOAAAADgAAAA4AAAAOAAAADgAAAA4AAAAOAAAADgAAAA4AAAAOAAAADgAAAA4AAAAOAAAADgAAAA4AAAAOAAAADgAAAA4AAAAOAAAADgAAAA4AAAAOAAAADgAAAA4AAAAOAAAADgAAAA4AAAAOAAAADgAAAA4AAAAOAAAADgAAAA4AAAAOAAAADgAAAA4AAAAOAAAADgAAAA4AAAAOAAAADgAAAA4AAAAOAAAADgAAAA4AAAAOAAAADgAAAA4AAAAOAAAADgAAAA4AAAAOAAAADgAAAA4AAAAOAAAADgAAAA4AAAAOAAAADgAAAA4AAAAOAAAADgAAAA4AAAAOAAAADgAAAA4AAAAOAAAADgAAAA4AAAAOAAAADgAAAA4AAAAOAAAADgAAAA4AAAAOAAAADgAAAA4AAAAOAAAADgAAAA4AAAAOAAAADgAAAA4AAAAOAAAADgAAAA4AAAAOAAAADgAAAA4AAAAOAAAADgAAAA4AAAAOAAAADgAAAA4AAAAOAAAADgAAAA4AAAAOAAAADgAAAA4AAAAOAAAADgAAAA4AAAAOAAAADgAAAAAAIAAAACAAAAAgAAAAIAAAACAAAAAgAAAAIAAAACAAAAAgAAAAIAAAACAAAAAgAAAAIAAAACAAAAAgAAAAIAAAACAAAAAgAAAAIAAAACAAAAAgAAAAIAAAACAAAAAgAAAAIAAAACAAAAAgAAAAIAAAACAAAAAgAAAAIAAAACAAAAAgAAAAIAAAACAAAAAgAAAAIAAAACAAAAAgAAAAIAAAACAAAAAgAAAAIAAAACAAAAAgAAAAIAAAACAAAAAgAAAAIAAAACAAAAAgAAAAIAAAACAAAAAgAAAAIAAAACAAAAAgAAAAIAAAACAAAAAgAAAAIAAAACAAAAAgAAAAIAAAACAAAAAgAAAAIAAAACAAAAAgAAAAIAAAACAAAAAgAAAAIAAAACAAAAAgAAAAIAAAACAAAAAgAAAAIAAAACAAAAAgAAAAIAAAACAAAAAgAAAAIAAAACAAAAAgAAAAIAAAACAAAAAgAAAAIAAAACAAAAAgAAAAIAAAACAAAAAgAAAAIAAAACAAAAAgAAAAIAAAACAAAAAgAAAAIAAAACAAAAAgAAAAIAAAACAAAAAgAAAAIAAAACAAAAAgAAAAIAAAACAAAAAgAAAAIAAAACAAAAAgAAAAIAAAACAAAAAgAA4AAAAOAAAADgAAAA4AAAAOAAAADgAAAA4AAAAOAAAADgAAAA4AAAAOAAAADgAAAA4AAAAOAAAADgAAAA4AAAAOAAAADgAAAA4AAAAOAAAADgAAAA4AAAAOAAAADgAAAA4AAAAOAAAADgAAAA4AAAAOAAAADgAAAA4AAAAOAAAADgAAAA4AAAAOAAAADgAAAA4AAAAOAAAADgAAAA4AAAAOAAAADgAAAA4AAAAOAAAADgAAAA4AAAAOAAAADgAAAA4AAAAOAAAADgAAAA4AAAAOAAAADgAAAA4AAAAOAAAADgAAAA4AAAAOAAAADgAAAA4AAAAOAAAADgAAAA4AAAAOAAAADgAAAA4AAAAOAAAADgAAAA4AAAAOAAAADgAAAA4AAAAOAAAADgAAAA4AAAAOAAAADgAAAA4AAAAOAAAADgAAAA4AAAAOAAAADgAAAA4AAAAOAAAADgAAAA4AAAAOAAAADgAAAA4AAAAOAAAADgAAAA4AAAAOAAAADgAAAA4AAAAOAAAADgAAAA4AAAAOAAAADgAAAA4AAAAOAAAADgAAAA4AAAAOAAAADgAAAA4AAAAOAAAADgAAAA4AAAAOAAAADgAAAA4AAAAOAAAADgAAAA4AAAAOAAAADgAAAA4AAAAOAAAADgAAAA4AAAAOAAAADgAAAA4AAAAOAAAADgAAAA4AAAAOAAAADgAAAA4AAAAOAAAADgAAAA4AAAAOAAAADgAAAA4AAAAOAAAADgAAAA4AAAAOAAAADgAAAA4AAAAOAAAADgAAAA4AAAAOAAAADgAAAA4AAAAOAAAADgAAAA4AAAAOAAAADgAAAA4AAAAOAAAADgAAAA4AAAAOAAAADgAAAA4AAAAOAAAADgAAAA4AAAAOAAAADgAAAA4AAAAOAAAADgAAAA4AAAAOAAAADgAAAA4AAAAOAAAADgAAAA4AAAAOAAAADgAAAA4AAAAOAAAADgAAAA4AAAAOAAAADgAAAA4AAAAOAAAADgAAAA4AAAAOAAAADgAAAA4AAAAOAAAADgAAAA4AAAAOAAAADgAAAA4AAAAOAAAADgAAAA4AAAAOAAAADgAAAA4AAAAOAAAADgAAAA4AAAAOAAAADgAAAA4AAAAOAAAADgAAAA4AAAAOAAAADgAAAA4AAAAOAAAADgAAAA4AAAAOAAAADgAAAA4AAAAOAAAADgAAAA4AAAAOAAAADgAAAA4AAAAOAAAADgAAAA4AAAAOAAAADgAAAA4AAAAOAAAADgAAAA4AAAAOAAAADgAAAA4AAAAOAAAADgAAAA4AAAAOAAAADgAAAA4AAAAOAAAADgAAAA4AAAAOAAAADgAAAA4AAAAOAAAADgAAAA4AAAAOAAAADgAAAA4AAAAOAAAADgAAAA4AAAAOAAAADgAAAA4AAAAOAAAADgAAAA4AAAAOAAAADgAAAA4AAAAOAAAADgAAAA4AAAAOAAAADgAAAA4AAAAOAAAADgAAAA4AAAAOAAAADgAAAA4AAAAOAAAADgAAAA4AAAAOAAAADgAAAA4AAAAOAAAADgAAAA4AAAAOAAAADgAAAA4AAAAOAAAADgAAAA4AAAAOAAAADgAAAA4AAAAOAAAADgAAAA4AAAAOAAAADgAAAA4AAAAOAAAADgAAAA4AAAAOAAAADgAAAA4AAAAOAAAADgAAAA4AAAAOAAAADgAAAA4AAAAOAAAADgAAAA4AAAAOAAAADgAAAA4AAAAOAAAADgAAAA4AAAAOAAAADgAAAA4AAAAOAAAADgAAAA4AAAAOAAAADgAAAA4AAAAOAAAADgAAAA4AAAAOAAAADgAAAA4AAAAOAAAADgAAAA4AAAAOAAAADgAAAA4AAAAOAAAADgAAAA4AAAAOAAAADgAAAA4AAAAOAAAADgAAAA4AAAAOAAAADgAAAA4AAAAOAAAADgAAAA4AAAAOAAAADgAAAA4AAAAOAAAADgAAAA4AAAAOAAAADgAAAA4AAAAOAAAADgAAAA4AAAAOAAAADgAAAA4AAAAOAAAADgAAAA4AAAAOAAAADgAAAA4AAAAOAAAADgAAAA4AAAAOAAAADgAAAA4AAAAOAAAADgAAAA4AAAAOAAAADgAAAA4AAAAOAAAADgAAAA4AAAAOAAAADgAAAA4AAAAOAAAADgAAAA4AAAAOAAAADgAAAA4AAAAOAAAADgAAAA4AAAAOAAAADgAAAA4AAAAOAAAADgAAAA4AAAAOAAAADgAAAA4AAAAOAAAADgAAAA4AAAAOAAAADgAAAA4AAAAOAAAADgAAAA4AAAAOAAAADgAAAA4AAAAOAAAADgAAAA4AAAAOAAAADgAAAA4AAAAOAAAADgAAAA4AAAAOAAAADgAAAA4AAAAOAAAADgAAAA4AAAAOAAAADgAAAA4AAAAOAAAADgAAAA4AAAAOAAAADgAAAA4AAAAOAAAADgAAAA4AAAAOAAAADgAAAA4AAAAOAAAADgAAAA4AAAAOAAAADgAAAA4AAAAOAAAADgAAAA4AAAAOAAAADgAAAA4AAAAOAAAADgAAAA4AAAAOAAAADgAAAA4AAAAOAAAADgAAAA4AAAAOAAAADgAAAA4AAAAOAAAADgAAAA4AAAAOAAAADgAAAA4AAAAOAAAADgAAAA4AAAAOAAAADgAAAA4AAAAOAAAADgAAAA4AAAAOAAAADgAAAA4AAAAOAAAADgAAAA4AAAAOAAAADgAAAA4AAAAOAAAADgAAAA4AAAAOAAAADgAAAA4AAAAOAAAADgAAAA4AAAAOAAAADgAAAA4AAAAOAAAADgAAAA4AAAAOAAAADgAAAA4AAAAOAAAADgAAAA4AAAAOAAAADgAAAA4AAAAOAAAADgAAAA4AAAAOAAAADgAAAA4AAAAOAAAADgAAAA4AAAAOAAAADgAAAA4AAAAOAAAADgAAAA4AAAAOAAAADgAAAA4AAAAOAAAADgAAAA4AAAAOAAAADgAAAA4AAAAOAAAADgAAAA4AAAAOAAAADgAAAA4AAAAOAAAADgAAAA4AAAAOAAAADgAAAA4AAAAOAAAADgAAAA4AAAAOAAAADgAAAA4AAAAOAAAADgAAAA4AAAAOAAAADgAAAA4AAAAOAAAADgAAAA4AAAAOAAAADgAAAA4AAAAOAAAADgAAAA4AAAAOAAAADgAAAA4AAAAOAAAADgAAAA4AAAAOAAAADgAAAA4AAAAOAAAADgAAAA4AAAAOAAAADgAAAA4AAAAOAAAADgAAAA4AAAAOAAAADgAAAA4AAAAOAAAADgAAAA4AAAAOAAAADgAAAA4AAAAOAAAADgAAAA4AAAAOAAAADgAAAA4AAAAOAAAADgAAAA4AAAAOAAAADgAAAA4AAAAOAAAADgAAAA4AAAAOAAAADgAAAA4AAAAOAAAADgAAAA4AAAAOAAAADgAAAA4AAAAOAAAADgAAAA4AAAAOAAAADgAAAA4AAAAOAAAADgAAAA4AAAAOAAAADgAAAA4AAAAOAAAADgAAAA4AAAAOAAAADgAAAA4AAAAOAAAADgAAAA4AAAAOAAAADgAAAA4AAAAOAAAADgAAAA4AAAAOAAAADgAAAA4AAAAOAAAADgAAAA4AAAAOAAAADgAAAA4AAAAOAAAADgAAAA4AAAAOAAAADgAAAA4AAAAOAAAADgAAAA4AAAAOAAAADgAAAA4AAAAOAAAADgAAAA4AAAAOAAAADgAAAA4AAAAOAAAADgAAAA4AAAAOAAAADgAAAA4AAAAOAAAADgAAAA4AAAAOAAAADgAAAA4AAAAOAAAADgAAAA4AAAAOAAAADgAAAA4AAAAOAAAADgAAAA4AAAAOAAAADgAAAA4AAAAOAAAADgAAAA4AAAAOAAAADgAAAA4AAAAOAAAADgAAAA4AAAAOAAAADgAAAA4AAAAOAAAADgAAAA4AAAAOAAAADgAAAA4AAAAOAAAADgAAAA4AAAAOAAAADgAAAA4AAAAOAAAADgAAAA4AAAAOAAAADgAAAA4AAAAOAAAADgAAAA4AAAAOAAAADgAAAA4AAAAOAAAADgAAAA4AAAAOAAAADgAAAA4AAAAOAAAADgAAAA4AAAAOAAAADgAAAA4AAAAOAAAADgAAAA4AAAAOAAAADgAAAA4AAAAOAAAADgAAAA4AAAAOAAAADgAAAA4AAAAOAAAADgAAAA4AAAAOAAAADgAAAA4AAAAOAAAADgAAAA4AAAAOAAAADgAAAA4AAAAOAAAADgAAAA4AAAAOAAAADgAAAA4AAAAOAAAADgAAAA4AAAAOAAAADgAAAA4AAAAOAAAADgAAAA4AAAAOAAAADgAAAA4AAAAOAAAADgAAAA4AAAAOAAAADgAAAA4AAAAOAAAADgAAAA4AAAAOAAAADgAAAA4AAAAOAAAADgAAAA4AAAAOAAAADgAAAA4AAAAOAAAADgAAAA4AAAAOAAAADgAAAA4AAAAOAAAADgAAAA4AAAAOAAAADgAAAA4AAAAOAAAADgAAAA4AAAAOAAAADgAAAA4AAAAOAAAADgAAAA4AAAAOAAAADgAAAA4AAAAOAAAADgAAAA4AAAAOAAAADgAAAA4AAAAOAAAADgAAAA4AAAAOAAAADgAAAA4AAAAOAAAADgAAAA4AAAAOAAAADgAAAA4AAAAOAAAADgAAAA4AAAAOAAAADgAAAA4AAAAOAAAADgAAAA4AAAAOAAAADgAAAA4AAAAOAAAADgAAAA4AAAAOAAAADgAAAA4AAAAOAAAADgAAAA4AAAAOAAAADgAAAA4AAAAOAAAADgAAAA4AAAAOAAAADgAAAA4AAAAOAAAADgAAAA4AAAAOAAAADgAAAA4AAAAOAAAADgAAAA4AAAAOAAAADgAAAA4AAAAOAAAADgAAAA4AAAAOAAAADgAAAA4AAAAOAAAADgAAAA4AAAAOAAAADgAAAA4AAAAOAAAADgAAAA4AAAAOAAAADgAAAA4AAAAOAAAADgAAAA4AAAAOAAAADgAAAA4AAAAOAAAADgAAAA4AAAAOAAAADgAAAA4AAAAOAAAADgAAAA4AAAAOAAAADgAAAA4AAAAOAAAADgAAAA4AAAAOAAAADgAAAA4AAAAOAAAADgAAAA4AAAAOAAAADgAAAA4AAAAOAAAADgAAAA4AAAAOAAAADgAAAA4AAAAOAAAADgAAAA4AAAAOAAAADgAAAA4AAAAOAAAADgAAAA4AAAAOAAAADgAAAA4AAAAOAAAADgAAAA4AAAAOAAAADgAAAA4AAAAOAAAADgAAAA4AAAAOAAAADgAAAA4AAAAOAAAADgAAAA4AAAAOAAAADgAAAA4AAAAOAAAADgAAAA4AAAAOAAAADgAAAA4AAAAOAAAADgAAAA4AAAAOAAAADgAAAA4AAAAOAAAADgAAAA4AAAAOAAAADgAAAA4AAAAOAAAADgAAAA4AAAAOAAAADgAAAA4AAAAOAAAADgAAAA4AAAAOAAAADgAAAA4AAAAOAAAADgAAAA4AAAAOAAAADgAAAA4AAAAOAAAADgAAAA4AAAAOAAAADgAAAA4AAAAOAAAADgAAAA4AAAAOAAAADgAAAA4AAAAOAAAADgAAAA4AAAAOAAAADgAAAA4AAAAOAAAADgAAAA4AAAAOAAAADgAAAA4AAAAOAAAADgAAAA4AAAAOAAAADgAAAA4AAAAOAAAADgAAAA4AAAAOAAAADgAAAA4AAAAOAAAADgAAAA4AAAAOAAAADgAAAA4AAAAOAAAADgAAAA4AAAAOAAAADgAAAA4AAAAOAAAADgAAAA4AAAAOAAAADgAAAA4AAAAOAAAADgAAAA4AAAAOAAAADgAAAA4AAAAOAAAADgAAAA4AAAAOAAAADgAAAA4AAAAOAAAADgAAAA4AAAAOAAAADgAAAA4AAAAOAAAADgAAAA4AAAAOAAAADgAAAA4AAAAOAAAADgAAAA4AAAAOAAAADgAAAA4AAAAOAAAADgAAAA4AAAAOAAAADgAAAA4AAAAOAAAADgAAAA4AAAAOAAAADgAAAA4AAAAOAAAADgAAAA4AAAAOAAAADgAAAA4AAAAOAAAADgAAAA4AAAAOAAAADgAAAA4AAAAOAAAADgAAAA4AAAAOAAAADgAAAA4AAAAOAAAADgAAAA4AAAAOAAAADgAAAA4AAAAOAAAADgAAAA4AAAAOAAAADgAAAA4AAAAOAAAADgAAAA4AAAAOAAAADgAAAA4AAAAOAAAADgAAAA4AAAAOAAAADgAAAA4AAAAOAAAADgAAAA4AAAAOAAAADgAAAA4AAAAOAAAADgAAAA4AAAAOAAAADgAAAA4AAAAOAAAADgAAAA4AAAAOAAAADgAAAA4AAAAOAAAADgAAAA4AAAAOAAAADgAAAA4AAAAOAAAADgAAAA4AAAAOAAAADgAAAA4AAAAOAAAADgAAAA4AAAAOAAAADgAAAA4AAAAOAAAADgAAAA4AAAAOAAAADgAAAA4AAAAOAAAADgAAAA4AAAAOAAAADgAAAA4AAAAOAAAADgAAAA4AAAAOAAAADgAAAA4AAAAOAAAADgAAAA4AAAAOAAAADgAAAA4AAAAOAAAADgAAAA4AAAAOAAAADgAAAA4AAAAOAAAADgAAAA4AAAAOAAAADgAAAA4AAAAOAAAADgAAAA4AAAAOAAAADgAAAA4AAAAOAAAADgAAAA4AAAAOAAAADgAAAA4AAAAOAAAADgAAAA4AAAAOAAAADgAAAA4AAAAOAAAADgAAAA4AAAAOAAAADgAAAA4AAAAOAAAADgAAAA4AAAAOAAAADgAAAA4AAAAOAAAADgAAAA4AAAAOAAAADgAAAA4AAAAOAAAADgAAAA4AAAAOAAAADgAAAA4AAAAOAAAADgAAAA4AAAAOAAAADgAAAA4AAAAOAAAADgAAAA4AAAAOAAAADgAAAA4AAAAOAAAADgAAAA4AAAAOAAAADgAAAA4AAAAOAAAADgAAAA4AAAAOAAAADgAAAA4AAAAOAAAADgAAAA4AAAAOAAAADgAAAA4AAAAOAAAADgAAAA4AAAAOAAAADgAAAA4AAAAOAAAADgAAAA4AAAAOAAAADgAAAA4AAAAOAAAADgAAAA4AAAAOAAAADgAAAA4AAAAOAAAADgAAAA4AAAAOAAAADgAAAA4AAAAOAAAADgAAAA4AAAAOAAAADgAAAA4AAAAOAAAADgAAAA4AAAAOAAAADgAAAA4AAAAOAAAADgAAAA4AAAAOAAAADgAAAA4AAAAOAAAADgAAAA4AAAAAACAAAAAgAAAAIAAAACAAAAAgAAAAIAAAACAAAAAgAAAAIAAAACAAAAAgAAAAIAAAACAAAAAgAAAAIAAAACAAAAAgAAAAIAAAACAAAAAgAAAAIAAAACAAAAAgAAAAIAAAACAAAAAgAAAAIAAAACAAAAAgAAAAIAAAACAAAAAgAAAAIAAAACAAAAAgAAAAIAAAACAAAAAgAAAAIAAAACAAAAAgAAAAIAAAACAAAAAgAAAAIAAAACAAAAAgAAAAIAAAACAAAAAgAAAAIAAAACAAAAAgAAAAIAAAACAAAAAgAAAAIAAAACAAAAAgAAAAIAAAACAAAAAgAAAAIAAAACAAAAAgAAAAIAAAACAAAAAgAAAAIAAAACAAAAAgAAAAIAAAACAAAAAgAAAAIAAAACAAAAAgAAAAIAAAACAAAAAgAAAAIAAAACAAAAAgAAAAIAAAACAAAAAgAAAAIAAAACAAAAAgAAAAIAAP8BAAAAAgAAAAIAAAACAAAAAgAAAAIAAAACAAAAAgAAAAIAAAACAAAAAgAAAAIAAAACAAAAAgAAAAIAAAACAAAAAgAAAAIAAAACAAAAAgAAAAIAAAACAAAAAgAAIQMAACEDAAAhAwAAIQMAACEDAAAhAwAAIQMAACEDAAAhAwAAIQMAAAACAAAhAwAAIQMAACEDAAAhAwAAIQMAACEDAAAhAwAAIQMAACEDAAAhAwAAAAIAACEDAAAhAwAAIQMAACEDAAAhAwAAIQMAACEDAAAhAwAAbwIAAG8CAAAAAgAAbwIAAG8CAABvAgAAbwIAAG8CAABvAgAAbwIAAG8CAABvAgAAbwIAAAACAABvAgAAbwIAAG8CAABvAgAAbwIAAG8CAABvAgAAbwIAAG8CAABvAgAAAAIAAG8CAABvAgAAbwIAAG8CAABvAgAAbwIAAG8CAABvAgAAbwIAAAACAAAAAgAAAAIAAAACAAAAAgAAAAIAAAACAAAAAgAAAAIAAAACAAAAAgAAAAIAAAACAAAAAgAAAAIAAAACAAAAAgAAAAIAAAACAAAAAgAAAAIAAAACAAAAAgAAAAIAAAACAAAAAgAAAAIAAAACAAAAAgAAAAIAAAACAAAAAgAAAAIAAAACAAAAAgAAAAIAAAACAAAAAgAAAAIAAAACAAAAAgAAAAIAAAACAAAAAgAAAAIAAAACAAAAAgAAAAIAAAACAAAAAgAAAAIAAAACAAAAAgAAAAIAAAACAAAAAgAAAAIAAAACAAAAAgAAAAIAAAACAAAAAgAAAAIAAAACAAAAAgAAAAIAAAACAAAAAgAAAAIAAAACAAAAAgAAAAIAAAACAAAAAgAAAAIAAAACAAAAAgAAAAIAAAACAAAAAgAAAAIAAAACAAAAAgAAAAIAAAACAAAAAgAAAAIAAAACAAAAAgAAAAIAAAACAAAAAgAAAAIAAAACAAAAAgAAAAIAAAACAAAAAgAAAAIAAAACAAAAAgAAAAIAAAACAAAAAgAAAAIAAAACAAAAAgAAAAIAAAACAAAAAgAAAAIAAAACAAAAAgAAAAIAAAACAAAAAgAAAAIAAAACAAAAAgAAAAIAAAACAAAAAgAAAAIAAAACAAAAAgAAAAIAAAACAAAAAgAAAAIAAAACAAAAAgAAAAIAAAACAAAAAgAAAAIAAAACAAAAAgAAAAIAAAACAAAAAgAAAAIAAAACAAAAAgAAAAIAAAACAAAAAgAAAAIAAAACAAAAAgAAAAIAAAACAAAAAgAAAAIAAAACAAAAAgAAAAIAAAACAAAAAgAAAAIAAAACAAAAAgAAAAIAAAACAAAAAgAAAAIAAAACAAAAAgAAAAIAAAACAAAAAgAAAAIAAAACAAAAAgAAAAIAAAACAAAAAgAAAAIAAAACAAAAAgAAAAIAAAACAAAAAgAAAAIAAAACAAAAAgAAAAIAAAACAAAAAgAAAAIAAAACAAAAAgAAAAIAAAACAAAAAgAAAAIAAAACAAAAAgAAAAIAAAACAAAAAgAAAAIAAAACAAAAAgAAAAIAAAACAAAAAgAAAAIAAAACAAAAAgAAAAIAAAACAAAAAgAAAAIAAAACAAAAAgAAAAIAAAACAAAAAgAAAAIAAAACAAAAAgAAAAIAAAACAAAAAgAAAAIAAAACAAAAAgAAAAIAAAACAAAAAgAAAAIAAAACAAAAAgAAAAIAAAACAAAAAgAAAAIAAAACAAAAAgAAAAIAAAACAAAAAgAAAAIAAAACAAAAAgAAAAIAAAACAAAAAgAAAAIAAAACAAAAAgAAAAIAAAACAAAAAgAAAAIAAAACAAAAAgAAAAIAAAACAAAAAgAAAAIAAAACAAAAAgAAAAIAAAACAAAAAgAAAAIAAAACAAAAAgAAAAIAAAACAAAAAgAAAAIAAAACAAAAAgAAAAIAAAACAAAAAgAAAAIAAAACAAAAAgAAAAIAAAACAAAAAgAAAAIAAAACAAAAAgAAAAIAAAACAAAAAgAAAAIAAAACAAAAAgAAAAIAAAACAAAAAgAAAAIAAAACAAAAAgAAAAIAAAACAAAAAgAAAAIAAAACAAAAAgAAAAIAAAACAAAAAgAAAAIAAAACAAAAAgAAAAIAAAACAAAAAgAAAAIAAAACAAAAAgAAAAIAAAACAAAAAgAAAAIAAAACAAAAAgAAAAIAAAACAAAAAgAAAAIAAAACAAAAAgAAAAIAAAACAAAAAgAAAAIAAAACAAAAAgAAAAIAAAACAAAAAgAAAAIAAAACAAAAAgAAAAIAAAACAAAAAgAAAAIAAAACAAAAAgAAAAIAAAACAAAAAgAAAAIAAAACAAAAAgAAAAIAAAACAAAAAgAAAAIAAAACAAAAAgAAAAIAAAACAAAAAgAAAAIAAAACAAAAAgAAAAIAAAACAAAAAgAAAAIAAAACAAAAAgAAAAIAAAACAAAAAgAAAAIAAAACAAAAAgAAAAIAAAACAAAAAgAAAAIAAAACAAAAAgAAAAIAAOAAAADgAAAA4AAAAOAAAADgAAAA4AAAAOAAAADgAAAA4AAAAOAAAADgAAAA4AAAAOAAAADgAAAA4AAAAOAAAADgAAAA4AAAAOAAAADgAAAA4AAAAOAAAADgAAAA4AAAAOAAAADgAAAA4AAAAOAAAADgAAAA4AAAAOAAAADgAAAA4AAAAOAAAADgAAAA4AAAAOAAAADgAAAA4AAAAOAAAADgAAAA4AAAAOAAAADgAAAA4AAAAOAAAADgAAAA4AAAAOAAAADgAAAA4AAAAOAAAADgAAAA4AAAAOAAAADgAAAA4AAAAOAAAADgAAAA4AAAAOAAAADgAAAA4AAAAOAAAADgAAAA4AAAAOAAAADgAAAA4AAAAOAAAADgAAAA4AAAAOAAAADgAAAA4AAAAOAAAADgAAAA4AAAAOAAAADgAAAA4AAAAOAAAADgAAAA4AAAAOAAAADgAAAA4AAAAOAAAADgAAAA4AAAAOAAAADgAAAA4AAAAOAAAADgAAAA4AAAAOAAAADgAAAA4AAAAOAAAADgAAAA4AAAAOAAAADgAAAA4AAAAOAAAADgAAAA4AAAAOAAAADgAAAA4AAAAOAAAADgAAAA4AAAAOAAAADgAAAA4AAAAOAAAADgAAAA4AAAAOAAAADgAAAA4AAAAOAAAADgAAAA4AAAAOAAAADgAAAA4AAAAOAAAADgAAAA4AAAAOAAAADgAAAA4AAAAOAAAADgAAAA4AAAAOAAAADgAAAA4AAAAOAAAADgAAAA4AAAAOAAAADgAAAA4AAAAOAAAADgAAAA4AAAAOAAAADgAAAA4AAAAOAAAADgAAAA4AAAAOAAAADgAAAA4AAAAOAAAADgAAAA4AAAAOAAAADgAAAA4AAAAOAAAADgAAAA4AAAAOAAAADgAAAA4AAAAOAAAADgAAAA4AAAAOAAAADgAAAA4AAAAOAAAADgAAAA4AAAAOAAAADgAAAA4AAAAOAAAADgAAAA4AAAAOAAAADgAAAA4AAAAOAAAADgAAAA4AAAAOAAAADgAAAA4AAAAOAAAADgAAAA4AAAAOAAAADgAAAA4AAAAOAAAADgAAAA4AAAAOAAAADgAAAA4AAAAOAAAADgAAAA4AAAAOAAAADgAAAA4AAAAOAAAADgAAAA4AAAAOAAAADgAAAA4AAAAOAAAADgAAAA4AAAAOAAAADgAAAA4AAAAOAAAADgAAAA4AAAAOAAAADgAAAA4AAAAOAAAADgAAAA4AAAAOAAAADgAAAA4AAAAOAAAADgAAAA4AAAAOAAAADgAAAA4AAAAOAAAADgAAAA4AAAAOAAAADgAAAA4AAAAOAAAADgAAAA4AAAAOAAAADgAAAA4AAAAOAAAADgAAAA4AAAAOAAAADgAAAA4AAAAOAAAADgAAAA4AAAAOAAAADgAAAA4AAAAOAAAADgAAAA4AAAAOAAAADgAAAA4AAAAOAAAADgAAAA4AAAAOAAAADgAAAA4AAAAOAAAADgAAAA4AAAAOAAAADgAAAA4AAAAOAAAADgAAAA4AAAAOAAAADgAAAA4AAAAOAAAADgAAAA4AAAAOAAAADgAAAA4AAAAOAAAADgAAAA4AAAAOAAAADgAAAA4AAAAOAAAADgAAAA4AAAAOAAAADgAAAA4AAAAOAAAADgAAAA4AAAAOAAAADgAAAA4AAAAOAAAADgAAAA4AAAAOAAAADgAAAA4AAAAOAAAADgAAAA4AAAAOAAAADgAAAA4AAAAOAAAADgAAAA4AAAAOAAAADgAAAA4AAAAOAAAADgAAAA4AAAAOAAAADgAAAA4AAAAOAAAADgAAAA4AAAAOAAAADgAAAA4AAAAOAAAADgAAAA4AAAAOAAAADgAAAA4AAAAOAAAADgAAAA4AAAAOAAAADgAAAA4AAAAOAAAADgAAAA4AAAAOAAAADgAAAA4AAAAOAAAADgAAAA4AAAAOAAAADgAAAA4AAAAOAAAADgAAAA4AAAAOAAAADgAAAA4AAAAOAAAADgAAAA4AAAAOAAAADgAAAA4AAAAOAAAADgAAAA4AAAAOAAAADgAAAA4AAAAOAAAADgAAAA4AAAAOAAAADgAAAA4AAAAOAAAADgAAAA4AAAAOAAAADgAAAA4AAAAOAAAADgAAAA4AAAAOAAAADgAAAA4AAAAOAAAADgAAAA4AAAAOAAAADgAAAA4AAAAOAAAADgAAAA4AAAAOAAAADgAAAA4AAAAOAAAADgAAAA4AAAAOAAAADgAAAA4AAAAOAAAADgAAAA4AAAAOAAAADgAAAA4AAAAOAAAADgAAAA4AAAAOAAAADgAAAA4AAAAOAAAADgAAAA4AAAAOAAAADgAAAA4AAAAOAAAADgAAAA4AAAAOAAAADgAAAA4AAAAOAAAADgAAAA4AAAAOAAAADgAAAA4AAAAOAAAADgAAAA4AAAAOAAAADgAAAA4AAAAOAAAADgAAAA4AAAAOAAAADgAAAA4AAAAOAAAADgAAAA4AAAAOAAAADgAAAA4AAAAOAAAADgAAAA4AAAAOAAAADgAAAA4AAAAOAAAADgAAAA4AAAAOAAAADgAAAA4AAAAOAAAADgAAAA4AAAAOAAAADgAAAA4AAAAOAAAADgAAAA4AAAAOAAAADgAAAA4AAAAOAAAADgAAAA4AAAAOAAAADgAAAA4AAAAOAAAADgAAAA4AAAAOAAAADgAAAA4AAAAOAAAADgAAAA4AAAAOAAAADgAAAA4AAAAOAAAADgAAAA4AAAAOAAAADgAAAA4AAAAOAAAADgAAAA4AAAAOAAAADgAAAA4AAAAOAAAADgAAAA4AAAAOAAAADgAAAA4AAAAOAAAADgAAAA4AAAAOAAAADgAAAA4AAAAOAAAADgAAAA4AAAAOAAAADgAAAA4AAAAOAAAADgAAAA4AAAAOAAAADgAAAA4AAAAOAAAADgAAAA4AAAAOAAAADgAAAA4AAAAOAAAADgAAAA4AAAAOAAAADgAAAA4AAAAOAAAADgAAAA4AAAAOAAAADgAAAA4AAAAOAAAADgAAAA4AAAAOAAAADgAAAA4AAAAOAAAADgAAAA4AAAAOAAAADgAAAA4AAAAOAAAADgAAAA4AAAAOAAAADgAAAA4AAAAOAAAADgAAAA4AAAAOAAAADgAAAA4AAAAOAAAADgAAAA4AAAAOAAAADgAAAA4AAAAOAAAADgAAAA4AAAAOAAAADgAAAA4AAAAOAAAADgAAAA4AAAAOAAAADgAAAA4AAAAOAAAADgAAAA4AAAAOAAAADgAAAA4AAAAOAAAADgAAAA4AAAAOAAAADgAAAA4AAAAOAAAADgAAAA4AAAAOAAAADgAAAA4AAAAOAAAADgAAAA4AAAAOAAAADgAAAA4AAAAOAAAADgAAAA4AAAAOAAAADgAAAA4AAAAOAAAADgAAAA4AAAAOAAAADgAAAA4AAAAOAAAADgAAAA4AAAAOAAAADgAAAA4AAAAOAAAADgAAAA4AAAAOAAAADgAAAA4AAAAOAAAADgAAAA4AAAAOAAAADgAAAA4AAAAOAAAADgAAAA4AAAAOAAAADgAAAA4AAAAOAAAADgAAAA4AAAAOAAAADgAAAA4AAAAOAAAADgAAAA4AAAAOAAAADgAAAA4AAAAOAAAADgAAAA4AAAAOAAAADgAAAA4AAAAOAAAADgAAAA4AAAAOAAAADgAAAA4AAAAOAAAADgAAAA4AAAAOAAAADgAAAA4AAAAOAAAADgAAAA4AAAAOAAAADgAAAA4AAAAOAAAADgAAAA4AAAAOAAAADgAAAA4AAAAOAAAADgAAAA4AAAAOAAAADgAAAA4AAAAOAAAADgAAAA4AAAAOAAAADgAAAA4AAAAOAAAADgAAAA4AAAAOAAAADgAAAA4AAAAOAAAADgAAAA4AAAAOAAAADgAAAA4AAAAAACAAAAAgAAAAIAAAACAAAAAgAAAAIAAAACAAAAAgAAAAIAAAACAAAAAgAAAAIAAAACAAAAAgAAAAIAAAACAAAAAgAAAAIAAAACAAAAAgAAAAIAAAACAAAAAgAAAAIAAAACAAAAAgAAAAIAAAACAAAAAgAAAAIAAAACAAAAAgAAAAIAAAACAAAAAgAAAAIAAAACAAAAAgAAAAIAAAACAAAAAgAAAAIAAAACAAAAAgAAAAIAAAACAAAAAgAAAAIAAAACAAAAAgAAAAIAAAACAAAAAgAAAAIAAAACAAAAAgAAAAIAAAACAAAAAgAAAAIAAAACAAAAAgAAAAIAAAACAAAAAgAAAAIAAAACAAAAAgAAAAIAAAACAAAAAgAAAAIAAAACAAAAAgAAAAIAAAACAAAAAgAAAAIAAAACAAAAAgAAAAIAAAACAAAAAgAAAAIAAAACAAAAAgAAAAIAAAACAAAAAgAAAAIAAAACAAAAAgAAAAIAAAACAAAAAgAAAAIAAAACAAAAAgAAAAIAAAACAAAAAgAAAAIAAAACAAAAAgAAAAIAAAACAAAAAgAAAAIAAAACAAAAAgAAAAIAAAACAAAAAgAAAAIAAAACAAAAAgAAAAIAAAACAAAAAgAAAAIAAAACAAAAAgAAAAIAAAACAAAAAgAAAAIAAAACAAAAAgAAAAIAAAACAAAAAgAAAAIAAAACAAAAAgAAAAIAAAACAAAAAgAAAAIAAAACAAAAAgAAAAIAAAACAAAAAgAAAAIAAAACAAAAAgAAAAIAAAACAAAAAgAAAAIAAAACAAAAAgAAAAIAAAACAAAAAgAAAAIAAAACAAAAAgAAAAIAAAACAAAAAgAAAAIAAAACAAAAAgAAAAIAAAACAAAAAgAAAAIAAAACAAAAAgAAAAIAAAACAAAAAgAAAAIAAAACAAAAAgAAAAIAAAACAAAAAgAAAAIAAAACAAAAAgAAAAIAAAACAAAAAgAAAAIAAAACAAAAAgAAAAIAAAACAAAAAgAAAAIAAAACAAAAAgAAAAIAAAACAAAAAgAAAAIAAAACAAAAAgAAAAIAAAACAAAAAgAAAAIAAAACAAAAAgAAAAIAAAACAAAAAgAAAAIAAAACAAAAAgAAAAIAAAACAAAAAgAAAAIAAAACAAAAAgAAAAIAAAACAAAAAgAAAAIAAAACAAAAAgAAAAIAAAACAAAAAgAAAAIAAAACAAAAAgAAAAIAAAACAAAAAgAAAAIAAAACAAAAAgAAAAIAAAACAAAAAgAAAAIAAAACAAAAAgAAAAIAAAACAAAAAgAAAAIAAAACAAAAAgAAAAIAAAACAAAAAgAAAAIAAAACAAAAAgAAAAIAAAACAAAAAgAAAAIAAAACAAAAAgAAAAIAAAACAAAAAgAAAAIAAAACAAAAAgAAAAIAAAACAAAAAgAAAAIAAAACAAAAAgAA+gEAAAACAAAAAgAAAAIAAAACAAAAAgAAAAIAAAACAAAAAgAAAAIAAAACAAAAAgAAAAIAAAACAAAAAgAAAAIAAAACAAAAAgAAAAIAAAACAAAAAgAAAAIAAAACAAAAAgAAAAIAAAACAAAAAgAAAAIAAAACAAAAAgAAAAIAAAACAAAAAgAAAAIAAAACAAAAAgAAAAIAAAACAAAAAgAAAAIAAAACAAAAAgAAAAIAAAACAAAAAgAAAAIAAAACAAAAAgAAAAIAAAACAAAAAgAAAAIAAAACAAAAAgAAAAIAAAACAAAAAgAAAAIAAAACAAAAAgAAAAIAAAACAAAAAgAAAAIAAAACAAAAAgAAAAIAAAACAAAAAgAAAAIAAAACAAAAAgAAAAIAAAACAAAAAgAAAAIAAAACAAAAAgAAAAIAAAACAAAAAgAAAAIAAAACAAAAAgAAAAIAAAACAAAAAgAAAAIAAAACAAAAAgAAAAIAAAACAAAAAgAAAAIAAAACAAAAAgAAAAIAAAACAAAAAgAAAAIAAAACAAAAAgAAAAIAAAACAAAAAgAAAAIAAAACAAAAAgAAAAIAAAACAAAAAgAAAAIAAAACAAAAAgAAAAIAAAACAAAAAgAAAAIAAAACAAAAAgAAAAIAAAACAAAAAgAAAAIAAAACAAAAAgAAAAIAAAACAAAAAgAAAAIAAAACAAAAAgAAAAIAAAACAAAAAgAAAAIAAAACAAAAAgAAAAIAAAACAAAAAgAAAAIAAAACAAAAAgAA4AAAAOAAAADgAAAA4AAAAOAAAADgAAAA4AAAAOAAAADgAAAA4AAAAOAAAADgAAAA4AAAAOAAAADgAAAA4AAAAOAAAADgAAAA4AAAAOAAAADgAAAA4AAAAOAAAADgAAAA4AAAAOAAAADgAAAA4AAAAOAAAADgAAAA4AAAAOAAAADgAAAA4AAAAOAAAADgAAAA4AAAAOAAAADgAAAA4AAAAOAAAADgAAAA4AAAAOAAAADgAAAA4AAAAOAAAADgAAAA4AAAAOAAAADgAAAA4AAAAOAAAADgAAAA4AAAAOAAAADgAAAA4AAAAOAAAADgAAAA4AAAAOAAAADgAAAA4AAAAOAAAADgAAAA4AAAAOAAAADgAAAA4AAAAOAAAADgAAAA4AAAAOAAAADgAAAA4AAAAOAAAADgAAAA4AAAAOAAAADgAAAA4AAAAOAAAADgAAAA4AAAAOAAAADgAAAA4AAAAOAAAADgAAAA4AAAAOAAAADgAAAA4AAAAOAAAADgAAAA4AAAAOAAAADgAAAA4AAAAOAAAADgAAAA4AAAAOAAAADgAAAA4AAAAOAAAADgAAAA4AAAAOAAAADgAAAA4AAAAOAAAADgAAAA4AAAAOAAAADgAAAA4AAAAOAAAADgAAAA4AAAAOAAAADgAAAA4AAAAOAAAADgAAAA4AAAAOAAAADgAAAA4AAAAOAAAADgAAAA4AAAAOAAAADgAAAA4AAAAOAAAADgAAAA4AAAAOAAAADgAAAA4AAAAOAAAADgAAAA4AAAAOAAAADgAAAA4AAAAOAAAADgAAAA4AAAAOAAAADgAAAA4AAAAOAAAADgAAAA4AAAAOAAAADgAAAA4AAAAOAAAADgAAAA4AAAAOAAAADgAAAA4AAAAOAAAADgAAAA4AAAAOAAAADgAAAA4AAAAOAAAADgAAAA4AAAAOAAAADgAAAA4AAAAOAAAADgAAAA4AAAAOAAAADgAAAA4AAAAOAAAADgAAAA4AAAAOAAAADgAAAA4AAAAOAAAADgAAAA4AAAAOAAAADgAAAA4AAAAOAAAADgAAAA4AAAAOAAAADgAAAA4AAAAOAAAADgAAAA4AAAAOAAAADgAAAA4AAAAOAAAADgAAAA4AAAAOAAAADgAAAA4AAAAOAAAADgAAAA4AAAAOAAAADgAAAA4AAAAOAAAADgAAAA4AAAAOAAAADgAAAA4AAAAOAAAADgAAAA4AAAAOAAAADgAAAA4AAAAOAAAADgAAAA4AAAAOAAAADgAAAA4AAAAOAAAADgAAAA4AAAAOAAAADgAAAA4AAAAOAAAADgAAAA4AAAAOAAAADgAAAA4AAAAOAAAADgAAAA4AAAAOAAAADgAAAA4AAAAOAAAADgAAAA4AAAAOAAAADgAAAA4AAAAOAAAADgAAAA4AAAAOAAAADgAAAA4AAAAOAAAADgAAAA4AAAAOAAAADgAAAA4AAAAOAAAADgAAAA4AAAAOAAAADgAAAA4AAAAOAAAADgAAAA4AAAAOAAAADgAAAA4AAAAOAAAADgAAAA4AAAAOAAAADgAAAA4AAAAOAAAADgAAAA4AAAAOAAAADgAAAA",
          "dtype": "i4"
         },
         "yaxis": "y"
        }
       ],
       "layout": {
        "hovermode": "closest",
        "legend": {
         "tracegroupgap": 0
        },
        "showlegend": false,
        "template": {
         "data": {
          "bar": [
           {
            "error_x": {
             "color": "#2a3f5f"
            },
            "error_y": {
             "color": "#2a3f5f"
            },
            "marker": {
             "line": {
              "color": "#E5ECF6",
              "width": 0.5
             },
             "pattern": {
              "fillmode": "overlay",
              "size": 10,
              "solidity": 0.2
             }
            },
            "type": "bar"
           }
          ],
          "barpolar": [
           {
            "marker": {
             "line": {
              "color": "#E5ECF6",
              "width": 0.5
             },
             "pattern": {
              "fillmode": "overlay",
              "size": 10,
              "solidity": 0.2
             }
            },
            "type": "barpolar"
           }
          ],
          "carpet": [
           {
            "aaxis": {
             "endlinecolor": "#2a3f5f",
             "gridcolor": "white",
             "linecolor": "white",
             "minorgridcolor": "white",
             "startlinecolor": "#2a3f5f"
            },
            "baxis": {
             "endlinecolor": "#2a3f5f",
             "gridcolor": "white",
             "linecolor": "white",
             "minorgridcolor": "white",
             "startlinecolor": "#2a3f5f"
            },
            "type": "carpet"
           }
          ],
          "choropleth": [
           {
            "colorbar": {
             "outlinewidth": 0,
             "ticks": ""
            },
            "type": "choropleth"
           }
          ],
          "contour": [
           {
            "colorbar": {
             "outlinewidth": 0,
             "ticks": ""
            },
            "colorscale": [
             [
              0,
              "#0d0887"
             ],
             [
              0.1111111111111111,
              "#46039f"
             ],
             [
              0.2222222222222222,
              "#7201a8"
             ],
             [
              0.3333333333333333,
              "#9c179e"
             ],
             [
              0.4444444444444444,
              "#bd3786"
             ],
             [
              0.5555555555555556,
              "#d8576b"
             ],
             [
              0.6666666666666666,
              "#ed7953"
             ],
             [
              0.7777777777777778,
              "#fb9f3a"
             ],
             [
              0.8888888888888888,
              "#fdca26"
             ],
             [
              1,
              "#f0f921"
             ]
            ],
            "type": "contour"
           }
          ],
          "contourcarpet": [
           {
            "colorbar": {
             "outlinewidth": 0,
             "ticks": ""
            },
            "type": "contourcarpet"
           }
          ],
          "heatmap": [
           {
            "colorbar": {
             "outlinewidth": 0,
             "ticks": ""
            },
            "colorscale": [
             [
              0,
              "#0d0887"
             ],
             [
              0.1111111111111111,
              "#46039f"
             ],
             [
              0.2222222222222222,
              "#7201a8"
             ],
             [
              0.3333333333333333,
              "#9c179e"
             ],
             [
              0.4444444444444444,
              "#bd3786"
             ],
             [
              0.5555555555555556,
              "#d8576b"
             ],
             [
              0.6666666666666666,
              "#ed7953"
             ],
             [
              0.7777777777777778,
              "#fb9f3a"
             ],
             [
              0.8888888888888888,
              "#fdca26"
             ],
             [
              1,
              "#f0f921"
             ]
            ],
            "type": "heatmap"
           }
          ],
          "histogram": [
           {
            "marker": {
             "pattern": {
              "fillmode": "overlay",
              "size": 10,
              "solidity": 0.2
             }
            },
            "type": "histogram"
           }
          ],
          "histogram2d": [
           {
            "colorbar": {
             "outlinewidth": 0,
             "ticks": ""
            },
            "colorscale": [
             [
              0,
              "#0d0887"
             ],
             [
              0.1111111111111111,
              "#46039f"
             ],
             [
              0.2222222222222222,
              "#7201a8"
             ],
             [
              0.3333333333333333,
              "#9c179e"
             ],
             [
              0.4444444444444444,
              "#bd3786"
             ],
             [
              0.5555555555555556,
              "#d8576b"
             ],
             [
              0.6666666666666666,
              "#ed7953"
             ],
             [
              0.7777777777777778,
              "#fb9f3a"
             ],
             [
              0.8888888888888888,
              "#fdca26"
             ],
             [
              1,
              "#f0f921"
             ]
            ],
            "type": "histogram2d"
           }
          ],
          "histogram2dcontour": [
           {
            "colorbar": {
             "outlinewidth": 0,
             "ticks": ""
            },
            "colorscale": [
             [
              0,
              "#0d0887"
             ],
             [
              0.1111111111111111,
              "#46039f"
             ],
             [
              0.2222222222222222,
              "#7201a8"
             ],
             [
              0.3333333333333333,
              "#9c179e"
             ],
             [
              0.4444444444444444,
              "#bd3786"
             ],
             [
              0.5555555555555556,
              "#d8576b"
             ],
             [
              0.6666666666666666,
              "#ed7953"
             ],
             [
              0.7777777777777778,
              "#fb9f3a"
             ],
             [
              0.8888888888888888,
              "#fdca26"
             ],
             [
              1,
              "#f0f921"
             ]
            ],
            "type": "histogram2dcontour"
           }
          ],
          "mesh3d": [
           {
            "colorbar": {
             "outlinewidth": 0,
             "ticks": ""
            },
            "type": "mesh3d"
           }
          ],
          "parcoords": [
           {
            "line": {
             "colorbar": {
              "outlinewidth": 0,
              "ticks": ""
             }
            },
            "type": "parcoords"
           }
          ],
          "pie": [
           {
            "automargin": true,
            "type": "pie"
           }
          ],
          "scatter": [
           {
            "fillpattern": {
             "fillmode": "overlay",
             "size": 10,
             "solidity": 0.2
            },
            "type": "scatter"
           }
          ],
          "scatter3d": [
           {
            "line": {
             "colorbar": {
              "outlinewidth": 0,
              "ticks": ""
             }
            },
            "marker": {
             "colorbar": {
              "outlinewidth": 0,
              "ticks": ""
             }
            },
            "type": "scatter3d"
           }
          ],
          "scattercarpet": [
           {
            "marker": {
             "colorbar": {
              "outlinewidth": 0,
              "ticks": ""
             }
            },
            "type": "scattercarpet"
           }
          ],
          "scattergeo": [
           {
            "marker": {
             "colorbar": {
              "outlinewidth": 0,
              "ticks": ""
             }
            },
            "type": "scattergeo"
           }
          ],
          "scattergl": [
           {
            "marker": {
             "colorbar": {
              "outlinewidth": 0,
              "ticks": ""
             }
            },
            "type": "scattergl"
           }
          ],
          "scattermap": [
           {
            "marker": {
             "colorbar": {
              "outlinewidth": 0,
              "ticks": ""
             }
            },
            "type": "scattermap"
           }
          ],
          "scattermapbox": [
           {
            "marker": {
             "colorbar": {
              "outlinewidth": 0,
              "ticks": ""
             }
            },
            "type": "scattermapbox"
           }
          ],
          "scatterpolar": [
           {
            "marker": {
             "colorbar": {
              "outlinewidth": 0,
              "ticks": ""
             }
            },
            "type": "scatterpolar"
           }
          ],
          "scatterpolargl": [
           {
            "marker": {
             "colorbar": {
              "outlinewidth": 0,
              "ticks": ""
             }
            },
            "type": "scatterpolargl"
           }
          ],
          "scatterternary": [
           {
            "marker": {
             "colorbar": {
              "outlinewidth": 0,
              "ticks": ""
             }
            },
            "type": "scatterternary"
           }
          ],
          "surface": [
           {
            "colorbar": {
             "outlinewidth": 0,
             "ticks": ""
            },
            "colorscale": [
             [
              0,
              "#0d0887"
             ],
             [
              0.1111111111111111,
              "#46039f"
             ],
             [
              0.2222222222222222,
              "#7201a8"
             ],
             [
              0.3333333333333333,
              "#9c179e"
             ],
             [
              0.4444444444444444,
              "#bd3786"
             ],
             [
              0.5555555555555556,
              "#d8576b"
             ],
             [
              0.6666666666666666,
              "#ed7953"
             ],
             [
              0.7777777777777778,
              "#fb9f3a"
             ],
             [
              0.8888888888888888,
              "#fdca26"
             ],
             [
              1,
              "#f0f921"
             ]
            ],
            "type": "surface"
           }
          ],
          "table": [
           {
            "cells": {
             "fill": {
              "color": "#EBF0F8"
             },
             "line": {
              "color": "white"
             }
            },
            "header": {
             "fill": {
              "color": "#C8D4E3"
             },
             "line": {
              "color": "white"
             }
            },
            "type": "table"
           }
          ]
         },
         "layout": {
          "annotationdefaults": {
           "arrowcolor": "#2a3f5f",
           "arrowhead": 0,
           "arrowwidth": 1
          },
          "autotypenumbers": "strict",
          "coloraxis": {
           "colorbar": {
            "outlinewidth": 0,
            "ticks": ""
           }
          },
          "colorscale": {
           "diverging": [
            [
             0,
             "#8e0152"
            ],
            [
             0.1,
             "#c51b7d"
            ],
            [
             0.2,
             "#de77ae"
            ],
            [
             0.3,
             "#f1b6da"
            ],
            [
             0.4,
             "#fde0ef"
            ],
            [
             0.5,
             "#f7f7f7"
            ],
            [
             0.6,
             "#e6f5d0"
            ],
            [
             0.7,
             "#b8e186"
            ],
            [
             0.8,
             "#7fbc41"
            ],
            [
             0.9,
             "#4d9221"
            ],
            [
             1,
             "#276419"
            ]
           ],
           "sequential": [
            [
             0,
             "#0d0887"
            ],
            [
             0.1111111111111111,
             "#46039f"
            ],
            [
             0.2222222222222222,
             "#7201a8"
            ],
            [
             0.3333333333333333,
             "#9c179e"
            ],
            [
             0.4444444444444444,
             "#bd3786"
            ],
            [
             0.5555555555555556,
             "#d8576b"
            ],
            [
             0.6666666666666666,
             "#ed7953"
            ],
            [
             0.7777777777777778,
             "#fb9f3a"
            ],
            [
             0.8888888888888888,
             "#fdca26"
            ],
            [
             1,
             "#f0f921"
            ]
           ],
           "sequentialminus": [
            [
             0,
             "#0d0887"
            ],
            [
             0.1111111111111111,
             "#46039f"
            ],
            [
             0.2222222222222222,
             "#7201a8"
            ],
            [
             0.3333333333333333,
             "#9c179e"
            ],
            [
             0.4444444444444444,
             "#bd3786"
            ],
            [
             0.5555555555555556,
             "#d8576b"
            ],
            [
             0.6666666666666666,
             "#ed7953"
            ],
            [
             0.7777777777777778,
             "#fb9f3a"
            ],
            [
             0.8888888888888888,
             "#fdca26"
            ],
            [
             1,
             "#f0f921"
            ]
           ]
          },
          "colorway": [
           "#636efa",
           "#EF553B",
           "#00cc96",
           "#ab63fa",
           "#FFA15A",
           "#19d3f3",
           "#FF6692",
           "#B6E880",
           "#FF97FF",
           "#FECB52"
          ],
          "font": {
           "color": "#2a3f5f"
          },
          "geo": {
           "bgcolor": "white",
           "lakecolor": "white",
           "landcolor": "#E5ECF6",
           "showlakes": true,
           "showland": true,
           "subunitcolor": "white"
          },
          "hoverlabel": {
           "align": "left"
          },
          "hovermode": "closest",
          "mapbox": {
           "style": "light"
          },
          "paper_bgcolor": "white",
          "plot_bgcolor": "#E5ECF6",
          "polar": {
           "angularaxis": {
            "gridcolor": "white",
            "linecolor": "white",
            "ticks": ""
           },
           "bgcolor": "#E5ECF6",
           "radialaxis": {
            "gridcolor": "white",
            "linecolor": "white",
            "ticks": ""
           }
          },
          "scene": {
           "xaxis": {
            "backgroundcolor": "#E5ECF6",
            "gridcolor": "white",
            "gridwidth": 2,
            "linecolor": "white",
            "showbackground": true,
            "ticks": "",
            "zerolinecolor": "white"
           },
           "yaxis": {
            "backgroundcolor": "#E5ECF6",
            "gridcolor": "white",
            "gridwidth": 2,
            "linecolor": "white",
            "showbackground": true,
            "ticks": "",
            "zerolinecolor": "white"
           },
           "zaxis": {
            "backgroundcolor": "#E5ECF6",
            "gridcolor": "white",
            "gridwidth": 2,
            "linecolor": "white",
            "showbackground": true,
            "ticks": "",
            "zerolinecolor": "white"
           }
          },
          "shapedefaults": {
           "line": {
            "color": "#2a3f5f"
           }
          },
          "ternary": {
           "aaxis": {
            "gridcolor": "white",
            "linecolor": "white",
            "ticks": ""
           },
           "baxis": {
            "gridcolor": "white",
            "linecolor": "white",
            "ticks": ""
           },
           "bgcolor": "#E5ECF6",
           "caxis": {
            "gridcolor": "white",
            "linecolor": "white",
            "ticks": ""
           }
          },
          "title": {
           "x": 0.05
          },
          "xaxis": {
           "automargin": true,
           "gridcolor": "white",
           "linecolor": "white",
           "ticks": "",
           "title": {
            "standoff": 15
           },
           "zerolinecolor": "white",
           "zerolinewidth": 2
          },
          "yaxis": {
           "automargin": true,
           "gridcolor": "white",
           "linecolor": "white",
           "ticks": "",
           "title": {
            "standoff": 15
           },
           "zerolinecolor": "white",
           "zerolinewidth": 2
          }
         }
        },
        "title": {
         "text": "Resolução das imagens"
        },
        "xaxis": {
         "anchor": "y",
         "domain": [
          0,
          1
         ],
         "title": {
          "text": "Width (Pixel)"
         }
        },
        "yaxis": {
         "anchor": "x",
         "domain": [
          0,
          1
         ],
         "title": {
          "text": "Height (Pixel)"
         }
        }
       }
      }
     },
     "metadata": {},
     "output_type": "display_data"
    }
   ],
   "source": [
    "fig = px.scatter(x = resolutions[:,0], y = resolutions[:,1], title = \"Resolução das imagens\")\n",
    "fig.update_layout(\n",
    "    xaxis_title = \"Width (Pixel)\",\n",
    "    yaxis_title = \"Height (Pixel)\",\n",
    "    showlegend = False,\n",
    "    hovermode = \"closest\"\n",
    ")\n",
    "fig.update_traces(marker = dict(color=\"red\"))\n",
    "fig.show()"
   ]
  },
  {
   "cell_type": "code",
   "execution_count": 104,
   "metadata": {
    "execution": {
     "iopub.execute_input": "2025-02-19T19:21:25.154467Z",
     "iopub.status.busy": "2025-02-19T19:21:25.154122Z",
     "iopub.status.idle": "2025-02-19T19:21:25.171440Z",
     "shell.execute_reply": "2025-02-19T19:21:25.170558Z",
     "shell.execute_reply.started": "2025-02-19T19:21:25.154440Z"
    },
    "trusted": true
   },
   "outputs": [
    {
     "data": {
      "application/vnd.plotly.v1+json": {
       "config": {
        "plotlyServerURL": "https://plot.ly"
       },
       "data": [
        {
         "name": "Distribuição de cores",
         "type": "bar",
         "x": {
          "bdata": "AAAAAAEAAAACAAAAAwAAAAQAAAAFAAAABgAAAAcAAAAIAAAACQAAAAoAAAALAAAADAAAAA0AAAAOAAAADwAAABAAAAARAAAAEgAAABMAAAAUAAAAFQAAABYAAAAXAAAAGAAAABkAAAAaAAAAGwAAABwAAAAdAAAAHgAAAB8AAAAgAAAAIQAAACIAAAAjAAAAJAAAACUAAAAmAAAAJwAAACgAAAApAAAAKgAAACsAAAAsAAAALQAAAC4AAAAvAAAAMAAAADEAAAAyAAAAMwAAADQAAAA1AAAANgAAADcAAAA4AAAAOQAAADoAAAA7AAAAPAAAAD0AAAA+AAAAPwAAAEAAAABBAAAAQgAAAEMAAABEAAAARQAAAEYAAABHAAAASAAAAEkAAABKAAAASwAAAEwAAABNAAAATgAAAE8AAABQAAAAUQAAAFIAAABTAAAAVAAAAFUAAABWAAAAVwAAAFgAAABZAAAAWgAAAFsAAABcAAAAXQAAAF4AAABfAAAAYAAAAGEAAABiAAAAYwAAAGQAAABlAAAAZgAAAGcAAABoAAAAaQAAAGoAAABrAAAAbAAAAG0AAABuAAAAbwAAAHAAAABxAAAAcgAAAHMAAAB0AAAAdQAAAHYAAAB3AAAAeAAAAHkAAAB6AAAAewAAAHwAAAB9AAAAfgAAAH8AAACAAAAAgQAAAIIAAACDAAAAhAAAAIUAAACGAAAAhwAAAIgAAACJAAAAigAAAIsAAACMAAAAjQAAAI4AAACPAAAAkAAAAJEAAACSAAAAkwAAAJQAAACVAAAAlgAAAJcAAACYAAAAmQAAAJoAAACbAAAAnAAAAJ0AAACeAAAAnwAAAKAAAAChAAAAogAAAKMAAACkAAAApQAAAKYAAACnAAAAqAAAAKkAAACqAAAAqwAAAKwAAACtAAAArgAAAK8AAACwAAAAsQAAALIAAACzAAAAtAAAALUAAAC2AAAAtwAAALgAAAC5AAAAugAAALsAAAC8AAAAvQAAAL4AAAC/AAAAwAAAAMEAAADCAAAAwwAAAMQAAADFAAAAxgAAAMcAAADIAAAAyQAAAMoAAADLAAAAzAAAAM0AAADOAAAAzwAAANAAAADRAAAA0gAAANMAAADUAAAA1QAAANYAAADXAAAA2AAAANkAAADaAAAA2wAAANwAAADdAAAA3gAAAN8AAADgAAAA4QAAAOIAAADjAAAA5AAAAOUAAADmAAAA5wAAAOgAAADpAAAA6gAAAOsAAADsAAAA7QAAAO4AAADvAAAA8AAAAPEAAADyAAAA8wAAAPQAAAD1AAAA9gAAAPcAAAD4AAAA+QAAAPoAAAD7AAAA/AAAAP0AAAD+AAAA/wAAAA==",
          "dtype": "i4"
         },
         "y": {
          "bdata": "rWviyHCGpkBKRwuJlGJmQGbROLdR4GNAC4mUoux4b0Bthb+UJ+qFQBehScJVH41ADbFA8I13hkBX+Et5Imp+QGf55ATzXnJAeiyVMQ22ZUAxdKol9QBeQMYqbYW/VFlALSRSirKjWUDvb0b3sm1aQMR9Cw5KDFtA2xTqfPc3W0A1XY6RXL9aQH+kmRrxoVtAEPctOCixYEBPtaQe0NpgQFd9AaP2I2RAwS2zcgePY0CTCWHoVAtiQNw8lsqYBmZAaSGRUpTdZEA2e8+LVfpjQBnJ9Q/3jWpAmiRc9QXsaEClHtAadpdoQOwzxALB92tA6vdBDs8hbECxNoU6371tQCpZrxhEYHBAfGgXJv+rb0C9WKWt8AdyQKhuKLa4NHRAKDEDy6LheEBjnyEWCMKSQIW/lCfir9lAfONh/Cqks0BHhtNqzm2+QCIWCL7xYMhAotji0tup0UDGNNjY5w7VQM93fzO6t8pAyXrFIIIywEAv2x5V0Fu2QCb1gNaw6LFA3tUhm70IsEAoMQPLogOvQAV4BOnjM65AhTrf/c3IqUD18bUzP+WqQI6H8avIG6pAfQGj9iMdq0CS4bSas/isQDDliah4XaxAI7n+4b5LqEDe34zuZamkQEyDjX2GiKBAfoZYIPgOoUDoz5XALcefQMWR4bSaW51AaZzbKMD/m0DiyHBazQmbQI+bx1IZc5pAjFXaCn/FmUC+8TB+FVWZQFdzlk9OQJZAlBPMO/12mED3N6N72QKYQAGZi9AkZZdACvAI0sfnlkD6abocI02WQJQTzDv9ypVADTb2GWIRlUATPRuAwkqSQIotLr3dwpNAvmx7VEEzk0AyF6FJwoGSQCcJV30Bx5FAFep89zcXkUDAlCei4mWQQFiR10lHY49AWsPu6pDljUCQw3OguuGJQLUV/lKegItAvDpks/dcikCLvE46WlCJQGiIBYJvPIhABy/RswEYh0Ajuf7hviWGQEkpyo6bD4VAp9Wc5ZMzgkA4HsavIl+DQDpQ3VBsmYJAqhuKLS7VgUDSTI340P6AQMy2RxX0V4BAe0Br2F1Nf0DBLbNyB+99QOJDuzD5r3xAVDcUW1z6eEDIZu95sXp6QCXhqi9glHlA5OaxVMakeEBExZtMCLN3QLQLk//11HZAUGIGlkUTdkCAPSXrFUN1QNR+pJkakXJAnFZzlk/uc0CWwC2zcldzQPYZYoHgy3JAJvWA1rArckBjEAGZi7BxQCcdLSRSSnFAsUDwjYfBcEDD2hTqfFdwQH6GWCD4Bm1A+4f7Fhw0b0Baw+7qkI1uQDOmwcY+421A1z/ct+BgbUCt5iyfnMBsQPppuhwjWWxAxqW3W+uaa0B8XqzSVrhoQCvyOulo4WpAtq6JI8OJakCaLsdIrh9qQJFSlB03z2lAd/ASPRuAaUCdYN7p90FpQGo/0kyN2GhAn5xg3umXaECX3m6ta2JmQMalt1vrOmhA+EEOz4EKaECOh/GryAtoQHd1yGbv2WdAMOWJqHizZ0BiBpZF47xnQNlx81gqo2dAZmBZNM5tZ0CDgxIzsExlQKu0Ff5SPmdAPi9WaSs8Z0BSBf25EjhnQLNyBy/RM2dA7K4O2ew9Z0AOxRaX3g5nQOyuDtnsHWdAZKmMabAxZUCPIH187SxnQKkHtIbdNWdAgVH7kWZKZ0C6l22PKmhnQIShUy2pJ2dANvYZYoFAZ0DT5RjJ9Y9nQBrnNgrwaGdAV3OWT05wZUB4DlQ3FHtnQOPS2611zWdA1iGbveflZ0AeS2VMgy1oQM+B6oZiS2hAVDcUW1xaaECD/lwJ3JJoQGHyv56StWZATqs5yycHaUBTlB03j4VpQBKu+gJGLWpAOB7GryIPa0D+SDM14gNsQCKlKDtuPm1AKCeYd/q9bkDfbq1r4khwQJ+cYN7pF3BArvCX8kQEc0DpaCGRUiR1QEkpyo6bV3dAO24eS2XceUAQ9y04KHF8QBGQuQhNUn9AolMtqQdcgUA0P02XY9SBQA5KzMCywIZAQgRkLkKbi0CtYXd1yFqRQE4mhKFTYZZAjF9FXifBnECyzxALBKOhQPYP9y049qNAxQwsi8aTpED5VeR10umhQDk8B6obxKJA0kIipShjoUCNabCxzwigQFrNWT455Z1AKUXZcfMknEDK/3pK1suaQP0+yOE5vJlAtaQe0Bp6lkDBQYkZWKKYQOadfh/kpJhAygnmnX7HmECPFhIpRTGZQO3MT9Pl3JlASkcLiZTumkDf/c3oXlacQLuh2OLS951Avw9yeA6snED/ZnQv2yyhQCt38BI926JAyXBazVnIpEATuGVW7hCnQHtAa9hdX6lAbyi2uPQKq0AnmHf6fQarQK1XDCIg56ZAtJBIKcrmpkAzsCwa53ajQGxnfpou259A17omjgwHmkDXxJHhtKaVQAaWRePcmpJAu6HY4tJvkEBn+eQE86aNQO5RBf25YohAN4U63/1FiUA9oDXsrm6HQPlV5HXSsYVARV4nHS00hEAvVmkr/OWCQMjhOVDduIFA0r1se1R5gEBOMO/0+wB8QMoJ5p1+v3xAFFHxJhPyekA2e8+LVXp5QLWkHtAaNnhACuadfh9kd0C3wl/KE9F2QEQ2e8+LVXZAa0k9oDUMdkC0C5P/9QR0QEBXArfM+nVAol2Y/K83dkA5t1GAR4B2QPXxtTM//XZA6xWDCMisd0D9PsjhOXB4QPYP9y04MIRABoJvPIzLu0A=",
          "dtype": "f8"
         }
        }
       ],
       "layout": {
        "template": {
         "data": {
          "bar": [
           {
            "error_x": {
             "color": "#2a3f5f"
            },
            "error_y": {
             "color": "#2a3f5f"
            },
            "marker": {
             "line": {
              "color": "#E5ECF6",
              "width": 0.5
             },
             "pattern": {
              "fillmode": "overlay",
              "size": 10,
              "solidity": 0.2
             }
            },
            "type": "bar"
           }
          ],
          "barpolar": [
           {
            "marker": {
             "line": {
              "color": "#E5ECF6",
              "width": 0.5
             },
             "pattern": {
              "fillmode": "overlay",
              "size": 10,
              "solidity": 0.2
             }
            },
            "type": "barpolar"
           }
          ],
          "carpet": [
           {
            "aaxis": {
             "endlinecolor": "#2a3f5f",
             "gridcolor": "white",
             "linecolor": "white",
             "minorgridcolor": "white",
             "startlinecolor": "#2a3f5f"
            },
            "baxis": {
             "endlinecolor": "#2a3f5f",
             "gridcolor": "white",
             "linecolor": "white",
             "minorgridcolor": "white",
             "startlinecolor": "#2a3f5f"
            },
            "type": "carpet"
           }
          ],
          "choropleth": [
           {
            "colorbar": {
             "outlinewidth": 0,
             "ticks": ""
            },
            "type": "choropleth"
           }
          ],
          "contour": [
           {
            "colorbar": {
             "outlinewidth": 0,
             "ticks": ""
            },
            "colorscale": [
             [
              0,
              "#0d0887"
             ],
             [
              0.1111111111111111,
              "#46039f"
             ],
             [
              0.2222222222222222,
              "#7201a8"
             ],
             [
              0.3333333333333333,
              "#9c179e"
             ],
             [
              0.4444444444444444,
              "#bd3786"
             ],
             [
              0.5555555555555556,
              "#d8576b"
             ],
             [
              0.6666666666666666,
              "#ed7953"
             ],
             [
              0.7777777777777778,
              "#fb9f3a"
             ],
             [
              0.8888888888888888,
              "#fdca26"
             ],
             [
              1,
              "#f0f921"
             ]
            ],
            "type": "contour"
           }
          ],
          "contourcarpet": [
           {
            "colorbar": {
             "outlinewidth": 0,
             "ticks": ""
            },
            "type": "contourcarpet"
           }
          ],
          "heatmap": [
           {
            "colorbar": {
             "outlinewidth": 0,
             "ticks": ""
            },
            "colorscale": [
             [
              0,
              "#0d0887"
             ],
             [
              0.1111111111111111,
              "#46039f"
             ],
             [
              0.2222222222222222,
              "#7201a8"
             ],
             [
              0.3333333333333333,
              "#9c179e"
             ],
             [
              0.4444444444444444,
              "#bd3786"
             ],
             [
              0.5555555555555556,
              "#d8576b"
             ],
             [
              0.6666666666666666,
              "#ed7953"
             ],
             [
              0.7777777777777778,
              "#fb9f3a"
             ],
             [
              0.8888888888888888,
              "#fdca26"
             ],
             [
              1,
              "#f0f921"
             ]
            ],
            "type": "heatmap"
           }
          ],
          "histogram": [
           {
            "marker": {
             "pattern": {
              "fillmode": "overlay",
              "size": 10,
              "solidity": 0.2
             }
            },
            "type": "histogram"
           }
          ],
          "histogram2d": [
           {
            "colorbar": {
             "outlinewidth": 0,
             "ticks": ""
            },
            "colorscale": [
             [
              0,
              "#0d0887"
             ],
             [
              0.1111111111111111,
              "#46039f"
             ],
             [
              0.2222222222222222,
              "#7201a8"
             ],
             [
              0.3333333333333333,
              "#9c179e"
             ],
             [
              0.4444444444444444,
              "#bd3786"
             ],
             [
              0.5555555555555556,
              "#d8576b"
             ],
             [
              0.6666666666666666,
              "#ed7953"
             ],
             [
              0.7777777777777778,
              "#fb9f3a"
             ],
             [
              0.8888888888888888,
              "#fdca26"
             ],
             [
              1,
              "#f0f921"
             ]
            ],
            "type": "histogram2d"
           }
          ],
          "histogram2dcontour": [
           {
            "colorbar": {
             "outlinewidth": 0,
             "ticks": ""
            },
            "colorscale": [
             [
              0,
              "#0d0887"
             ],
             [
              0.1111111111111111,
              "#46039f"
             ],
             [
              0.2222222222222222,
              "#7201a8"
             ],
             [
              0.3333333333333333,
              "#9c179e"
             ],
             [
              0.4444444444444444,
              "#bd3786"
             ],
             [
              0.5555555555555556,
              "#d8576b"
             ],
             [
              0.6666666666666666,
              "#ed7953"
             ],
             [
              0.7777777777777778,
              "#fb9f3a"
             ],
             [
              0.8888888888888888,
              "#fdca26"
             ],
             [
              1,
              "#f0f921"
             ]
            ],
            "type": "histogram2dcontour"
           }
          ],
          "mesh3d": [
           {
            "colorbar": {
             "outlinewidth": 0,
             "ticks": ""
            },
            "type": "mesh3d"
           }
          ],
          "parcoords": [
           {
            "line": {
             "colorbar": {
              "outlinewidth": 0,
              "ticks": ""
             }
            },
            "type": "parcoords"
           }
          ],
          "pie": [
           {
            "automargin": true,
            "type": "pie"
           }
          ],
          "scatter": [
           {
            "fillpattern": {
             "fillmode": "overlay",
             "size": 10,
             "solidity": 0.2
            },
            "type": "scatter"
           }
          ],
          "scatter3d": [
           {
            "line": {
             "colorbar": {
              "outlinewidth": 0,
              "ticks": ""
             }
            },
            "marker": {
             "colorbar": {
              "outlinewidth": 0,
              "ticks": ""
             }
            },
            "type": "scatter3d"
           }
          ],
          "scattercarpet": [
           {
            "marker": {
             "colorbar": {
              "outlinewidth": 0,
              "ticks": ""
             }
            },
            "type": "scattercarpet"
           }
          ],
          "scattergeo": [
           {
            "marker": {
             "colorbar": {
              "outlinewidth": 0,
              "ticks": ""
             }
            },
            "type": "scattergeo"
           }
          ],
          "scattergl": [
           {
            "marker": {
             "colorbar": {
              "outlinewidth": 0,
              "ticks": ""
             }
            },
            "type": "scattergl"
           }
          ],
          "scattermap": [
           {
            "marker": {
             "colorbar": {
              "outlinewidth": 0,
              "ticks": ""
             }
            },
            "type": "scattermap"
           }
          ],
          "scattermapbox": [
           {
            "marker": {
             "colorbar": {
              "outlinewidth": 0,
              "ticks": ""
             }
            },
            "type": "scattermapbox"
           }
          ],
          "scatterpolar": [
           {
            "marker": {
             "colorbar": {
              "outlinewidth": 0,
              "ticks": ""
             }
            },
            "type": "scatterpolar"
           }
          ],
          "scatterpolargl": [
           {
            "marker": {
             "colorbar": {
              "outlinewidth": 0,
              "ticks": ""
             }
            },
            "type": "scatterpolargl"
           }
          ],
          "scatterternary": [
           {
            "marker": {
             "colorbar": {
              "outlinewidth": 0,
              "ticks": ""
             }
            },
            "type": "scatterternary"
           }
          ],
          "surface": [
           {
            "colorbar": {
             "outlinewidth": 0,
             "ticks": ""
            },
            "colorscale": [
             [
              0,
              "#0d0887"
             ],
             [
              0.1111111111111111,
              "#46039f"
             ],
             [
              0.2222222222222222,
              "#7201a8"
             ],
             [
              0.3333333333333333,
              "#9c179e"
             ],
             [
              0.4444444444444444,
              "#bd3786"
             ],
             [
              0.5555555555555556,
              "#d8576b"
             ],
             [
              0.6666666666666666,
              "#ed7953"
             ],
             [
              0.7777777777777778,
              "#fb9f3a"
             ],
             [
              0.8888888888888888,
              "#fdca26"
             ],
             [
              1,
              "#f0f921"
             ]
            ],
            "type": "surface"
           }
          ],
          "table": [
           {
            "cells": {
             "fill": {
              "color": "#EBF0F8"
             },
             "line": {
              "color": "white"
             }
            },
            "header": {
             "fill": {
              "color": "#C8D4E3"
             },
             "line": {
              "color": "white"
             }
            },
            "type": "table"
           }
          ]
         },
         "layout": {
          "annotationdefaults": {
           "arrowcolor": "#2a3f5f",
           "arrowhead": 0,
           "arrowwidth": 1
          },
          "autotypenumbers": "strict",
          "coloraxis": {
           "colorbar": {
            "outlinewidth": 0,
            "ticks": ""
           }
          },
          "colorscale": {
           "diverging": [
            [
             0,
             "#8e0152"
            ],
            [
             0.1,
             "#c51b7d"
            ],
            [
             0.2,
             "#de77ae"
            ],
            [
             0.3,
             "#f1b6da"
            ],
            [
             0.4,
             "#fde0ef"
            ],
            [
             0.5,
             "#f7f7f7"
            ],
            [
             0.6,
             "#e6f5d0"
            ],
            [
             0.7,
             "#b8e186"
            ],
            [
             0.8,
             "#7fbc41"
            ],
            [
             0.9,
             "#4d9221"
            ],
            [
             1,
             "#276419"
            ]
           ],
           "sequential": [
            [
             0,
             "#0d0887"
            ],
            [
             0.1111111111111111,
             "#46039f"
            ],
            [
             0.2222222222222222,
             "#7201a8"
            ],
            [
             0.3333333333333333,
             "#9c179e"
            ],
            [
             0.4444444444444444,
             "#bd3786"
            ],
            [
             0.5555555555555556,
             "#d8576b"
            ],
            [
             0.6666666666666666,
             "#ed7953"
            ],
            [
             0.7777777777777778,
             "#fb9f3a"
            ],
            [
             0.8888888888888888,
             "#fdca26"
            ],
            [
             1,
             "#f0f921"
            ]
           ],
           "sequentialminus": [
            [
             0,
             "#0d0887"
            ],
            [
             0.1111111111111111,
             "#46039f"
            ],
            [
             0.2222222222222222,
             "#7201a8"
            ],
            [
             0.3333333333333333,
             "#9c179e"
            ],
            [
             0.4444444444444444,
             "#bd3786"
            ],
            [
             0.5555555555555556,
             "#d8576b"
            ],
            [
             0.6666666666666666,
             "#ed7953"
            ],
            [
             0.7777777777777778,
             "#fb9f3a"
            ],
            [
             0.8888888888888888,
             "#fdca26"
            ],
            [
             1,
             "#f0f921"
            ]
           ]
          },
          "colorway": [
           "#636efa",
           "#EF553B",
           "#00cc96",
           "#ab63fa",
           "#FFA15A",
           "#19d3f3",
           "#FF6692",
           "#B6E880",
           "#FF97FF",
           "#FECB52"
          ],
          "font": {
           "color": "#2a3f5f"
          },
          "geo": {
           "bgcolor": "white",
           "lakecolor": "white",
           "landcolor": "#E5ECF6",
           "showlakes": true,
           "showland": true,
           "subunitcolor": "white"
          },
          "hoverlabel": {
           "align": "left"
          },
          "hovermode": "closest",
          "mapbox": {
           "style": "light"
          },
          "paper_bgcolor": "white",
          "plot_bgcolor": "#E5ECF6",
          "polar": {
           "angularaxis": {
            "gridcolor": "white",
            "linecolor": "white",
            "ticks": ""
           },
           "bgcolor": "#E5ECF6",
           "radialaxis": {
            "gridcolor": "white",
            "linecolor": "white",
            "ticks": ""
           }
          },
          "scene": {
           "xaxis": {
            "backgroundcolor": "#E5ECF6",
            "gridcolor": "white",
            "gridwidth": 2,
            "linecolor": "white",
            "showbackground": true,
            "ticks": "",
            "zerolinecolor": "white"
           },
           "yaxis": {
            "backgroundcolor": "#E5ECF6",
            "gridcolor": "white",
            "gridwidth": 2,
            "linecolor": "white",
            "showbackground": true,
            "ticks": "",
            "zerolinecolor": "white"
           },
           "zaxis": {
            "backgroundcolor": "#E5ECF6",
            "gridcolor": "white",
            "gridwidth": 2,
            "linecolor": "white",
            "showbackground": true,
            "ticks": "",
            "zerolinecolor": "white"
           }
          },
          "shapedefaults": {
           "line": {
            "color": "#2a3f5f"
           }
          },
          "ternary": {
           "aaxis": {
            "gridcolor": "white",
            "linecolor": "white",
            "ticks": ""
           },
           "baxis": {
            "gridcolor": "white",
            "linecolor": "white",
            "ticks": ""
           },
           "bgcolor": "#E5ECF6",
           "caxis": {
            "gridcolor": "white",
            "linecolor": "white",
            "ticks": ""
           }
          },
          "title": {
           "x": 0.05
          },
          "xaxis": {
           "automargin": true,
           "gridcolor": "white",
           "linecolor": "white",
           "ticks": "",
           "title": {
            "standoff": 15
           },
           "zerolinecolor": "white",
           "zerolinewidth": 2
          },
          "yaxis": {
           "automargin": true,
           "gridcolor": "white",
           "linecolor": "white",
           "ticks": "",
           "title": {
            "standoff": 15
           },
           "zerolinecolor": "white",
           "zerolinewidth": 2
          }
         }
        },
        "title": {
         "text": "Média da distribuição de cores"
        },
        "xaxis": {
         "title": {
          "text": "Valores"
         }
        },
        "yaxis": {
         "title": {
          "text": "Número de pixels"
         }
        }
       }
      }
     },
     "metadata": {},
     "output_type": "display_data"
    }
   ],
   "source": [
    "mean_color_distributions = np.mean(color_distributions, axis = 0)\n",
    "fig = go.Figure(\n",
    "    go.Bar(x = np.arange(256), y = mean_color_distributions, name = \"Distribuição de cores\"\n",
    "))\n",
    "fig.update_layout(\n",
    "    title = \"Média da distribuição de cores\",\n",
    "    xaxis_title = \"Valores\",\n",
    "    yaxis_title = \"Número de pixels\"\n",
    ")\n",
    "fig.show()"
   ]
  },
  {
   "cell_type": "markdown",
   "metadata": {},
   "source": [
    "# Carregando imagens"
   ]
  },
  {
   "cell_type": "code",
   "execution_count": 118,
   "metadata": {},
   "outputs": [],
   "source": [
    "img_size = 224\n",
    "\n",
    "def load_images_from_dir(directory, label):\n",
    "    images = []\n",
    "    labels = []\n",
    "    for filename in os.listdir(directory):\n",
    "        if filename.endswith(\".jpg\") or filename.endswith(\".png\"): \n",
    "            img_path = os.path.join(directory, filename)\n",
    "            img = cv2.imread(img_path, cv2.COLOR_BGR2RGB)\n",
    "            if img is not None:\n",
    "                # Redimensiona imagens\n",
    "                img = cv2.resize(img, (img_size, img_size))\n",
    "                images.append(img)\n",
    "                labels.append(label)\n",
    "    return images, labels"
   ]
  },
  {
   "cell_type": "code",
   "execution_count": 119,
   "metadata": {},
   "outputs": [],
   "source": [
    "benign_images, benign_labels = load_images_from_dir(bengin_path, label=0)  # label 0 para benign\n",
    "malignant_images, malignant_labels = load_images_from_dir(malignant_path, label=1)  # label 1 para malignant\n",
    "normal_images, normal_labels = load_images_from_dir(normal_path, label=2)  # label 2 para normal"
   ]
  },
  {
   "cell_type": "code",
   "execution_count": 120,
   "metadata": {},
   "outputs": [
    {
     "name": "stdout",
     "output_type": "stream",
     "text": [
      "Imagens: 3609\n",
      "Labels: Counter({2: 1208, 1: 1201, 0: 1200})\n"
     ]
    }
   ],
   "source": [
    "from collections import Counter\n",
    "\n",
    "images = benign_images + malignant_images + normal_images\n",
    "labels = benign_labels + malignant_labels + normal_labels\n",
    "images = np.array(images)\n",
    "labels = np.array(labels)\n",
    "\n",
    "print('Imagens:', len(images))\n",
    "print('Labels:', Counter(labels))"
   ]
  },
  {
   "cell_type": "code",
   "execution_count": 121,
   "metadata": {},
   "outputs": [
    {
     "name": "stdout",
     "output_type": "stream",
     "text": [
      "2887 (2887, 224, 224, 3)\n",
      "722 (722, 224, 224, 3)\n"
     ]
    }
   ],
   "source": [
    "from sklearn.model_selection import train_test_split\n",
    "\n",
    "X_train, X_test, y_train, y_test = train_test_split(images, labels, test_size=0.2, random_state=42, stratify=labels)\n",
    "print(len(X_train), X_train.shape)\n",
    "print(len(X_test), X_test.shape)"
   ]
  },
  {
   "cell_type": "markdown",
   "metadata": {},
   "source": [
    "# Normalizando"
   ]
  },
  {
   "cell_type": "code",
   "execution_count": 122,
   "metadata": {},
   "outputs": [],
   "source": [
    "from tensorflow.keras.preprocessing.image import ImageDataGenerator\n",
    "\n",
    "train_datagen = ImageDataGenerator(rescale=1./255)\n",
    "\n",
    "val_datagen = ImageDataGenerator(rescale=1./255)"
   ]
  },
  {
   "cell_type": "code",
   "execution_count": 123,
   "metadata": {},
   "outputs": [],
   "source": [
    "train_generator = train_datagen.flow(X_train, y_train, batch_size=8)\n",
    "val_generator = val_datagen.flow(X_test, y_test, batch_size=8, shuffle= False)"
   ]
  },
  {
   "cell_type": "markdown",
   "metadata": {},
   "source": [
    "# VGG16"
   ]
  },
  {
   "cell_type": "code",
   "execution_count": 124,
   "metadata": {},
   "outputs": [
    {
     "data": {
      "text/html": [
       "<pre style=\"white-space:pre;overflow-x:auto;line-height:normal;font-family:Menlo,'DejaVu Sans Mono',consolas,'Courier New',monospace\"><span style=\"font-weight: bold\">Model: \"sequential_10\"</span>\n",
       "</pre>\n"
      ],
      "text/plain": [
       "\u001b[1mModel: \"sequential_10\"\u001b[0m\n"
      ]
     },
     "metadata": {},
     "output_type": "display_data"
    },
    {
     "data": {
      "text/html": [
       "<pre style=\"white-space:pre;overflow-x:auto;line-height:normal;font-family:Menlo,'DejaVu Sans Mono',consolas,'Courier New',monospace\">┏━━━━━━━━━━━━━━━━━━━━━━━━━━━━━━━━━┳━━━━━━━━━━━━━━━━━━━━━━━━┳━━━━━━━━━━━━━━━┓\n",
       "┃<span style=\"font-weight: bold\"> Layer (type)                    </span>┃<span style=\"font-weight: bold\"> Output Shape           </span>┃<span style=\"font-weight: bold\">       Param # </span>┃\n",
       "┡━━━━━━━━━━━━━━━━━━━━━━━━━━━━━━━━━╇━━━━━━━━━━━━━━━━━━━━━━━━╇━━━━━━━━━━━━━━━┩\n",
       "│ vgg16 (<span style=\"color: #0087ff; text-decoration-color: #0087ff\">Functional</span>)              │ (<span style=\"color: #00d7ff; text-decoration-color: #00d7ff\">None</span>, <span style=\"color: #00af00; text-decoration-color: #00af00\">7</span>, <span style=\"color: #00af00; text-decoration-color: #00af00\">7</span>, <span style=\"color: #00af00; text-decoration-color: #00af00\">512</span>)      │    <span style=\"color: #00af00; text-decoration-color: #00af00\">14,714,688</span> │\n",
       "├─────────────────────────────────┼────────────────────────┼───────────────┤\n",
       "│ global_average_pooling2d_10     │ (<span style=\"color: #00d7ff; text-decoration-color: #00d7ff\">None</span>, <span style=\"color: #00af00; text-decoration-color: #00af00\">512</span>)            │             <span style=\"color: #00af00; text-decoration-color: #00af00\">0</span> │\n",
       "│ (<span style=\"color: #0087ff; text-decoration-color: #0087ff\">GlobalAveragePooling2D</span>)        │                        │               │\n",
       "├─────────────────────────────────┼────────────────────────┼───────────────┤\n",
       "│ dense_20 (<span style=\"color: #0087ff; text-decoration-color: #0087ff\">Dense</span>)                │ (<span style=\"color: #00d7ff; text-decoration-color: #00d7ff\">None</span>, <span style=\"color: #00af00; text-decoration-color: #00af00\">256</span>)            │       <span style=\"color: #00af00; text-decoration-color: #00af00\">131,328</span> │\n",
       "├─────────────────────────────────┼────────────────────────┼───────────────┤\n",
       "│ dropout_10 (<span style=\"color: #0087ff; text-decoration-color: #0087ff\">Dropout</span>)            │ (<span style=\"color: #00d7ff; text-decoration-color: #00d7ff\">None</span>, <span style=\"color: #00af00; text-decoration-color: #00af00\">256</span>)            │             <span style=\"color: #00af00; text-decoration-color: #00af00\">0</span> │\n",
       "├─────────────────────────────────┼────────────────────────┼───────────────┤\n",
       "│ dense_21 (<span style=\"color: #0087ff; text-decoration-color: #0087ff\">Dense</span>)                │ (<span style=\"color: #00d7ff; text-decoration-color: #00d7ff\">None</span>, <span style=\"color: #00af00; text-decoration-color: #00af00\">3</span>)              │           <span style=\"color: #00af00; text-decoration-color: #00af00\">771</span> │\n",
       "└─────────────────────────────────┴────────────────────────┴───────────────┘\n",
       "</pre>\n"
      ],
      "text/plain": [
       "┏━━━━━━━━━━━━━━━━━━━━━━━━━━━━━━━━━┳━━━━━━━━━━━━━━━━━━━━━━━━┳━━━━━━━━━━━━━━━┓\n",
       "┃\u001b[1m \u001b[0m\u001b[1mLayer (type)                   \u001b[0m\u001b[1m \u001b[0m┃\u001b[1m \u001b[0m\u001b[1mOutput Shape          \u001b[0m\u001b[1m \u001b[0m┃\u001b[1m \u001b[0m\u001b[1m      Param #\u001b[0m\u001b[1m \u001b[0m┃\n",
       "┡━━━━━━━━━━━━━━━━━━━━━━━━━━━━━━━━━╇━━━━━━━━━━━━━━━━━━━━━━━━╇━━━━━━━━━━━━━━━┩\n",
       "│ vgg16 (\u001b[38;5;33mFunctional\u001b[0m)              │ (\u001b[38;5;45mNone\u001b[0m, \u001b[38;5;34m7\u001b[0m, \u001b[38;5;34m7\u001b[0m, \u001b[38;5;34m512\u001b[0m)      │    \u001b[38;5;34m14,714,688\u001b[0m │\n",
       "├─────────────────────────────────┼────────────────────────┼───────────────┤\n",
       "│ global_average_pooling2d_10     │ (\u001b[38;5;45mNone\u001b[0m, \u001b[38;5;34m512\u001b[0m)            │             \u001b[38;5;34m0\u001b[0m │\n",
       "│ (\u001b[38;5;33mGlobalAveragePooling2D\u001b[0m)        │                        │               │\n",
       "├─────────────────────────────────┼────────────────────────┼───────────────┤\n",
       "│ dense_20 (\u001b[38;5;33mDense\u001b[0m)                │ (\u001b[38;5;45mNone\u001b[0m, \u001b[38;5;34m256\u001b[0m)            │       \u001b[38;5;34m131,328\u001b[0m │\n",
       "├─────────────────────────────────┼────────────────────────┼───────────────┤\n",
       "│ dropout_10 (\u001b[38;5;33mDropout\u001b[0m)            │ (\u001b[38;5;45mNone\u001b[0m, \u001b[38;5;34m256\u001b[0m)            │             \u001b[38;5;34m0\u001b[0m │\n",
       "├─────────────────────────────────┼────────────────────────┼───────────────┤\n",
       "│ dense_21 (\u001b[38;5;33mDense\u001b[0m)                │ (\u001b[38;5;45mNone\u001b[0m, \u001b[38;5;34m3\u001b[0m)              │           \u001b[38;5;34m771\u001b[0m │\n",
       "└─────────────────────────────────┴────────────────────────┴───────────────┘\n"
      ]
     },
     "metadata": {},
     "output_type": "display_data"
    },
    {
     "data": {
      "text/html": [
       "<pre style=\"white-space:pre;overflow-x:auto;line-height:normal;font-family:Menlo,'DejaVu Sans Mono',consolas,'Courier New',monospace\"><span style=\"font-weight: bold\"> Total params: </span><span style=\"color: #00af00; text-decoration-color: #00af00\">14,846,787</span> (56.64 MB)\n",
       "</pre>\n"
      ],
      "text/plain": [
       "\u001b[1m Total params: \u001b[0m\u001b[38;5;34m14,846,787\u001b[0m (56.64 MB)\n"
      ]
     },
     "metadata": {},
     "output_type": "display_data"
    },
    {
     "data": {
      "text/html": [
       "<pre style=\"white-space:pre;overflow-x:auto;line-height:normal;font-family:Menlo,'DejaVu Sans Mono',consolas,'Courier New',monospace\"><span style=\"font-weight: bold\"> Trainable params: </span><span style=\"color: #00af00; text-decoration-color: #00af00\">132,099</span> (516.01 KB)\n",
       "</pre>\n"
      ],
      "text/plain": [
       "\u001b[1m Trainable params: \u001b[0m\u001b[38;5;34m132,099\u001b[0m (516.01 KB)\n"
      ]
     },
     "metadata": {},
     "output_type": "display_data"
    },
    {
     "data": {
      "text/html": [
       "<pre style=\"white-space:pre;overflow-x:auto;line-height:normal;font-family:Menlo,'DejaVu Sans Mono',consolas,'Courier New',monospace\"><span style=\"font-weight: bold\"> Non-trainable params: </span><span style=\"color: #00af00; text-decoration-color: #00af00\">14,714,688</span> (56.13 MB)\n",
       "</pre>\n"
      ],
      "text/plain": [
       "\u001b[1m Non-trainable params: \u001b[0m\u001b[38;5;34m14,714,688\u001b[0m (56.13 MB)\n"
      ]
     },
     "metadata": {},
     "output_type": "display_data"
    }
   ],
   "source": [
    "from tensorflow.keras.applications import VGG16\n",
    "from tensorflow.keras import layers, models, optimizers\n",
    "\n",
    "base_model = VGG16(weights='imagenet', \n",
    "                            include_top=False, \n",
    "                            input_shape=(img_size,img_size,3),\n",
    "                            classes=3)\n",
    "\n",
    "base_model.trainable = False\n",
    "\n",
    "# Create a new model on top of VGG16\n",
    "vgg16_model = models.Sequential([\n",
    "    base_model,\n",
    "    layers.GlobalAveragePooling2D(),\n",
    "    layers.Dense(256, activation='relu'),\n",
    "    layers.Dropout(0.5),\n",
    "    layers.Dense(3, activation='softmax') \n",
    "])\n",
    "\n",
    "vgg16_model.summary()\n"
   ]
  },
  {
   "cell_type": "code",
   "execution_count": 125,
   "metadata": {},
   "outputs": [
    {
     "name": "stdout",
     "output_type": "stream",
     "text": [
      "Epoch 1/50\n"
     ]
    },
    {
     "name": "stderr",
     "output_type": "stream",
     "text": [
      "c:\\Users\\gmitoso\\AppData\\Local\\Programs\\Python\\Python312\\Lib\\site-packages\\keras\\src\\trainers\\data_adapters\\py_dataset_adapter.py:121: UserWarning:\n",
      "\n",
      "Your `PyDataset` class should call `super().__init__(**kwargs)` in its constructor. `**kwargs` can include `workers`, `use_multiprocessing`, `max_queue_size`. Do not pass these arguments to `fit()`, as they will be ignored.\n",
      "\n"
     ]
    },
    {
     "name": "stdout",
     "output_type": "stream",
     "text": [
      "\u001b[1m361/361\u001b[0m \u001b[32m━━━━━━━━━━━━━━━━━━━━\u001b[0m\u001b[37m\u001b[0m \u001b[1m358s\u001b[0m 992ms/step - accuracy: 0.3518 - loss: 1.2233 - val_accuracy: 0.6122 - val_loss: 0.9677\n",
      "Epoch 2/50\n",
      "\u001b[1m361/361\u001b[0m \u001b[32m━━━━━━━━━━━━━━━━━━━━\u001b[0m\u001b[37m\u001b[0m \u001b[1m346s\u001b[0m 960ms/step - accuracy: 0.4973 - loss: 0.9967 - val_accuracy: 0.6607 - val_loss: 0.8615\n",
      "Epoch 3/50\n",
      "\u001b[1m361/361\u001b[0m \u001b[32m━━━━━━━━━━━━━━━━━━━━\u001b[0m\u001b[37m\u001b[0m \u001b[1m295s\u001b[0m 818ms/step - accuracy: 0.6073 - loss: 0.8729 - val_accuracy: 0.6662 - val_loss: 0.7874\n",
      "Epoch 4/50\n",
      "\u001b[1m361/361\u001b[0m \u001b[32m━━━━━━━━━━━━━━━━━━━━\u001b[0m\u001b[37m\u001b[0m \u001b[1m256s\u001b[0m 710ms/step - accuracy: 0.6534 - loss: 0.7907 - val_accuracy: 0.7147 - val_loss: 0.7290\n",
      "Epoch 5/50\n",
      "\u001b[1m361/361\u001b[0m \u001b[32m━━━━━━━━━━━━━━━━━━━━\u001b[0m\u001b[37m\u001b[0m \u001b[1m262s\u001b[0m 726ms/step - accuracy: 0.6755 - loss: 0.7418 - val_accuracy: 0.7244 - val_loss: 0.6847\n",
      "Epoch 6/50\n",
      "\u001b[1m361/361\u001b[0m \u001b[32m━━━━━━━━━━━━━━━━━━━━\u001b[0m\u001b[37m\u001b[0m \u001b[1m267s\u001b[0m 740ms/step - accuracy: 0.6937 - loss: 0.7029 - val_accuracy: 0.7327 - val_loss: 0.6472\n",
      "Epoch 7/50\n",
      "\u001b[1m361/361\u001b[0m \u001b[32m━━━━━━━━━━━━━━━━━━━━\u001b[0m\u001b[37m\u001b[0m \u001b[1m264s\u001b[0m 732ms/step - accuracy: 0.7226 - loss: 0.6492 - val_accuracy: 0.7438 - val_loss: 0.6122\n",
      "Epoch 8/50\n",
      "\u001b[1m361/361\u001b[0m \u001b[32m━━━━━━━━━━━━━━━━━━━━\u001b[0m\u001b[37m\u001b[0m \u001b[1m260s\u001b[0m 721ms/step - accuracy: 0.7233 - loss: 0.6328 - val_accuracy: 0.7438 - val_loss: 0.5940\n",
      "Epoch 9/50\n",
      "\u001b[1m361/361\u001b[0m \u001b[32m━━━━━━━━━━━━━━━━━━━━\u001b[0m\u001b[37m\u001b[0m \u001b[1m264s\u001b[0m 730ms/step - accuracy: 0.7310 - loss: 0.6111 - val_accuracy: 0.7576 - val_loss: 0.5641\n",
      "Epoch 10/50\n",
      "\u001b[1m361/361\u001b[0m \u001b[32m━━━━━━━━━━━━━━━━━━━━\u001b[0m\u001b[37m\u001b[0m \u001b[1m267s\u001b[0m 739ms/step - accuracy: 0.7451 - loss: 0.5767 - val_accuracy: 0.7645 - val_loss: 0.5508\n",
      "Epoch 11/50\n",
      "\u001b[1m361/361\u001b[0m \u001b[32m━━━━━━━━━━━━━━━━━━━━\u001b[0m\u001b[37m\u001b[0m \u001b[1m266s\u001b[0m 736ms/step - accuracy: 0.7754 - loss: 0.5476 - val_accuracy: 0.7853 - val_loss: 0.5240\n",
      "Epoch 12/50\n",
      "\u001b[1m361/361\u001b[0m \u001b[32m━━━━━━━━━━━━━━━━━━━━\u001b[0m\u001b[37m\u001b[0m \u001b[1m267s\u001b[0m 740ms/step - accuracy: 0.7896 - loss: 0.5239 - val_accuracy: 0.7867 - val_loss: 0.5123\n",
      "Epoch 13/50\n",
      "\u001b[1m361/361\u001b[0m \u001b[32m━━━━━━━━━━━━━━━━━━━━\u001b[0m\u001b[37m\u001b[0m \u001b[1m268s\u001b[0m 743ms/step - accuracy: 0.7879 - loss: 0.5130 - val_accuracy: 0.7936 - val_loss: 0.4976\n",
      "Epoch 14/50\n",
      "\u001b[1m361/361\u001b[0m \u001b[32m━━━━━━━━━━━━━━━━━━━━\u001b[0m\u001b[37m\u001b[0m \u001b[1m269s\u001b[0m 746ms/step - accuracy: 0.7915 - loss: 0.5032 - val_accuracy: 0.7922 - val_loss: 0.4849\n",
      "Epoch 15/50\n",
      "\u001b[1m361/361\u001b[0m \u001b[32m━━━━━━━━━━━━━━━━━━━━\u001b[0m\u001b[37m\u001b[0m \u001b[1m267s\u001b[0m 739ms/step - accuracy: 0.8021 - loss: 0.4828 - val_accuracy: 0.8075 - val_loss: 0.4689\n",
      "Epoch 16/50\n",
      "\u001b[1m361/361\u001b[0m \u001b[32m━━━━━━━━━━━━━━━━━━━━\u001b[0m\u001b[37m\u001b[0m \u001b[1m265s\u001b[0m 736ms/step - accuracy: 0.8058 - loss: 0.4753 - val_accuracy: 0.8186 - val_loss: 0.4574\n",
      "Epoch 17/50\n",
      "\u001b[1m361/361\u001b[0m \u001b[32m━━━━━━━━━━━━━━━━━━━━\u001b[0m\u001b[37m\u001b[0m \u001b[1m265s\u001b[0m 736ms/step - accuracy: 0.8147 - loss: 0.4617 - val_accuracy: 0.8213 - val_loss: 0.4442\n",
      "Epoch 18/50\n",
      "\u001b[1m361/361\u001b[0m \u001b[32m━━━━━━━━━━━━━━━━━━━━\u001b[0m\u001b[37m\u001b[0m \u001b[1m271s\u001b[0m 750ms/step - accuracy: 0.8197 - loss: 0.4444 - val_accuracy: 0.8199 - val_loss: 0.4328\n",
      "Epoch 19/50\n",
      "\u001b[1m361/361\u001b[0m \u001b[32m━━━━━━━━━━━━━━━━━━━━\u001b[0m\u001b[37m\u001b[0m \u001b[1m275s\u001b[0m 763ms/step - accuracy: 0.8425 - loss: 0.4219 - val_accuracy: 0.8324 - val_loss: 0.4358\n",
      "Epoch 20/50\n",
      "\u001b[1m361/361\u001b[0m \u001b[32m━━━━━━━━━━━━━━━━━━━━\u001b[0m\u001b[37m\u001b[0m \u001b[1m272s\u001b[0m 754ms/step - accuracy: 0.8379 - loss: 0.4175 - val_accuracy: 0.8380 - val_loss: 0.4114\n",
      "Epoch 21/50\n",
      "\u001b[1m361/361\u001b[0m \u001b[32m━━━━━━━━━━━━━━━━━━━━\u001b[0m\u001b[37m\u001b[0m \u001b[1m272s\u001b[0m 754ms/step - accuracy: 0.8438 - loss: 0.4088 - val_accuracy: 0.8393 - val_loss: 0.4054\n",
      "Epoch 22/50\n",
      "\u001b[1m361/361\u001b[0m \u001b[32m━━━━━━━━━━━━━━━━━━━━\u001b[0m\u001b[37m\u001b[0m \u001b[1m272s\u001b[0m 755ms/step - accuracy: 0.8458 - loss: 0.3921 - val_accuracy: 0.8421 - val_loss: 0.3943\n",
      "Epoch 23/50\n",
      "\u001b[1m361/361\u001b[0m \u001b[32m━━━━━━━━━━━━━━━━━━━━\u001b[0m\u001b[37m\u001b[0m \u001b[1m278s\u001b[0m 770ms/step - accuracy: 0.8438 - loss: 0.4019 - val_accuracy: 0.8407 - val_loss: 0.3958\n",
      "Epoch 24/50\n",
      "\u001b[1m361/361\u001b[0m \u001b[32m━━━━━━━━━━━━━━━━━━━━\u001b[0m\u001b[37m\u001b[0m \u001b[1m280s\u001b[0m 777ms/step - accuracy: 0.8527 - loss: 0.3839 - val_accuracy: 0.8546 - val_loss: 0.3798\n",
      "Epoch 25/50\n",
      "\u001b[1m361/361\u001b[0m \u001b[32m━━━━━━━━━━━━━━━━━━━━\u001b[0m\u001b[37m\u001b[0m \u001b[1m282s\u001b[0m 781ms/step - accuracy: 0.8616 - loss: 0.3725 - val_accuracy: 0.8393 - val_loss: 0.3793\n",
      "Epoch 26/50\n",
      "\u001b[1m361/361\u001b[0m \u001b[32m━━━━━━━━━━━━━━━━━━━━\u001b[0m\u001b[37m\u001b[0m \u001b[1m281s\u001b[0m 777ms/step - accuracy: 0.8559 - loss: 0.3828 - val_accuracy: 0.8532 - val_loss: 0.3719\n",
      "Epoch 27/50\n",
      "\u001b[1m361/361\u001b[0m \u001b[32m━━━━━━━━━━━━━━━━━━━━\u001b[0m\u001b[37m\u001b[0m \u001b[1m278s\u001b[0m 771ms/step - accuracy: 0.8639 - loss: 0.3641 - val_accuracy: 0.8338 - val_loss: 0.3787\n",
      "Epoch 28/50\n",
      "\u001b[1m361/361\u001b[0m \u001b[32m━━━━━━━━━━━━━━━━━━━━\u001b[0m\u001b[37m\u001b[0m \u001b[1m274s\u001b[0m 760ms/step - accuracy: 0.8664 - loss: 0.3530 - val_accuracy: 0.8560 - val_loss: 0.3580\n",
      "Epoch 29/50\n",
      "\u001b[1m361/361\u001b[0m \u001b[32m━━━━━━━━━━━━━━━━━━━━\u001b[0m\u001b[37m\u001b[0m \u001b[1m277s\u001b[0m 767ms/step - accuracy: 0.8618 - loss: 0.3449 - val_accuracy: 0.8684 - val_loss: 0.3482\n",
      "Epoch 30/50\n",
      "\u001b[1m361/361\u001b[0m \u001b[32m━━━━━━━━━━━━━━━━━━━━\u001b[0m\u001b[37m\u001b[0m \u001b[1m270s\u001b[0m 748ms/step - accuracy: 0.8715 - loss: 0.3414 - val_accuracy: 0.8698 - val_loss: 0.3462\n",
      "Epoch 31/50\n",
      "\u001b[1m361/361\u001b[0m \u001b[32m━━━━━━━━━━━━━━━━━━━━\u001b[0m\u001b[37m\u001b[0m \u001b[1m266s\u001b[0m 738ms/step - accuracy: 0.8853 - loss: 0.3230 - val_accuracy: 0.8670 - val_loss: 0.3356\n",
      "Epoch 32/50\n",
      "\u001b[1m361/361\u001b[0m \u001b[32m━━━━━━━━━━━━━━━━━━━━\u001b[0m\u001b[37m\u001b[0m \u001b[1m264s\u001b[0m 731ms/step - accuracy: 0.8724 - loss: 0.3266 - val_accuracy: 0.8698 - val_loss: 0.3348\n",
      "Epoch 33/50\n",
      "\u001b[1m361/361\u001b[0m \u001b[32m━━━━━━━━━━━━━━━━━━━━\u001b[0m\u001b[37m\u001b[0m \u001b[1m329s\u001b[0m 912ms/step - accuracy: 0.8810 - loss: 0.3194 - val_accuracy: 0.8767 - val_loss: 0.3288\n",
      "Epoch 34/50\n",
      "\u001b[1m361/361\u001b[0m \u001b[32m━━━━━━━━━━━━━━━━━━━━\u001b[0m\u001b[37m\u001b[0m \u001b[1m339s\u001b[0m 939ms/step - accuracy: 0.8942 - loss: 0.3065 - val_accuracy: 0.8795 - val_loss: 0.3207\n",
      "Epoch 35/50\n",
      "\u001b[1m361/361\u001b[0m \u001b[32m━━━━━━━━━━━━━━━━━━━━\u001b[0m\u001b[37m\u001b[0m \u001b[1m368s\u001b[0m 1s/step - accuracy: 0.8908 - loss: 0.3034 - val_accuracy: 0.8476 - val_loss: 0.3341\n",
      "Epoch 36/50\n",
      "\u001b[1m361/361\u001b[0m \u001b[32m━━━━━━━━━━━━━━━━━━━━\u001b[0m\u001b[37m\u001b[0m \u001b[1m378s\u001b[0m 1s/step - accuracy: 0.9001 - loss: 0.2930 - val_accuracy: 0.8892 - val_loss: 0.3088\n",
      "Epoch 37/50\n",
      "\u001b[1m361/361\u001b[0m \u001b[32m━━━━━━━━━━━━━━━━━━━━\u001b[0m\u001b[37m\u001b[0m \u001b[1m380s\u001b[0m 1s/step - accuracy: 0.8956 - loss: 0.2933 - val_accuracy: 0.8657 - val_loss: 0.3189\n",
      "Epoch 38/50\n",
      "\u001b[1m361/361\u001b[0m \u001b[32m━━━━━━━━━━━━━━━━━━━━\u001b[0m\u001b[37m\u001b[0m \u001b[1m347s\u001b[0m 959ms/step - accuracy: 0.9015 - loss: 0.2810 - val_accuracy: 0.8767 - val_loss: 0.3067\n",
      "Epoch 39/50\n",
      "\u001b[1m361/361\u001b[0m \u001b[32m━━━━━━━━━━━━━━━━━━━━\u001b[0m\u001b[37m\u001b[0m \u001b[1m358s\u001b[0m 994ms/step - accuracy: 0.9039 - loss: 0.2828 - val_accuracy: 0.8850 - val_loss: 0.3021\n",
      "Epoch 40/50\n",
      "\u001b[1m361/361\u001b[0m \u001b[32m━━━━━━━━━━━━━━━━━━━━\u001b[0m\u001b[37m\u001b[0m \u001b[1m365s\u001b[0m 1s/step - accuracy: 0.8940 - loss: 0.2792 - val_accuracy: 0.8864 - val_loss: 0.2958\n",
      "Epoch 41/50\n",
      "\u001b[1m361/361\u001b[0m \u001b[32m━━━━━━━━━━━━━━━━━━━━\u001b[0m\u001b[37m\u001b[0m \u001b[1m350s\u001b[0m 970ms/step - accuracy: 0.9134 - loss: 0.2621 - val_accuracy: 0.8961 - val_loss: 0.2897\n",
      "Epoch 42/50\n",
      "\u001b[1m361/361\u001b[0m \u001b[32m━━━━━━━━━━━━━━━━━━━━\u001b[0m\u001b[37m\u001b[0m \u001b[1m345s\u001b[0m 955ms/step - accuracy: 0.8972 - loss: 0.2707 - val_accuracy: 0.8906 - val_loss: 0.2859\n",
      "Epoch 43/50\n",
      "\u001b[1m361/361\u001b[0m \u001b[32m━━━━━━━━━━━━━━━━━━━━\u001b[0m\u001b[37m\u001b[0m \u001b[1m335s\u001b[0m 928ms/step - accuracy: 0.9049 - loss: 0.2688 - val_accuracy: 0.8906 - val_loss: 0.2822\n",
      "Epoch 44/50\n",
      "\u001b[1m361/361\u001b[0m \u001b[32m━━━━━━━━━━━━━━━━━━━━\u001b[0m\u001b[37m\u001b[0m \u001b[1m340s\u001b[0m 944ms/step - accuracy: 0.9000 - loss: 0.2660 - val_accuracy: 0.8961 - val_loss: 0.2775\n",
      "Epoch 45/50\n",
      "\u001b[1m361/361\u001b[0m \u001b[32m━━━━━━━━━━━━━━━━━━━━\u001b[0m\u001b[37m\u001b[0m \u001b[1m322s\u001b[0m 891ms/step - accuracy: 0.9084 - loss: 0.2580 - val_accuracy: 0.8975 - val_loss: 0.2769\n",
      "Epoch 46/50\n",
      "\u001b[1m361/361\u001b[0m \u001b[32m━━━━━━━━━━━━━━━━━━━━\u001b[0m\u001b[37m\u001b[0m \u001b[1m347s\u001b[0m 961ms/step - accuracy: 0.9052 - loss: 0.2461 - val_accuracy: 0.8975 - val_loss: 0.2770\n",
      "Epoch 47/50\n",
      "\u001b[1m361/361\u001b[0m \u001b[32m━━━━━━━━━━━━━━━━━━━━\u001b[0m\u001b[37m\u001b[0m \u001b[1m347s\u001b[0m 961ms/step - accuracy: 0.9124 - loss: 0.2427 - val_accuracy: 0.8878 - val_loss: 0.2814\n",
      "Epoch 48/50\n",
      "\u001b[1m361/361\u001b[0m \u001b[32m━━━━━━━━━━━━━━━━━━━━\u001b[0m\u001b[37m\u001b[0m \u001b[1m363s\u001b[0m 1s/step - accuracy: 0.9242 - loss: 0.2403 - val_accuracy: 0.9044 - val_loss: 0.2651\n",
      "Epoch 49/50\n",
      "\u001b[1m361/361\u001b[0m \u001b[32m━━━━━━━━━━━━━━━━━━━━\u001b[0m\u001b[37m\u001b[0m \u001b[1m340s\u001b[0m 942ms/step - accuracy: 0.9196 - loss: 0.2376 - val_accuracy: 0.8809 - val_loss: 0.2787\n",
      "Epoch 50/50\n",
      "\u001b[1m361/361\u001b[0m \u001b[32m━━━━━━━━━━━━━━━━━━━━\u001b[0m\u001b[37m\u001b[0m \u001b[1m332s\u001b[0m 920ms/step - accuracy: 0.9219 - loss: 0.2390 - val_accuracy: 0.8989 - val_loss: 0.2607\n"
     ]
    }
   ],
   "source": [
    "from tensorflow.keras.callbacks import EarlyStopping\n",
    "\n",
    "early_stopping = EarlyStopping(monitor = \"val_loss\",\n",
    "                               patience = 5,\n",
    "                               restore_best_weights = True)\n",
    "\n",
    "vgg16_model.compile(\n",
    "    optimizer=optimizers.Adam(learning_rate=1e-4),\n",
    "    loss='sparse_categorical_crossentropy',\n",
    "    metrics=['accuracy']\n",
    ")\n",
    "\n",
    "history = vgg16_model.fit(\n",
    "    train_generator, \n",
    "    epochs= 50,\n",
    "    validation_data=val_generator,\n",
    "    callbacks=[\n",
    "        early_stopping,\n",
    "    ]\n",
    ")"
   ]
  },
  {
   "cell_type": "code",
   "execution_count": 126,
   "metadata": {},
   "outputs": [
    {
     "data": {
      "image/png": "[encoded data removed]",
      "text/plain": [
       "<Figure size 640x480 with 1 Axes>"
      ]
     },
     "metadata": {},
     "output_type": "display_data"
    },
    {
     "data": {
      "image/png": "[encoded data removed]",
      "text/plain": [
       "<Figure size 640x480 with 1 Axes>"
      ]
     },
     "metadata": {},
     "output_type": "display_data"
    }
   ],
   "source": [
    "plt.plot(history.history['accuracy'], label='Train')\n",
    "plt.plot(history.history['val_accuracy'], label='Validation')\n",
    "plt.title('Model Accuracy')\n",
    "plt.ylabel('Accuracy')\n",
    "plt.xlabel('Epoch')\n",
    "plt.legend()\n",
    "plt.show()\n",
    "\n",
    "plt.plot(history.history['loss'], label='Train')\n",
    "plt.plot(history.history['val_loss'], label='Validation')\n",
    "plt.title('Model Loss')\n",
    "plt.ylabel('Loss')\n",
    "plt.xlabel('Epoch')\n",
    "plt.legend()\n",
    "plt.show()"
   ]
  },
  {
   "cell_type": "code",
   "execution_count": 138,
   "metadata": {},
   "outputs": [
    {
     "name": "stdout",
     "output_type": "stream",
     "text": [
      "\u001b[1m23/23\u001b[0m \u001b[32m━━━━━━━━━━━━━━━━━━━━\u001b[0m\u001b[37m\u001b[0m \u001b[1m60s\u001b[0m 3s/step\n",
      "\n",
      "Confusion Matrix:\n",
      "[[219   2  19]\n",
      " [  1 235   4]\n",
      " [ 40   7 195]]\n",
      "\n",
      "Classification Report:\n",
      "              precision    recall  f1-score   support\n",
      "\n",
      "           0     0.8423    0.9125    0.8760       240\n",
      "           1     0.9631    0.9792    0.9711       240\n",
      "           2     0.8945    0.8058    0.8478       242\n",
      "\n",
      "    accuracy                         0.8989       722\n",
      "   macro avg     0.9000    0.8992    0.8983       722\n",
      "weighted avg     0.9000    0.8989    0.8982       722\n",
      "\n"
     ]
    }
   ],
   "source": [
    "from sklearn.metrics import classification_report, confusion_matrix\n",
    "\n",
    "y_pred = vgg16_model.predict(X_test / 255.0, verbose=1)\n",
    "y_pred_bool = np.argmax(y_pred, axis=1)\n",
    "\n",
    "report = classification_report(y_test, y_pred_bool, digits=4)\n",
    "conf_mat = confusion_matrix(y_true=y_test, y_pred=y_pred_bool)\n",
    "\n",
    "print(\"\\nConfusion Matrix:\")\n",
    "print(conf_mat)\n",
    "print(\"\\nClassification Report:\")\n",
    "print(report)"
   ]
  },
  {
   "cell_type": "markdown",
   "metadata": {},
   "source": [
    "# ResNet 152"
   ]
  },
  {
   "cell_type": "code",
   "execution_count": 132,
   "metadata": {},
   "outputs": [
    {
     "name": "stdout",
     "output_type": "stream",
     "text": [
      "Downloading data from https://storage.googleapis.com/tensorflow/keras-applications/resnet/resnet152v2_weights_tf_dim_ordering_tf_kernels_notop.h5\n",
      "\u001b[1m234545216/234545216\u001b[0m \u001b[32m━━━━━━━━━━━━━━━━━━━━\u001b[0m\u001b[37m\u001b[0m \u001b[1m8s\u001b[0m 0us/step\n"
     ]
    },
    {
     "data": {
      "text/html": [
       "<pre style=\"white-space:pre;overflow-x:auto;line-height:normal;font-family:Menlo,'DejaVu Sans Mono',consolas,'Courier New',monospace\"><span style=\"font-weight: bold\">Model: \"sequential_12\"</span>\n",
       "</pre>\n"
      ],
      "text/plain": [
       "\u001b[1mModel: \"sequential_12\"\u001b[0m\n"
      ]
     },
     "metadata": {},
     "output_type": "display_data"
    },
    {
     "data": {
      "text/html": [
       "<pre style=\"white-space:pre;overflow-x:auto;line-height:normal;font-family:Menlo,'DejaVu Sans Mono',consolas,'Courier New',monospace\">┏━━━━━━━━━━━━━━━━━━━━━━━━━━━━━━━━━┳━━━━━━━━━━━━━━━━━━━━━━━━┳━━━━━━━━━━━━━━━┓\n",
       "┃<span style=\"font-weight: bold\"> Layer (type)                    </span>┃<span style=\"font-weight: bold\"> Output Shape           </span>┃<span style=\"font-weight: bold\">       Param # </span>┃\n",
       "┡━━━━━━━━━━━━━━━━━━━━━━━━━━━━━━━━━╇━━━━━━━━━━━━━━━━━━━━━━━━╇━━━━━━━━━━━━━━━┩\n",
       "│ resnet152v2 (<span style=\"color: #0087ff; text-decoration-color: #0087ff\">Functional</span>)        │ (<span style=\"color: #00d7ff; text-decoration-color: #00d7ff\">None</span>, <span style=\"color: #00af00; text-decoration-color: #00af00\">7</span>, <span style=\"color: #00af00; text-decoration-color: #00af00\">7</span>, <span style=\"color: #00af00; text-decoration-color: #00af00\">2048</span>)     │    <span style=\"color: #00af00; text-decoration-color: #00af00\">58,331,648</span> │\n",
       "├─────────────────────────────────┼────────────────────────┼───────────────┤\n",
       "│ global_average_pooling2d_12     │ (<span style=\"color: #00d7ff; text-decoration-color: #00d7ff\">None</span>, <span style=\"color: #00af00; text-decoration-color: #00af00\">2048</span>)           │             <span style=\"color: #00af00; text-decoration-color: #00af00\">0</span> │\n",
       "│ (<span style=\"color: #0087ff; text-decoration-color: #0087ff\">GlobalAveragePooling2D</span>)        │                        │               │\n",
       "├─────────────────────────────────┼────────────────────────┼───────────────┤\n",
       "│ dense_24 (<span style=\"color: #0087ff; text-decoration-color: #0087ff\">Dense</span>)                │ (<span style=\"color: #00d7ff; text-decoration-color: #00d7ff\">None</span>, <span style=\"color: #00af00; text-decoration-color: #00af00\">256</span>)            │       <span style=\"color: #00af00; text-decoration-color: #00af00\">524,544</span> │\n",
       "├─────────────────────────────────┼────────────────────────┼───────────────┤\n",
       "│ dropout_12 (<span style=\"color: #0087ff; text-decoration-color: #0087ff\">Dropout</span>)            │ (<span style=\"color: #00d7ff; text-decoration-color: #00d7ff\">None</span>, <span style=\"color: #00af00; text-decoration-color: #00af00\">256</span>)            │             <span style=\"color: #00af00; text-decoration-color: #00af00\">0</span> │\n",
       "├─────────────────────────────────┼────────────────────────┼───────────────┤\n",
       "│ dense_25 (<span style=\"color: #0087ff; text-decoration-color: #0087ff\">Dense</span>)                │ (<span style=\"color: #00d7ff; text-decoration-color: #00d7ff\">None</span>, <span style=\"color: #00af00; text-decoration-color: #00af00\">3</span>)              │           <span style=\"color: #00af00; text-decoration-color: #00af00\">771</span> │\n",
       "└─────────────────────────────────┴────────────────────────┴───────────────┘\n",
       "</pre>\n"
      ],
      "text/plain": [
       "┏━━━━━━━━━━━━━━━━━━━━━━━━━━━━━━━━━┳━━━━━━━━━━━━━━━━━━━━━━━━┳━━━━━━━━━━━━━━━┓\n",
       "┃\u001b[1m \u001b[0m\u001b[1mLayer (type)                   \u001b[0m\u001b[1m \u001b[0m┃\u001b[1m \u001b[0m\u001b[1mOutput Shape          \u001b[0m\u001b[1m \u001b[0m┃\u001b[1m \u001b[0m\u001b[1m      Param #\u001b[0m\u001b[1m \u001b[0m┃\n",
       "┡━━━━━━━━━━━━━━━━━━━━━━━━━━━━━━━━━╇━━━━━━━━━━━━━━━━━━━━━━━━╇━━━━━━━━━━━━━━━┩\n",
       "│ resnet152v2 (\u001b[38;5;33mFunctional\u001b[0m)        │ (\u001b[38;5;45mNone\u001b[0m, \u001b[38;5;34m7\u001b[0m, \u001b[38;5;34m7\u001b[0m, \u001b[38;5;34m2048\u001b[0m)     │    \u001b[38;5;34m58,331,648\u001b[0m │\n",
       "├─────────────────────────────────┼────────────────────────┼───────────────┤\n",
       "│ global_average_pooling2d_12     │ (\u001b[38;5;45mNone\u001b[0m, \u001b[38;5;34m2048\u001b[0m)           │             \u001b[38;5;34m0\u001b[0m │\n",
       "│ (\u001b[38;5;33mGlobalAveragePooling2D\u001b[0m)        │                        │               │\n",
       "├─────────────────────────────────┼────────────────────────┼───────────────┤\n",
       "│ dense_24 (\u001b[38;5;33mDense\u001b[0m)                │ (\u001b[38;5;45mNone\u001b[0m, \u001b[38;5;34m256\u001b[0m)            │       \u001b[38;5;34m524,544\u001b[0m │\n",
       "├─────────────────────────────────┼────────────────────────┼───────────────┤\n",
       "│ dropout_12 (\u001b[38;5;33mDropout\u001b[0m)            │ (\u001b[38;5;45mNone\u001b[0m, \u001b[38;5;34m256\u001b[0m)            │             \u001b[38;5;34m0\u001b[0m │\n",
       "├─────────────────────────────────┼────────────────────────┼───────────────┤\n",
       "│ dense_25 (\u001b[38;5;33mDense\u001b[0m)                │ (\u001b[38;5;45mNone\u001b[0m, \u001b[38;5;34m3\u001b[0m)              │           \u001b[38;5;34m771\u001b[0m │\n",
       "└─────────────────────────────────┴────────────────────────┴───────────────┘\n"
      ]
     },
     "metadata": {},
     "output_type": "display_data"
    },
    {
     "data": {
      "text/html": [
       "<pre style=\"white-space:pre;overflow-x:auto;line-height:normal;font-family:Menlo,'DejaVu Sans Mono',consolas,'Courier New',monospace\"><span style=\"font-weight: bold\"> Total params: </span><span style=\"color: #00af00; text-decoration-color: #00af00\">58,856,963</span> (224.52 MB)\n",
       "</pre>\n"
      ],
      "text/plain": [
       "\u001b[1m Total params: \u001b[0m\u001b[38;5;34m58,856,963\u001b[0m (224.52 MB)\n"
      ]
     },
     "metadata": {},
     "output_type": "display_data"
    },
    {
     "data": {
      "text/html": [
       "<pre style=\"white-space:pre;overflow-x:auto;line-height:normal;font-family:Menlo,'DejaVu Sans Mono',consolas,'Courier New',monospace\"><span style=\"font-weight: bold\"> Trainable params: </span><span style=\"color: #00af00; text-decoration-color: #00af00\">525,315</span> (2.00 MB)\n",
       "</pre>\n"
      ],
      "text/plain": [
       "\u001b[1m Trainable params: \u001b[0m\u001b[38;5;34m525,315\u001b[0m (2.00 MB)\n"
      ]
     },
     "metadata": {},
     "output_type": "display_data"
    },
    {
     "data": {
      "text/html": [
       "<pre style=\"white-space:pre;overflow-x:auto;line-height:normal;font-family:Menlo,'DejaVu Sans Mono',consolas,'Courier New',monospace\"><span style=\"font-weight: bold\"> Non-trainable params: </span><span style=\"color: #00af00; text-decoration-color: #00af00\">58,331,648</span> (222.52 MB)\n",
       "</pre>\n"
      ],
      "text/plain": [
       "\u001b[1m Non-trainable params: \u001b[0m\u001b[38;5;34m58,331,648\u001b[0m (222.52 MB)\n"
      ]
     },
     "metadata": {},
     "output_type": "display_data"
    }
   ],
   "source": [
    "from tensorflow.keras.applications import ResNet152V2\n",
    "from tensorflow.keras import layers, models, optimizers\n",
    "\n",
    "base_model = ResNet152V2(weights='imagenet', \n",
    "                            include_top=False, \n",
    "                            input_shape=(img_size,img_size,3),\n",
    "                            classes=3)\n",
    "\n",
    "base_model.trainable = False\n",
    "\n",
    "# Create a new model on top of ResNet152V2\n",
    "resnet_model = models.Sequential([\n",
    "    base_model,\n",
    "    layers.GlobalAveragePooling2D(),\n",
    "    layers.Dense(256, activation='relu'),\n",
    "    layers.Dropout(0.5),\n",
    "    layers.Dense(3, activation='softmax') \n",
    "])\n",
    "\n",
    "resnet_model.summary()"
   ]
  },
  {
   "cell_type": "code",
   "execution_count": 133,
   "metadata": {},
   "outputs": [
    {
     "name": "stdout",
     "output_type": "stream",
     "text": [
      "Epoch 1/50\n",
      "\u001b[1m361/361\u001b[0m \u001b[32m━━━━━━━━━━━━━━━━━━━━\u001b[0m\u001b[37m\u001b[0m \u001b[1m440s\u001b[0m 1s/step - accuracy: 0.5259 - loss: 1.0866 - val_accuracy: 0.7853 - val_loss: 0.5101\n",
      "Epoch 2/50\n",
      "\u001b[1m361/361\u001b[0m \u001b[32m━━━━━━━━━━━━━━━━━━━━\u001b[0m\u001b[37m\u001b[0m \u001b[1m415s\u001b[0m 1s/step - accuracy: 0.7795 - loss: 0.5157 - val_accuracy: 0.8421 - val_loss: 0.4090\n",
      "Epoch 3/50\n",
      "\u001b[1m361/361\u001b[0m \u001b[32m━━━━━━━━━━━━━━━━━━━━\u001b[0m\u001b[37m\u001b[0m \u001b[1m400s\u001b[0m 1s/step - accuracy: 0.8358 - loss: 0.4074 - val_accuracy: 0.8712 - val_loss: 0.3464\n",
      "Epoch 4/50\n",
      "\u001b[1m361/361\u001b[0m \u001b[32m━━━━━━━━━━━━━━━━━━━━\u001b[0m\u001b[37m\u001b[0m \u001b[1m396s\u001b[0m 1s/step - accuracy: 0.8635 - loss: 0.3370 - val_accuracy: 0.8864 - val_loss: 0.3120\n",
      "Epoch 5/50\n",
      "\u001b[1m361/361\u001b[0m \u001b[32m━━━━━━━━━━━━━━━━━━━━\u001b[0m\u001b[37m\u001b[0m \u001b[1m391s\u001b[0m 1s/step - accuracy: 0.9055 - loss: 0.2696 - val_accuracy: 0.8850 - val_loss: 0.2760\n",
      "Epoch 6/50\n",
      "\u001b[1m361/361\u001b[0m \u001b[32m━━━━━━━━━━━━━━━━━━━━\u001b[0m\u001b[37m\u001b[0m \u001b[1m393s\u001b[0m 1s/step - accuracy: 0.9274 - loss: 0.2111 - val_accuracy: 0.8961 - val_loss: 0.2492\n",
      "Epoch 7/50\n",
      "\u001b[1m361/361\u001b[0m \u001b[32m━━━━━━━━━━━━━━━━━━━━\u001b[0m\u001b[37m\u001b[0m \u001b[1m384s\u001b[0m 1s/step - accuracy: 0.9289 - loss: 0.2054 - val_accuracy: 0.9141 - val_loss: 0.2320\n",
      "Epoch 8/50\n",
      "\u001b[1m361/361\u001b[0m \u001b[32m━━━━━━━━━━━━━━━━━━━━\u001b[0m\u001b[37m\u001b[0m \u001b[1m385s\u001b[0m 1s/step - accuracy: 0.9481 - loss: 0.1574 - val_accuracy: 0.9307 - val_loss: 0.2017\n",
      "Epoch 9/50\n",
      "\u001b[1m361/361\u001b[0m \u001b[32m━━━━━━━━━━━━━━━━━━━━\u001b[0m\u001b[37m\u001b[0m \u001b[1m386s\u001b[0m 1s/step - accuracy: 0.9485 - loss: 0.1513 - val_accuracy: 0.9238 - val_loss: 0.2017\n",
      "Epoch 10/50\n",
      "\u001b[1m361/361\u001b[0m \u001b[32m━━━━━━━━━━━━━━━━━━━━\u001b[0m\u001b[37m\u001b[0m \u001b[1m387s\u001b[0m 1s/step - accuracy: 0.9561 - loss: 0.1351 - val_accuracy: 0.9280 - val_loss: 0.1787\n",
      "Epoch 11/50\n",
      "\u001b[1m361/361\u001b[0m \u001b[32m━━━━━━━━━━━━━━━━━━━━\u001b[0m\u001b[37m\u001b[0m \u001b[1m304s\u001b[0m 842ms/step - accuracy: 0.9671 - loss: 0.1204 - val_accuracy: 0.9321 - val_loss: 0.1745\n",
      "Epoch 12/50\n",
      "\u001b[1m361/361\u001b[0m \u001b[32m━━━━━━━━━━━━━━━━━━━━\u001b[0m\u001b[37m\u001b[0m \u001b[1m299s\u001b[0m 829ms/step - accuracy: 0.9765 - loss: 0.0901 - val_accuracy: 0.9335 - val_loss: 0.1662\n",
      "Epoch 13/50\n",
      "\u001b[1m361/361\u001b[0m \u001b[32m━━━━━━━━━━━━━━━━━━━━\u001b[0m\u001b[37m\u001b[0m \u001b[1m300s\u001b[0m 830ms/step - accuracy: 0.9728 - loss: 0.1044 - val_accuracy: 0.9418 - val_loss: 0.1616\n",
      "Epoch 14/50\n",
      "\u001b[1m361/361\u001b[0m \u001b[32m━━━━━━━━━━━━━━━━━━━━\u001b[0m\u001b[37m\u001b[0m \u001b[1m300s\u001b[0m 832ms/step - accuracy: 0.9811 - loss: 0.0795 - val_accuracy: 0.9488 - val_loss: 0.1388\n",
      "Epoch 15/50\n",
      "\u001b[1m361/361\u001b[0m \u001b[32m━━━━━━━━━━━━━━━━━━━━\u001b[0m\u001b[37m\u001b[0m \u001b[1m298s\u001b[0m 825ms/step - accuracy: 0.9815 - loss: 0.0750 - val_accuracy: 0.9557 - val_loss: 0.1396\n",
      "Epoch 16/50\n",
      "\u001b[1m361/361\u001b[0m \u001b[32m━━━━━━━━━━━━━━━━━━━━\u001b[0m\u001b[37m\u001b[0m \u001b[1m298s\u001b[0m 825ms/step - accuracy: 0.9842 - loss: 0.0628 - val_accuracy: 0.9474 - val_loss: 0.1302\n",
      "Epoch 17/50\n",
      "\u001b[1m361/361\u001b[0m \u001b[32m━━━━━━━━━━━━━━━━━━━━\u001b[0m\u001b[37m\u001b[0m \u001b[1m301s\u001b[0m 834ms/step - accuracy: 0.9838 - loss: 0.0595 - val_accuracy: 0.9571 - val_loss: 0.1225\n",
      "Epoch 18/50\n",
      "\u001b[1m361/361\u001b[0m \u001b[32m━━━━━━━━━━━━━━━━━━━━\u001b[0m\u001b[37m\u001b[0m \u001b[1m299s\u001b[0m 827ms/step - accuracy: 0.9871 - loss: 0.0484 - val_accuracy: 0.9557 - val_loss: 0.1497\n",
      "Epoch 19/50\n",
      "\u001b[1m361/361\u001b[0m \u001b[32m━━━━━━━━━━━━━━━━━━━━\u001b[0m\u001b[37m\u001b[0m \u001b[1m299s\u001b[0m 827ms/step - accuracy: 0.9894 - loss: 0.0497 - val_accuracy: 0.9377 - val_loss: 0.1336\n",
      "Epoch 20/50\n",
      "\u001b[1m361/361\u001b[0m \u001b[32m━━━━━━━━━━━━━━━━━━━━\u001b[0m\u001b[37m\u001b[0m \u001b[1m297s\u001b[0m 824ms/step - accuracy: 0.9836 - loss: 0.0547 - val_accuracy: 0.9584 - val_loss: 0.1305\n",
      "Epoch 21/50\n",
      "\u001b[1m361/361\u001b[0m \u001b[32m━━━━━━━━━━━━━━━━━━━━\u001b[0m\u001b[37m\u001b[0m \u001b[1m298s\u001b[0m 826ms/step - accuracy: 0.9913 - loss: 0.0389 - val_accuracy: 0.9668 - val_loss: 0.1080\n",
      "Epoch 22/50\n",
      "\u001b[1m361/361\u001b[0m \u001b[32m━━━━━━━━━━━━━━━━━━━━\u001b[0m\u001b[37m\u001b[0m \u001b[1m297s\u001b[0m 822ms/step - accuracy: 0.9957 - loss: 0.0307 - val_accuracy: 0.9584 - val_loss: 0.1122\n",
      "Epoch 23/50\n",
      "\u001b[1m361/361\u001b[0m \u001b[32m━━━━━━━━━━━━━━━━━━━━\u001b[0m\u001b[37m\u001b[0m \u001b[1m298s\u001b[0m 825ms/step - accuracy: 0.9877 - loss: 0.0416 - val_accuracy: 0.9557 - val_loss: 0.1203\n",
      "Epoch 24/50\n",
      "\u001b[1m361/361\u001b[0m \u001b[32m━━━━━━━━━━━━━━━━━━━━\u001b[0m\u001b[37m\u001b[0m \u001b[1m297s\u001b[0m 824ms/step - accuracy: 0.9933 - loss: 0.0321 - val_accuracy: 0.9626 - val_loss: 0.1142\n",
      "Epoch 25/50\n",
      "\u001b[1m361/361\u001b[0m \u001b[32m━━━━━━━━━━━━━━━━━━━━\u001b[0m\u001b[37m\u001b[0m \u001b[1m298s\u001b[0m 827ms/step - accuracy: 0.9954 - loss: 0.0284 - val_accuracy: 0.9612 - val_loss: 0.1109\n",
      "Epoch 26/50\n",
      "\u001b[1m361/361\u001b[0m \u001b[32m━━━━━━━━━━━━━━━━━━━━\u001b[0m\u001b[37m\u001b[0m \u001b[1m299s\u001b[0m 828ms/step - accuracy: 0.9933 - loss: 0.0276 - val_accuracy: 0.9501 - val_loss: 0.1155\n"
     ]
    }
   ],
   "source": [
    "resnet_model.compile(\n",
    "    optimizer=optimizers.Adam(learning_rate=1e-4),\n",
    "    loss='sparse_categorical_crossentropy',\n",
    "    metrics=['accuracy']\n",
    ")\n",
    "\n",
    "history = resnet_model.fit(\n",
    "    train_generator, \n",
    "    epochs= 50,\n",
    "    validation_data=val_generator,\n",
    "    callbacks=[\n",
    "        early_stopping,\n",
    "    ]\n",
    ")"
   ]
  },
  {
   "cell_type": "code",
   "execution_count": 134,
   "metadata": {},
   "outputs": [
    {
     "data": {
      "image/png": "[encoded data removed]",
      "text/plain": [
       "<Figure size 640x480 with 1 Axes>"
      ]
     },
     "metadata": {},
     "output_type": "display_data"
    },
    {
     "data": {
      "image/png": "[encoded data removed]",
      "text/plain": [
       "<Figure size 640x480 with 1 Axes>"
      ]
     },
     "metadata": {},
     "output_type": "display_data"
    }
   ],
   "source": [
    "plt.plot(history.history['accuracy'], label='Train')\n",
    "plt.plot(history.history['val_accuracy'], label='Validation')\n",
    "plt.title('Model Accuracy')\n",
    "plt.ylabel('Accuracy')\n",
    "plt.xlabel('Epoch')\n",
    "plt.legend()\n",
    "plt.show()\n",
    "\n",
    "plt.plot(history.history['loss'], label='Train')\n",
    "plt.plot(history.history['val_loss'], label='Validation')\n",
    "plt.title('Model Loss')\n",
    "plt.ylabel('Loss')\n",
    "plt.xlabel('Epoch')\n",
    "plt.legend()\n",
    "plt.show()"
   ]
  },
  {
   "cell_type": "code",
   "execution_count": 136,
   "metadata": {},
   "outputs": [
    {
     "name": "stdout",
     "output_type": "stream",
     "text": [
      "\u001b[1m23/23\u001b[0m \u001b[32m━━━━━━━━━━━━━━━━━━━━\u001b[0m\u001b[37m\u001b[0m \u001b[1m45s\u001b[0m 2s/step\n",
      "\n",
      "Confusion Matrix:\n",
      "[[232   4   4]\n",
      " [  2 237   1]\n",
      " [  8   5 229]]\n",
      "\n",
      "Classification Report:\n",
      "              precision    recall  f1-score   support\n",
      "\n",
      "           0     0.9587    0.9667    0.9627       240\n",
      "           1     0.9634    0.9875    0.9753       240\n",
      "           2     0.9786    0.9463    0.9622       242\n",
      "\n",
      "    accuracy                         0.9668       722\n",
      "   macro avg     0.9669    0.9668    0.9667       722\n",
      "weighted avg     0.9669    0.9668    0.9667       722\n",
      "\n"
     ]
    }
   ],
   "source": [
    "y_pred = resnet_model.predict(X_test / 255.0, verbose=1)\n",
    "y_pred_bool = np.argmax(y_pred, axis=1)\n",
    "\n",
    "report = classification_report(y_test, y_pred_bool, digits=4)\n",
    "conf_mat = confusion_matrix(y_true=y_test, y_pred=y_pred_bool)\n",
    "\n",
    "print(\"\\nConfusion Matrix:\")\n",
    "print(conf_mat)\n",
    "print(\"\\nClassification Report:\")\n",
    "print(report)"
   ]
  }
 ],
 "metadata": {
  "kaggle": {
   "accelerator": "nvidiaTeslaT4",
   "dataSources": [
    {
     "datasetId": 1748489,
     "sourceId": 2882784,
     "sourceType": "datasetVersion"
    }
   ],
   "dockerImageVersionId": 30627,
   "isGpuEnabled": true,
   "isInternetEnabled": true,
   "language": "python",
   "sourceType": "notebook"
  },
  "kernelspec": {
   "display_name": "Python 3",
   "language": "python",
   "name": "python3"
  },
  "language_info": {
   "codemirror_mode": {
    "name": "ipython",
    "version": 3
   },
   "file_extension": ".py",
   "mimetype": "text/x-python",
   "name": "python",
   "nbconvert_exporter": "python",
   "pygments_lexer": "ipython3",
   "version": "3.12.6"
  }
 },
 "nbformat": 4,
 "nbformat_minor": 4
}
